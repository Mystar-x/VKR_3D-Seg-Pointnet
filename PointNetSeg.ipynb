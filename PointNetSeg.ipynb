{
  "nbformat": 4,
  "nbformat_minor": 0,
  "metadata": {
    "kernelspec": {
      "name": "python3",
      "display_name": "Python 3"
    },
    "language_info": {
      "codemirror_mode": {
        "name": "ipython",
        "version": 3
      },
      "file_extension": ".py",
      "mimetype": "text/x-python",
      "name": "python",
      "nbconvert_exporter": "python",
      "pygments_lexer": "ipython3",
      "version": "3.7.1"
    },
    "colab": {
      "name": "PointNetSeg.ipynb",
      "provenance": [],
      "collapsed_sections": [
        "caWQIszA8r-H"
      ],
      "machine_shape": "hm",
      "include_colab_link": true
    },
    "accelerator": "GPU"
  },
  "cells": [
    {
      "cell_type": "markdown",
      "metadata": {
        "id": "view-in-github",
        "colab_type": "text"
      },
      "source": [
        "<a href=\"https://colab.research.google.com/github/Yansz/VKR_3D-Seg-Pointnet/blob/master/PointNetSeg.ipynb\" target=\"_parent\"><img src=\"https://colab.research.google.com/assets/colab-badge.svg\" alt=\"Open In Colab\"/></a>"
      ]
    },
    {
      "cell_type": "code",
      "metadata": {
        "id": "_7XLkwdRHrvv",
        "colab_type": "code",
        "outputId": "d9a4fa0a-005f-4cc8-c2a3-c9d9c4f16207",
        "colab": {
          "base_uri": "https://localhost:8080/",
          "height": 35
        }
      },
      "source": [
        "from google.colab import drive\n",
        "drive.mount('/content/drive')"
      ],
      "execution_count": 0,
      "outputs": [
        {
          "output_type": "stream",
          "text": [
            "Drive already mounted at /content/drive; to attempt to forcibly remount, call drive.mount(\"/content/drive\", force_remount=True).\n"
          ],
          "name": "stdout"
        }
      ]
    },
    {
      "cell_type": "code",
      "metadata": {
        "id": "PLGjzwFkGUbV",
        "colab_type": "code",
        "outputId": "e66dd14a-723b-493e-f8f9-c643252a31e7",
        "colab": {
          "base_uri": "https://localhost:8080/",
          "height": 86
        }
      },
      "source": [
        "!pip install path.py;\n",
        "from path import Path\n",
        "import sys\n",
        "root_dir = \"/content/drive/My Drive/PointN/pointnet\"\n",
        "sys.path.append(root_dir) "
      ],
      "execution_count": 0,
      "outputs": [
        {
          "output_type": "stream",
          "text": [
            "Requirement already satisfied: path.py in /usr/local/lib/python3.6/dist-packages (12.4.0)\n",
            "Requirement already satisfied: path<13.2 in /usr/local/lib/python3.6/dist-packages (from path.py) (13.1.0)\n",
            "Requirement already satisfied: importlib-metadata>=0.5; python_version < \"3.8\" in /usr/local/lib/python3.6/dist-packages (from path<13.2->path.py) (1.5.0)\n",
            "Requirement already satisfied: zipp>=0.5 in /usr/local/lib/python3.6/dist-packages (from importlib-metadata>=0.5; python_version < \"3.8\"->path<13.2->path.py) (3.1.0)\n"
          ],
          "name": "stdout"
        }
      ]
    },
    {
      "cell_type": "code",
      "metadata": {
        "id": "LB7sxVUtGUbY",
        "colab_type": "code",
        "colab": {}
      },
      "source": [
        "import plotly.graph_objects as go\n",
        "import numpy as np\n",
        "import scipy.spatial.distance\n",
        "import math\n",
        "import random\n",
        "import source.utils as utils"
      ],
      "execution_count": 0,
      "outputs": []
    },
    {
      "cell_type": "code",
      "metadata": {
        "id": "31PRdnvMOjLd",
        "colab_type": "code",
        "colab": {}
      },
      "source": [
        "import random\n",
        "\n",
        "def read_pts(file):\n",
        "    verts = np.genfromtxt(file)\n",
        "    return utils.cent_norm(verts)\n",
        "    #return verts\n",
        "\n",
        "def read_seg(file):\n",
        "    verts = np.genfromtxt(file, dtype= (int))\n",
        "    return verts\n",
        "\n",
        "def sample_2000(pts, pts_cat):    \n",
        "    res1 = np.concatenate((pts,np.reshape(pts_cat, (pts_cat.shape[0], 1))), axis= 1)\n",
        "    res = np.asarray(random.choices(res1, weights=None, cum_weights=None, k=2000))\n",
        "    images = res[:, 0:3]\n",
        "    categories = res[:, 3]\n",
        "    categories-=np.ones(categories.shape)\n",
        "    return images, categories"
      ],
      "execution_count": 0,
      "outputs": []
    },
    {
      "cell_type": "markdown",
      "metadata": {
        "id": "4KNH5UtbWWok",
        "colab_type": "text"
      },
      "source": [
        "## Model"
      ]
    },
    {
      "cell_type": "code",
      "metadata": {
        "id": "yOOrEYSnWV7f",
        "colab_type": "code",
        "colab": {}
      },
      "source": [
        "import torch\n",
        "import torch.nn as nn\n",
        "import numpy as np\n",
        "import torch.nn.functional as F\n",
        "\n",
        "class Tnet(nn.Module):\n",
        "   def __init__(self, k=3):\n",
        "      super().__init__()\n",
        "      self.k=k\n",
        "      self.conv1 = nn.Conv1d(k,64,1)\n",
        "      self.conv2 = nn.Conv1d(64,128,1)\n",
        "      self.conv3 = nn.Conv1d(128,1024,1)\n",
        "      self.fc1 = nn.Linear(1024,512)\n",
        "      self.fc2 = nn.Linear(512,256)\n",
        "      self.fc3 = nn.Linear(256,k*k)\n",
        "\n",
        "      self.bn1 = nn.BatchNorm1d(64)\n",
        "      self.bn2 = nn.BatchNorm1d(128)\n",
        "      self.bn3 = nn.BatchNorm1d(1024)\n",
        "      self.bn4 = nn.BatchNorm1d(512)\n",
        "      self.bn5 = nn.BatchNorm1d(256)\n",
        "       \n",
        "\n",
        "   def forward(self, input):\n",
        "      # input.shape == (bs,n,3)\n",
        "      bs = input.size(0)\n",
        "      xb = F.relu(self.bn1(self.conv1(input)))\n",
        "      xb = F.relu(self.bn2(self.conv2(xb)))\n",
        "      xb = F.relu(self.bn3(self.conv3(xb)))\n",
        "      pool = nn.MaxPool1d(xb.size(-1))(xb)\n",
        "      flat = nn.Flatten(1)(pool)\n",
        "      xb = F.relu(self.bn4(self.fc1(flat)))\n",
        "      xb = F.relu(self.bn5(self.fc2(xb)))\n",
        "      \n",
        "      #initialize as identity\n",
        "      init = torch.eye(self.k, requires_grad=True).repeat(bs,1,1)\n",
        "      if xb.is_cuda:\n",
        "        init=init.cuda()\n",
        "      matrix = self.fc3(xb).view(-1,self.k,self.k) + init\n",
        "      return matrix\n",
        "\n",
        "\n",
        "class Transform(nn.Module):\n",
        "   def __init__(self):\n",
        "        super().__init__()\n",
        "        self.input_transform = Tnet(k=3)\n",
        "        self.feature_transform = Tnet(k=128)\n",
        "        self.fc1 = nn.Conv1d(3,64,1)\n",
        "        self.fc2 = nn.Conv1d(64,128,1) \n",
        "        self.fc3 = nn.Conv1d(128,128,1)\n",
        "        self.fc4 = nn.Conv1d(128,512,1)\n",
        "        self.fc5 = nn.Conv1d(512,2048,1)\n",
        "\n",
        "        \n",
        "        self.bn1 = nn.BatchNorm1d(64)\n",
        "        self.bn2 = nn.BatchNorm1d(128)\n",
        "        self.bn3 = nn.BatchNorm1d(128)\n",
        "        self.bn4 = nn.BatchNorm1d(512)\n",
        "        self.bn5 = nn.BatchNorm1d(2048)\n",
        "\n",
        "   def forward(self, input):\n",
        "        n_pts = input.size()[2]\n",
        "        matrix3x3 = self.input_transform(input)\n",
        "        xb = torch.bmm(torch.transpose(input,1,2), matrix3x3).transpose(1,2)\n",
        "        outs = []\n",
        "        \n",
        "        out1 = F.relu(self.bn1(self.fc1(xb)))\n",
        "        outs.append(out1)\n",
        "        out2 = F.relu(self.bn2(self.fc2(out1)))\n",
        "        outs.append(out2)\n",
        "        out3 = F.relu(self.bn3(self.fc3(out2)))\n",
        "        outs.append(out3)\n",
        "        matrix128x128 = self.feature_transform(out3)\n",
        "        \n",
        "        out4 = torch.bmm(torch.transpose(out3,1,2), matrix128x128).transpose(1,2) \n",
        "        outs.append(out4)\n",
        "        out5 = F.relu(self.bn4(self.fc4(out4)))\n",
        "        outs.append(out5)\n",
        "       \n",
        "        xb = self.bn5(self.fc5(out5))\n",
        "        \n",
        "        xb = nn.MaxPool1d(xb.size(-1))(xb)\n",
        "        out6 = nn.Flatten(1)(xb).repeat(n_pts,1,1).transpose(0,2).transpose(0,1)#.repeat(1, 1, n_pts)\n",
        "        outs.append(out6)\n",
        "        \n",
        "        \n",
        "        return outs, matrix3x3, matrix128x128\n",
        "\n",
        "\n",
        "class PointNetSeg(nn.Module):\n",
        "    def __init__(self, classes = 10):\n",
        "        super().__init__()\n",
        "        self.transform = Transform()\n",
        "\n",
        "        self.fc1 = nn.Conv1d(3008,256,1) \n",
        "        self.fc2 = nn.Conv1d(256,256,1) \n",
        "        self.fc3 = nn.Conv1d(256,128,1) \n",
        "        self.fc4 = nn.Conv1d(128,4,1) \n",
        "        \n",
        "\n",
        "        self.bn1 = nn.BatchNorm1d(256)\n",
        "        self.bn2 = nn.BatchNorm1d(256)\n",
        "        \n",
        "        self.bn3 = nn.BatchNorm1d(128)\n",
        "        self.bn4 = nn.BatchNorm1d(4)\n",
        "        \n",
        "        self.logsoftmax = nn.LogSoftmax(dim=1)\n",
        "        \n",
        "\n",
        "    def forward(self, input):\n",
        "        inputs, matrix3x3, matrix128x128 = self.transform(input)\n",
        "        stack = torch.cat(inputs,1)\n",
        "        \n",
        "        xb = F.relu(self.bn1(self.fc1(stack)))\n",
        "       \n",
        "        xb = F.relu(self.bn2(self.fc2(xb)))\n",
        "    \n",
        "        xb = F.relu(self.bn3(self.fc3(xb)))\n",
        "        \n",
        "        output = F.relu(self.bn4(self.fc4(xb)))\n",
        "        \n",
        "        return self.logsoftmax(output), matrix3x3, matrix128x128\n",
        "\n"
      ],
      "execution_count": 0,
      "outputs": []
    },
    {
      "cell_type": "markdown",
      "metadata": {
        "id": "HdXchtFBWZYG",
        "colab_type": "text"
      },
      "source": [
        "## Dataset"
      ]
    },
    {
      "cell_type": "code",
      "metadata": {
        "id": "ut50_1uQCFCc",
        "colab_type": "code",
        "colab": {}
      },
      "source": [
        "from __future__ import print_function, division\n",
        "import os\n",
        "import torch\n",
        "import pandas as pd\n",
        "from skimage import io, transform\n",
        "import numpy as np\n",
        "import matplotlib.pyplot as plt\n",
        "from torch.utils.data import Dataset, DataLoader\n",
        "from torchvision import transforms\n",
        "from torch.utils.data.dataset import random_split\n",
        "\n",
        "class Data(Dataset):\n",
        "    \"\"\"Face Landmarks dataset.\"\"\"\n",
        "\n",
        "    def __init__(self, root_dir, valid=False, transform=None):\n",
        "        \n",
        "        self.root_dir = root_dir\n",
        "        self.files = []\n",
        "        self.valid=valid\n",
        "\n",
        "        newdir = root_dir + '/datasets/02691156/expert_verified/points_label/'\n",
        "\n",
        "        for file in os.listdir(newdir):\n",
        "            o = {}\n",
        "            o['category'] = newdir + file\n",
        "            o['img_path'] = root_dir + '/datasets/02691156/points/'+ file.replace('.seg', '.pts')\n",
        "            self.files.append(o)\n",
        "       \n",
        "\n",
        "    def __len__(self):\n",
        "        return len(self.files)\n",
        "\n",
        "    def __getitem__(self, idx):\n",
        "        img_path = self.files[idx]['img_path']\n",
        "        category = self.files[idx]['category']\n",
        "        with open(img_path, 'r') as f:\n",
        "            image1 = read_pts(f)\n",
        "        with open(category, 'r') as f:  \n",
        "            category1 = read_seg(f)\n",
        "        image2, category2 = sample_2000(image1, category1)\n",
        "        if not self.valid:\n",
        "            theta = random.random()*360\n",
        "            image2 = utils.rotation_z(utils.add_noise(image2), theta)\n",
        "        \n",
        "        return {'image': np.array(image2, dtype=\"float32\"), 'category': category2.astype(int)}\n"
      ],
      "execution_count": 0,
      "outputs": []
    },
    {
      "cell_type": "code",
      "metadata": {
        "id": "1mUcFS3Uwci6",
        "colab_type": "code",
        "outputId": "bd0cfbc6-a064-4e52-a041-105dd69d2d9d",
        "colab": {
          "base_uri": "https://localhost:8080/",
          "height": 69
        }
      },
      "source": [
        "import source.utils as utils\n",
        "dset = Data(root_dir , transform=None)\n",
        "train_num = int(len(dset) * 0.95)\n",
        "val_num = int(len(dset) *0.05)\n",
        "if int(len(dset)) - train_num -  val_num >0 :\n",
        "    train_num = train_num + 1\n",
        "elif int(len(dset)) - train_num -  val_num < 0:\n",
        "    train_num = train_num -1\n",
        "#train_dataset, val_dataset = random_split(dset, [3000, 118])\n",
        "train_dataset, val_dataset = random_split(dset, [train_num, val_num])\n",
        "val_dataset.valid=True\n",
        "\n",
        "print('######### Dataset class created #########')\n",
        "print('Number of images: ', len(dset))\n",
        "print('Sample image shape: ', dset[0]['image'].shape)\n",
        "#print('Sample image points categories', dset[0]['category'], end='\\n\\n')\n",
        "\n",
        "train_loader = DataLoader(dataset=train_dataset, batch_size=32 )\n",
        "val_loader = DataLoader(dataset=val_dataset, batch_size=32)\n",
        "\n",
        "#dataloader = torch.utils.data.DataLoader(dset, batch_size=4, shuffle=True, num_workers=4)"
      ],
      "execution_count": 0,
      "outputs": [
        {
          "output_type": "stream",
          "text": [
            "######### Dataset class created #########\n",
            "Number of images:  2690\n",
            "Sample image shape:  (2000, 3)\n"
          ],
          "name": "stdout"
        }
      ]
    },
    {
      "cell_type": "markdown",
      "metadata": {
        "id": "gg9RjG7awgVK",
        "colab_type": "text"
      },
      "source": [
        "## Training loop"
      ]
    },
    {
      "cell_type": "code",
      "metadata": {
        "id": "bq9AUuN5WRxI",
        "colab_type": "code",
        "outputId": "ce9c4f36-c3a6-4632-bbc9-cee15c4588e2",
        "colab": {
          "base_uri": "https://localhost:8080/",
          "height": 35
        }
      },
      "source": [
        "device = torch.device(\"cuda:0\" if torch.cuda.is_available() else \"cpu\")\n",
        "print(device)"
      ],
      "execution_count": 0,
      "outputs": [
        {
          "output_type": "stream",
          "text": [
            "cuda:0\n"
          ],
          "name": "stdout"
        }
      ]
    },
    {
      "cell_type": "code",
      "metadata": {
        "id": "cqXW9-oJwEPm",
        "colab_type": "code",
        "colab": {}
      },
      "source": [
        "pointnet = PointNetSeg()"
      ],
      "execution_count": 0,
      "outputs": []
    },
    {
      "cell_type": "code",
      "metadata": {
        "id": "6mA80v2ywHhw",
        "colab_type": "code",
        "colab": {}
      },
      "source": [
        "pointnet.to(device);"
      ],
      "execution_count": 0,
      "outputs": []
    },
    {
      "cell_type": "code",
      "metadata": {
        "id": "JV09EA4_wJnR",
        "colab_type": "code",
        "colab": {}
      },
      "source": [
        "optimizer = torch.optim.Adam(pointnet.parameters(), lr=0.001)"
      ],
      "execution_count": 0,
      "outputs": []
    },
    {
      "cell_type": "code",
      "metadata": {
        "id": "aDb9rPb_wPWj",
        "colab_type": "code",
        "colab": {}
      },
      "source": [
        "def pointnetloss(outputs, labels, m3x3, m128x128, alpha = 0.0001):\n",
        "    criterion = torch.nn.NLLLoss()\n",
        "    bs=outputs.size(0)\n",
        "    id3x3 = torch.eye(3, requires_grad=True).repeat(bs,1,1)\n",
        "    id128x128 = torch.eye(128, requires_grad=True).repeat(bs,1,1)\n",
        "    if outputs.is_cuda:\n",
        "        id3x3=id3x3.cuda()\n",
        "        id128x128=id128x128.cuda()\n",
        "    diff3x3 = id3x3-torch.bmm(m3x3,m3x3.transpose(1,2))\n",
        "    diff128x128 = id128x128-torch.bmm(m128x128,m128x128.transpose(1,2))\n",
        "    return criterion(outputs, labels) + alpha * (torch.norm(diff3x3)+torch.norm(diff128x128)) / float(bs)\n",
        "        "
      ],
      "execution_count": 0,
      "outputs": []
    },
    {
      "cell_type": "code",
      "metadata": {
        "id": "CgaPisZFwVzh",
        "colab_type": "code",
        "colab": {}
      },
      "source": [
        "def train(model, train_loader, val_loader=None,  epochs=15, save=True):\n",
        "    for epoch in range(epochs): \n",
        "        pointnet.train()\n",
        "        running_loss = 0.0\n",
        "        for i, data in enumerate(train_loader, 0):\n",
        "            inputs, labels = data['image'].to(device), data['category'].to(device)\n",
        "            optimizer.zero_grad()\n",
        "            outputs, m3x3, m64x64 = pointnet(inputs.transpose(1,2))\n",
        "\n",
        "            loss = pointnetloss(outputs, labels, m3x3, m64x64)\n",
        "            loss.backward()\n",
        "            optimizer.step()\n",
        "\n",
        "            # print statistics\n",
        "            running_loss += loss.item()\n",
        "            if i % 10 == 9:    # print every 10 mini-batches\n",
        "                    print('[%d, %5d] loss: %.3f' %\n",
        "                        (epoch + 1, i + 1, running_loss / 10))\n",
        "                    running_loss = 0.0\n",
        "\n",
        "        pointnet.eval()\n",
        "        correct = total = 0\n",
        "\n",
        "        # validation\n",
        "        if val_loader:\n",
        "            with torch.no_grad():\n",
        "                for data in val_loader:\n",
        "                    inputs, labels = data['image'].to(device), data['category'].to(device)\n",
        "                    outputs, __, __ = pointnet(inputs.transpose(1,2))\n",
        "                    _, predicted = torch.max(outputs.data, 1)\n",
        "                    total += labels.size(0) * labels.size(1) ##\n",
        "                    correct += (predicted == labels).sum().item()\n",
        "            val_acc = 100 * correct / total\n",
        "            print('Valid accuracy: %d %%' % val_acc)\n",
        "\n",
        "        # save the model\n",
        "        if save:\n",
        "            torch.save(pointnet.state_dict(), root_dir+\"/LogSeg/\"+str(epoch)+\"_\"+str(val_acc))\n"
      ],
      "execution_count": 0,
      "outputs": []
    },
    {
      "cell_type": "code",
      "metadata": {
        "id": "3jjVYFmSv9lu",
        "colab_type": "code",
        "outputId": "e2df460a-a4a9-498d-fc25-dda9df1bfd69",
        "colab": {
          "base_uri": "https://localhost:8080/",
          "height": 1000
        }
      },
      "source": [
        "train(pointnet, train_loader, val_loader,  save=True)"
      ],
      "execution_count": 0,
      "outputs": [
        {
          "output_type": "stream",
          "text": [
            "[1,    10] loss: 1.251\n",
            "[1,    20] loss: 0.982\n",
            "[1,    30] loss: 0.908\n",
            "[1,    40] loss: 0.848\n",
            "[1,    50] loss: 0.816\n",
            "[1,    60] loss: 0.791\n",
            "[1,    70] loss: 0.765\n",
            "[1,    80] loss: 0.740\n",
            "Valid accuracy: 82 %\n",
            "[2,    10] loss: 0.731\n",
            "[2,    20] loss: 0.744\n",
            "[2,    30] loss: 0.726\n",
            "[2,    40] loss: 0.708\n",
            "[2,    50] loss: 0.694\n",
            "[2,    60] loss: 0.684\n",
            "[2,    70] loss: 0.681\n",
            "[2,    80] loss: 0.670\n",
            "Valid accuracy: 82 %\n",
            "[3,    10] loss: 0.661\n",
            "[3,    20] loss: 0.672\n",
            "[3,    30] loss: 0.654\n",
            "[3,    40] loss: 0.642\n",
            "[3,    50] loss: 0.635\n",
            "[3,    60] loss: 0.627\n",
            "[3,    70] loss: 0.615\n",
            "[3,    80] loss: 0.607\n",
            "Valid accuracy: 85 %\n",
            "[4,    10] loss: 0.602\n",
            "[4,    20] loss: 0.606\n",
            "[4,    30] loss: 0.595\n",
            "[4,    40] loss: 0.590\n",
            "[4,    50] loss: 0.587\n",
            "[4,    60] loss: 0.597\n",
            "[4,    70] loss: 0.582\n",
            "[4,    80] loss: 0.570\n",
            "Valid accuracy: 86 %\n",
            "[5,    10] loss: 0.570\n",
            "[5,    20] loss: 0.576\n",
            "[5,    30] loss: 0.560\n",
            "[5,    40] loss: 0.557\n",
            "[5,    50] loss: 0.550\n",
            "[5,    60] loss: 0.545\n",
            "[5,    70] loss: 0.535\n",
            "[5,    80] loss: 0.532\n",
            "Valid accuracy: 85 %\n",
            "[6,    10] loss: 0.523\n",
            "[6,    20] loss: 0.538\n",
            "[6,    30] loss: 0.522\n",
            "[6,    40] loss: 0.526\n",
            "[6,    50] loss: 0.527\n",
            "[6,    60] loss: 0.517\n",
            "[6,    70] loss: 0.504\n",
            "[6,    80] loss: 0.496\n",
            "Valid accuracy: 86 %\n",
            "[7,    10] loss: 0.494\n",
            "[7,    20] loss: 0.510\n",
            "[7,    30] loss: 0.498\n",
            "[7,    40] loss: 0.494\n",
            "[7,    50] loss: 0.493\n",
            "[7,    60] loss: 0.487\n",
            "[7,    70] loss: 0.487\n",
            "[7,    80] loss: 0.474\n",
            "Valid accuracy: 86 %\n",
            "[8,    10] loss: 0.476\n",
            "[8,    20] loss: 0.494\n",
            "[8,    30] loss: 0.475\n",
            "[8,    40] loss: 0.470\n",
            "[8,    50] loss: 0.465\n",
            "[8,    60] loss: 0.468\n",
            "[8,    70] loss: 0.462\n",
            "[8,    80] loss: 0.457\n",
            "Valid accuracy: 85 %\n",
            "[9,    10] loss: 0.450\n",
            "[9,    20] loss: 0.466\n",
            "[9,    30] loss: 0.451\n",
            "[9,    40] loss: 0.457\n",
            "[9,    50] loss: 0.452\n",
            "[9,    60] loss: 0.456\n",
            "[9,    70] loss: 0.447\n",
            "[9,    80] loss: 0.436\n",
            "Valid accuracy: 86 %\n",
            "[10,    10] loss: 0.430\n",
            "[10,    20] loss: 0.446\n",
            "[10,    30] loss: 0.430\n",
            "[10,    40] loss: 0.423\n",
            "[10,    50] loss: 0.425\n",
            "[10,    60] loss: 0.433\n",
            "[10,    70] loss: 0.424\n",
            "[10,    80] loss: 0.413\n",
            "Valid accuracy: 87 %\n",
            "[11,    10] loss: 0.414\n",
            "[11,    20] loss: 0.436\n",
            "[11,    30] loss: 0.413\n",
            "[11,    40] loss: 0.418\n",
            "[11,    50] loss: 0.404\n",
            "[11,    60] loss: 0.410\n",
            "[11,    70] loss: 0.406\n",
            "[11,    80] loss: 0.401\n",
            "Valid accuracy: 87 %\n",
            "[12,    10] loss: 0.397\n",
            "[12,    20] loss: 0.421\n",
            "[12,    30] loss: 0.407\n",
            "[12,    40] loss: 0.394\n",
            "[12,    50] loss: 0.396\n",
            "[12,    60] loss: 0.408\n",
            "[12,    70] loss: 0.397\n",
            "[12,    80] loss: 0.391\n",
            "Valid accuracy: 88 %\n",
            "[13,    10] loss: 0.388\n",
            "[13,    20] loss: 0.395\n",
            "[13,    30] loss: 0.382\n",
            "[13,    40] loss: 0.381\n",
            "[13,    50] loss: 0.381\n",
            "[13,    60] loss: 0.391\n",
            "[13,    70] loss: 0.385\n",
            "[13,    80] loss: 0.376\n",
            "Valid accuracy: 87 %\n",
            "[14,    10] loss: 0.378\n",
            "[14,    20] loss: 0.386\n",
            "[14,    30] loss: 0.369\n",
            "[14,    40] loss: 0.374\n",
            "[14,    50] loss: 0.365\n",
            "[14,    60] loss: 0.379\n",
            "[14,    70] loss: 0.378\n",
            "[14,    80] loss: 0.376\n",
            "Valid accuracy: 86 %\n",
            "[15,    10] loss: 0.368\n",
            "[15,    20] loss: 0.378\n",
            "[15,    30] loss: 0.359\n",
            "[15,    40] loss: 0.364\n",
            "[15,    50] loss: 0.356\n",
            "[15,    60] loss: 0.368\n",
            "[15,    70] loss: 0.363\n",
            "[15,    80] loss: 0.362\n",
            "Valid accuracy: 86 %\n"
          ],
          "name": "stdout"
        }
      ]
    },
    {
      "cell_type": "markdown",
      "metadata": {
        "id": "VeUZqen5GlKr",
        "colab_type": "text"
      },
      "source": [
        "## test"
      ]
    },
    {
      "cell_type": "markdown",
      "metadata": {
        "id": "mbBNmdqgGj5-",
        "colab_type": "text"
      },
      "source": [
        ""
      ]
    },
    {
      "cell_type": "code",
      "metadata": {
        "id": "Xsk9nSDAI3ba",
        "colab_type": "code",
        "outputId": "1cb787a0-a2b7-4cc9-d376-6e62dcae3b02",
        "colab": {
          "base_uri": "https://localhost:8080/",
          "height": 864
        }
      },
      "source": [
        "pointnet = PointNetSeg()\n",
        "pointnet.load_state_dict(torch.load(root_dir+\"/LogSeg/\"+\"14_86.75\"))\n",
        "pointnet.eval()"
      ],
      "execution_count": 0,
      "outputs": [
        {
          "output_type": "execute_result",
          "data": {
            "text/plain": [
              "PointNetSeg(\n",
              "  (transform): Transform(\n",
              "    (input_transform): Tnet(\n",
              "      (conv1): Conv1d(3, 64, kernel_size=(1,), stride=(1,))\n",
              "      (conv2): Conv1d(64, 128, kernel_size=(1,), stride=(1,))\n",
              "      (conv3): Conv1d(128, 1024, kernel_size=(1,), stride=(1,))\n",
              "      (fc1): Linear(in_features=1024, out_features=512, bias=True)\n",
              "      (fc2): Linear(in_features=512, out_features=256, bias=True)\n",
              "      (fc3): Linear(in_features=256, out_features=9, bias=True)\n",
              "      (bn1): BatchNorm1d(64, eps=1e-05, momentum=0.1, affine=True, track_running_stats=True)\n",
              "      (bn2): BatchNorm1d(128, eps=1e-05, momentum=0.1, affine=True, track_running_stats=True)\n",
              "      (bn3): BatchNorm1d(1024, eps=1e-05, momentum=0.1, affine=True, track_running_stats=True)\n",
              "      (bn4): BatchNorm1d(512, eps=1e-05, momentum=0.1, affine=True, track_running_stats=True)\n",
              "      (bn5): BatchNorm1d(256, eps=1e-05, momentum=0.1, affine=True, track_running_stats=True)\n",
              "    )\n",
              "    (feature_transform): Tnet(\n",
              "      (conv1): Conv1d(128, 64, kernel_size=(1,), stride=(1,))\n",
              "      (conv2): Conv1d(64, 128, kernel_size=(1,), stride=(1,))\n",
              "      (conv3): Conv1d(128, 1024, kernel_size=(1,), stride=(1,))\n",
              "      (fc1): Linear(in_features=1024, out_features=512, bias=True)\n",
              "      (fc2): Linear(in_features=512, out_features=256, bias=True)\n",
              "      (fc3): Linear(in_features=256, out_features=16384, bias=True)\n",
              "      (bn1): BatchNorm1d(64, eps=1e-05, momentum=0.1, affine=True, track_running_stats=True)\n",
              "      (bn2): BatchNorm1d(128, eps=1e-05, momentum=0.1, affine=True, track_running_stats=True)\n",
              "      (bn3): BatchNorm1d(1024, eps=1e-05, momentum=0.1, affine=True, track_running_stats=True)\n",
              "      (bn4): BatchNorm1d(512, eps=1e-05, momentum=0.1, affine=True, track_running_stats=True)\n",
              "      (bn5): BatchNorm1d(256, eps=1e-05, momentum=0.1, affine=True, track_running_stats=True)\n",
              "    )\n",
              "    (fc1): Conv1d(3, 64, kernel_size=(1,), stride=(1,))\n",
              "    (fc2): Conv1d(64, 128, kernel_size=(1,), stride=(1,))\n",
              "    (fc3): Conv1d(128, 128, kernel_size=(1,), stride=(1,))\n",
              "    (fc4): Conv1d(128, 512, kernel_size=(1,), stride=(1,))\n",
              "    (fc5): Conv1d(512, 2048, kernel_size=(1,), stride=(1,))\n",
              "    (bn1): BatchNorm1d(64, eps=1e-05, momentum=0.1, affine=True, track_running_stats=True)\n",
              "    (bn2): BatchNorm1d(128, eps=1e-05, momentum=0.1, affine=True, track_running_stats=True)\n",
              "    (bn3): BatchNorm1d(128, eps=1e-05, momentum=0.1, affine=True, track_running_stats=True)\n",
              "    (bn4): BatchNorm1d(512, eps=1e-05, momentum=0.1, affine=True, track_running_stats=True)\n",
              "    (bn5): BatchNorm1d(2048, eps=1e-05, momentum=0.1, affine=True, track_running_stats=True)\n",
              "  )\n",
              "  (fc1): Conv1d(3008, 256, kernel_size=(1,), stride=(1,))\n",
              "  (fc2): Conv1d(256, 256, kernel_size=(1,), stride=(1,))\n",
              "  (fc3): Conv1d(256, 128, kernel_size=(1,), stride=(1,))\n",
              "  (fc4): Conv1d(128, 4, kernel_size=(1,), stride=(1,))\n",
              "  (bn1): BatchNorm1d(256, eps=1e-05, momentum=0.1, affine=True, track_running_stats=True)\n",
              "  (bn2): BatchNorm1d(256, eps=1e-05, momentum=0.1, affine=True, track_running_stats=True)\n",
              "  (bn3): BatchNorm1d(128, eps=1e-05, momentum=0.1, affine=True, track_running_stats=True)\n",
              "  (bn4): BatchNorm1d(4, eps=1e-05, momentum=0.1, affine=True, track_running_stats=True)\n",
              "  (logsoftmax): LogSoftmax()\n",
              ")"
            ]
          },
          "metadata": {
            "tags": []
          },
          "execution_count": 25
        }
      ]
    },
    {
      "cell_type": "code",
      "metadata": {
        "id": "zoE5fRX8GnWR",
        "colab_type": "code",
        "outputId": "6bd82261-ef8c-4376-afeb-e463bbbd7d98",
        "colab": {
          "base_uri": "https://localhost:8080/",
          "height": 138
        }
      },
      "source": [
        "batch = next(iter(val_loader))\n",
        "pred = pointnet(batch['image'].transpose(1,2))\n",
        "pred_np = np.array(torch.argmax(pred[0],1));\n",
        "pred_np"
      ],
      "execution_count": 0,
      "outputs": [
        {
          "output_type": "execute_result",
          "data": {
            "text/plain": [
              "array([[1, 1, 0, ..., 1, 1, 1],\n",
              "       [1, 0, 1, ..., 1, 1, 0],\n",
              "       [0, 2, 1, ..., 3, 3, 3],\n",
              "       ...,\n",
              "       [1, 3, 0, ..., 3, 0, 1],\n",
              "       [0, 0, 1, ..., 2, 2, 0],\n",
              "       [0, 1, 1, ..., 3, 0, 1]])"
            ]
          },
          "metadata": {
            "tags": []
          },
          "execution_count": 26
        }
      ]
    },
    {
      "cell_type": "code",
      "metadata": {
        "id": "3ISvwR4RL_eT",
        "colab_type": "code",
        "outputId": "a82b44e7-cd79-419b-cb90-d23ecbc45b2a",
        "colab": {
          "base_uri": "https://localhost:8080/",
          "height": 35
        }
      },
      "source": [
        "batch['image'][0].shape"
      ],
      "execution_count": 0,
      "outputs": [
        {
          "output_type": "execute_result",
          "data": {
            "text/plain": [
              "torch.Size([2000, 3])"
            ]
          },
          "metadata": {
            "tags": []
          },
          "execution_count": 27
        }
      ]
    },
    {
      "cell_type": "code",
      "metadata": {
        "id": "MQXXGh3GJSRf",
        "colab_type": "code",
        "outputId": "23080e0e-b0ae-46dd-903f-cd4bd192881c",
        "colab": {
          "base_uri": "https://localhost:8080/",
          "height": 138
        }
      },
      "source": [
        "pred_np==np.array(batch['category'])"
      ],
      "execution_count": 0,
      "outputs": [
        {
          "output_type": "execute_result",
          "data": {
            "text/plain": [
              "array([[ True,  True,  True, ...,  True,  True,  True],\n",
              "       [ True,  True,  True, ..., False,  True,  True],\n",
              "       [ True,  True,  True, ...,  True,  True,  True],\n",
              "       ...,\n",
              "       [ True,  True,  True, ...,  True,  True,  True],\n",
              "       [ True,  True, False, ...,  True,  True,  True],\n",
              "       [ True,  True,  True, ...,  True,  True,  True]])"
            ]
          },
          "metadata": {
            "tags": []
          },
          "execution_count": 28
        }
      ]
    },
    {
      "cell_type": "code",
      "metadata": {
        "id": "60Mr2Bp7O9xu",
        "colab_type": "code",
        "colab": {}
      },
      "source": [
        "acc = (pred_np==np.array(batch['category']))"
      ],
      "execution_count": 0,
      "outputs": []
    },
    {
      "cell_type": "code",
      "metadata": {
        "id": "Jc1jLPj-PBo-",
        "colab_type": "code",
        "colab": {}
      },
      "source": [
        "resulting_acc = np.sum(acc, axis=1) / 2000"
      ],
      "execution_count": 0,
      "outputs": []
    },
    {
      "cell_type": "code",
      "metadata": {
        "id": "w8NwSbbz8jQ-",
        "colab_type": "code",
        "outputId": "a7362139-2e29-4661-fc60-39429ccf4fda",
        "colab": {
          "base_uri": "https://localhost:8080/",
          "height": 86
        }
      },
      "source": [
        "resulting_acc"
      ],
      "execution_count": 0,
      "outputs": [
        {
          "output_type": "execute_result",
          "data": {
            "text/plain": [
              "array([0.693 , 0.8785, 0.847 , 0.634 , 0.9125, 0.87  , 0.7725, 0.8495,\n",
              "       0.9335, 0.8685, 0.846 , 0.9175, 0.9145, 0.8995, 0.848 , 0.863 ,\n",
              "       0.909 , 0.909 , 0.842 , 0.916 , 0.795 , 0.893 , 0.8665, 0.865 ,\n",
              "       0.8265, 0.835 , 0.91  , 0.9115, 0.77  , 0.813 , 0.8945, 0.912 ])"
            ]
          },
          "metadata": {
            "tags": []
          },
          "execution_count": 31
        }
      ]
    },
    {
      "cell_type": "code",
      "metadata": {
        "id": "nnt7vxPHKamU",
        "colab_type": "code",
        "outputId": "4cf1da98-c28c-4d3b-99aa-92cfe307f28b",
        "colab": {
          "base_uri": "https://localhost:8080/",
          "height": 138
        }
      },
      "source": [
        "pred_np"
      ],
      "execution_count": 0,
      "outputs": [
        {
          "output_type": "execute_result",
          "data": {
            "text/plain": [
              "array([[1, 1, 0, ..., 1, 1, 1],\n",
              "       [1, 0, 1, ..., 1, 1, 0],\n",
              "       [0, 2, 1, ..., 3, 3, 3],\n",
              "       ...,\n",
              "       [1, 3, 0, ..., 3, 0, 1],\n",
              "       [0, 0, 1, ..., 2, 2, 0],\n",
              "       [0, 1, 1, ..., 3, 0, 1]])"
            ]
          },
          "metadata": {
            "tags": []
          },
          "execution_count": 32
        }
      ]
    },
    {
      "cell_type": "code",
      "metadata": {
        "id": "N9bgpbtnHC2E",
        "colab_type": "code",
        "outputId": "c8434c1f-af7e-41ce-c9d5-8f04d27c237b",
        "colab": {
          "base_uri": "https://localhost:8080/",
          "height": 542
        }
      },
      "source": [
        "x,y,z=np.array(batch['image'][10]).T\n",
        "c = np.array(batch['category'][10]).T\n",
        "\n",
        "fig = go.Figure(data=[go.Scatter3d(x=x, y=y, z=z, \n",
        "                                   mode='markers',\n",
        "                                   marker=dict(\n",
        "        size=30,\n",
        "        color=c,                # set color to an array/list of desired values\n",
        "        colorscale='Viridis',   # choose a colorscale\n",
        "        opacity=1.0\n",
        "    ))])\n",
        "fig.update_traces(marker=dict(size=2,\n",
        "                              line=dict(width=2,\n",
        "                                        color='DarkSlateGrey')),\n",
        "                  selector=dict(mode='markers'))\n",
        "fig.show()"
      ],
      "execution_count": 0,
      "outputs": [
        {
          "output_type": "display_data",
          "data": {
            "text/html": [
              "<html>\n",
              "<head><meta charset=\"utf-8\" /></head>\n",
              "<body>\n",
              "    <div>\n",
              "            <script src=\"https://cdnjs.cloudflare.com/ajax/libs/mathjax/2.7.5/MathJax.js?config=TeX-AMS-MML_SVG\"></script><script type=\"text/javascript\">if (window.MathJax) {MathJax.Hub.Config({SVG: {font: \"STIX-Web\"}});}</script>\n",
              "                <script type=\"text/javascript\">window.PlotlyConfig = {MathJaxConfig: 'local'};</script>\n",
              "        <script src=\"https://cdn.plot.ly/plotly-latest.min.js\"></script>    \n",
              "            <div id=\"72f89972-5e17-402a-882f-3bd2cba25661\" class=\"plotly-graph-div\" style=\"height:525px; width:100%;\"></div>\n",
              "            <script type=\"text/javascript\">\n",
              "                \n",
              "                    window.PLOTLYENV=window.PLOTLYENV || {};\n",
              "                    \n",
              "                if (document.getElementById(\"72f89972-5e17-402a-882f-3bd2cba25661\")) {\n",
              "                    Plotly.newPlot(\n",
              "                        '72f89972-5e17-402a-882f-3bd2cba25661',\n",
              "                        [{\"marker\": {\"color\": [0, 0, 0, 0, 1, 0, 0, 0, 0, 0, 0, 1, 0, 0, 0, 0, 2, 1, 1, 1, 1, 1, 0, 1, 1, 1, 0, 0, 1, 0, 2, 2, 0, 0, 1, 0, 0, 0, 1, 1, 0, 1, 0, 0, 0, 0, 2, 0, 0, 1, 0, 0, 0, 1, 2, 1, 2, 1, 0, 0, 0, 0, 2, 0, 1, 1, 0, 1, 1, 1, 0, 0, 1, 1, 1, 0, 0, 1, 1, 2, 1, 0, 0, 0, 1, 0, 2, 2, 0, 1, 1, 2, 2, 1, 0, 1, 1, 1, 0, 0, 0, 2, 0, 0, 1, 0, 0, 0, 1, 0, 1, 0, 0, 0, 0, 1, 1, 1, 0, 1, 1, 1, 0, 1, 0, 1, 0, 1, 1, 1, 0, 1, 1, 0, 1, 1, 1, 0, 0, 1, 1, 1, 0, 0, 1, 0, 1, 1, 1, 0, 0, 0, 1, 1, 1, 1, 0, 1, 1, 0, 1, 1, 0, 0, 0, 0, 1, 1, 1, 1, 1, 0, 1, 0, 0, 1, 1, 0, 0, 0, 1, 0, 1, 0, 1, 1, 2, 0, 0, 2, 0, 1, 0, 0, 0, 1, 1, 0, 1, 1, 1, 1, 1, 0, 0, 1, 2, 2, 0, 0, 0, 0, 1, 0, 1, 0, 0, 1, 0, 0, 1, 0, 1, 1, 0, 1, 1, 0, 0, 0, 0, 0, 0, 0, 1, 0, 1, 1, 0, 2, 0, 2, 0, 1, 0, 1, 1, 0, 0, 0, 0, 0, 1, 1, 0, 1, 0, 0, 0, 0, 0, 0, 1, 1, 0, 1, 0, 0, 0, 0, 1, 1, 0, 0, 0, 1, 2, 0, 1, 0, 0, 0, 1, 0, 1, 2, 0, 0, 2, 2, 1, 2, 1, 1, 0, 0, 0, 1, 0, 0, 1, 2, 0, 2, 0, 0, 0, 0, 1, 1, 2, 0, 0, 0, 1, 0, 0, 0, 1, 1, 0, 0, 0, 0, 1, 0, 0, 0, 0, 1, 1, 0, 0, 0, 0, 1, 0, 1, 0, 1, 1, 1, 0, 0, 0, 1, 1, 2, 1, 1, 1, 0, 1, 1, 0, 1, 1, 0, 0, 1, 1, 0, 1, 2, 1, 1, 2, 1, 1, 0, 0, 0, 0, 0, 0, 0, 1, 0, 2, 0, 1, 0, 1, 1, 0, 1, 0, 0, 2, 0, 0, 0, 0, 1, 2, 0, 1, 0, 1, 0, 0, 0, 0, 1, 1, 0, 0, 2, 0, 1, 0, 1, 1, 0, 1, 1, 1, 0, 1, 0, 1, 0, 2, 0, 1, 0, 1, 0, 1, 1, 0, 1, 0, 0, 1, 0, 0, 0, 0, 0, 0, 0, 0, 1, 0, 1, 1, 1, 0, 0, 1, 0, 0, 1, 1, 0, 0, 1, 1, 0, 2, 1, 0, 1, 1, 1, 0, 0, 1, 1, 1, 0, 1, 0, 1, 1, 0, 1, 1, 0, 0, 1, 0, 2, 0, 1, 0, 0, 1, 0, 0, 0, 2, 1, 0, 1, 2, 0, 0, 0, 0, 0, 1, 0, 2, 1, 0, 1, 0, 1, 1, 2, 0, 1, 0, 0, 1, 0, 0, 0, 1, 1, 1, 0, 2, 1, 0, 0, 2, 1, 1, 1, 0, 1, 1, 0, 0, 1, 0, 0, 0, 1, 0, 1, 1, 1, 1, 1, 1, 1, 1, 0, 1, 0, 0, 1, 0, 0, 0, 1, 1, 0, 1, 0, 0, 2, 1, 0, 1, 2, 1, 0, 1, 0, 0, 1, 0, 1, 1, 0, 0, 1, 1, 0, 0, 1, 1, 0, 1, 1, 1, 1, 1, 0, 0, 0, 1, 0, 1, 0, 1, 0, 0, 0, 0, 1, 0, 0, 0, 0, 1, 0, 1, 1, 0, 1, 0, 0, 0, 0, 1, 0, 1, 1, 0, 0, 0, 0, 1, 0, 0, 0, 0, 0, 1, 0, 0, 1, 1, 0, 1, 2, 1, 1, 1, 1, 1, 0, 1, 0, 0, 0, 0, 1, 1, 1, 1, 0, 1, 1, 0, 0, 0, 0, 0, 1, 2, 2, 1, 0, 1, 0, 1, 0, 1, 2, 0, 0, 0, 1, 1, 0, 1, 0, 1, 0, 0, 0, 1, 1, 0, 0, 0, 0, 0, 0, 0, 0, 1, 0, 0, 1, 1, 2, 0, 0, 1, 0, 0, 0, 1, 0, 0, 1, 1, 1, 0, 1, 1, 0, 0, 0, 1, 0, 0, 0, 1, 0, 0, 0, 0, 1, 0, 0, 1, 2, 2, 0, 1, 1, 0, 0, 1, 1, 1, 0, 1, 1, 0, 1, 0, 0, 1, 0, 1, 0, 0, 2, 1, 1, 1, 0, 0, 1, 0, 0, 0, 1, 2, 0, 0, 1, 0, 0, 1, 0, 1, 0, 2, 2, 0, 1, 1, 0, 1, 1, 1, 0, 0, 0, 0, 1, 0, 0, 1, 1, 1, 0, 1, 0, 0, 0, 0, 0, 0, 0, 0, 2, 0, 0, 0, 0, 1, 1, 1, 0, 1, 1, 0, 0, 1, 2, 1, 2, 0, 0, 2, 0, 1, 0, 0, 2, 1, 0, 0, 0, 0, 1, 0, 0, 0, 0, 1, 0, 1, 0, 1, 1, 1, 1, 1, 1, 0, 1, 1, 0, 0, 0, 1, 1, 0, 1, 0, 0, 0, 1, 1, 1, 0, 0, 2, 0, 0, 1, 1, 0, 0, 0, 0, 1, 0, 1, 1, 0, 0, 0, 0, 0, 1, 0, 0, 1, 0, 0, 1, 1, 1, 0, 1, 2, 0, 0, 1, 1, 1, 1, 1, 0, 0, 1, 1, 1, 0, 1, 0, 0, 1, 1, 0, 0, 0, 1, 1, 0, 0, 1, 1, 0, 0, 0, 0, 1, 0, 1, 1, 1, 0, 1, 0, 0, 0, 0, 0, 0, 2, 0, 1, 2, 0, 2, 1, 1, 0, 0, 0, 0, 1, 1, 1, 0, 0, 1, 0, 0, 0, 1, 0, 1, 1, 1, 1, 2, 1, 2, 0, 1, 0, 2, 1, 0, 1, 0, 1, 2, 0, 0, 0, 1, 1, 1, 1, 0, 0, 1, 0, 0, 0, 0, 0, 1, 0, 0, 1, 0, 0, 1, 0, 1, 1, 0, 1, 1, 0, 0, 1, 0, 1, 1, 0, 0, 0, 0, 0, 0, 1, 1, 2, 1, 1, 1, 1, 2, 0, 1, 1, 0, 0, 1, 1, 1, 0, 0, 0, 0, 0, 0, 1, 1, 0, 1, 1, 1, 2, 1, 0, 1, 1, 0, 0, 0, 1, 0, 0, 1, 1, 0, 1, 1, 0, 0, 2, 0, 1, 0, 0, 0, 0, 0, 0, 1, 0, 1, 1, 1, 1, 0, 2, 1, 0, 1, 0, 0, 1, 0, 2, 1, 1, 2, 0, 0, 0, 1, 1, 0, 0, 0, 1, 1, 1, 0, 0, 0, 1, 1, 0, 0, 0, 1, 1, 1, 0, 2, 1, 0, 1, 0, 1, 0, 0, 0, 2, 0, 0, 1, 1, 1, 0, 0, 0, 0, 0, 1, 1, 1, 1, 0, 0, 2, 2, 0, 1, 0, 0, 0, 1, 0, 0, 0, 0, 0, 1, 1, 1, 0, 0, 0, 0, 0, 1, 0, 0, 0, 2, 1, 1, 0, 1, 0, 0, 0, 1, 1, 0, 1, 0, 0, 0, 1, 1, 0, 1, 0, 0, 1, 0, 0, 2, 1, 0, 0, 0, 1, 0, 0, 0, 1, 1, 2, 1, 0, 1, 0, 1, 0, 0, 0, 0, 1, 1, 0, 0, 0, 1, 1, 1, 1, 1, 1, 1, 1, 0, 0, 1, 2, 1, 1, 0, 0, 0, 0, 1, 1, 0, 0, 1, 1, 0, 0, 1, 0, 2, 1, 0, 1, 0, 0, 0, 0, 0, 0, 1, 0, 0, 1, 2, 1, 0, 0, 0, 0, 2, 0, 0, 0, 1, 1, 0, 1, 1, 1, 0, 0, 1, 2, 1, 0, 1, 0, 1, 0, 1, 1, 0, 1, 1, 1, 0, 1, 1, 2, 1, 0, 1, 0, 0, 2, 0, 1, 0, 1, 0, 0, 1, 2, 0, 0, 0, 1, 1, 0, 1, 2, 0, 0, 0, 0, 1, 1, 0, 0, 0, 0, 0, 0, 1, 1, 0, 1, 1, 1, 0, 0, 0, 1, 1, 0, 1, 1, 0, 0, 0, 0, 1, 1, 0, 0, 0, 1, 1, 1, 0, 1, 1, 1, 0, 0, 0, 0, 0, 0, 1, 0, 1, 1, 1, 1, 1, 0, 0, 0, 1, 0, 0, 1, 1, 0, 1, 0, 0, 0, 2, 0, 1, 1, 0, 1, 0, 1, 0, 1, 0, 0, 1, 2, 1, 0, 0, 2, 1, 0, 1, 0, 0, 1, 1, 0, 1, 1, 0, 1, 2, 0, 1, 1, 1, 1, 0, 1, 1, 0, 1, 0, 0, 0, 0, 0, 1, 0, 0, 0, 0, 2, 0, 1, 1, 0, 1, 1, 0, 1, 1, 2, 0, 0, 0, 2, 0, 1, 0, 0, 2, 0, 1, 0, 1, 1, 1, 2, 1, 1, 0, 0, 1, 0, 2, 1, 0, 1, 1, 0, 0, 0, 0, 0, 0, 1, 0, 0, 2, 0, 0, 0, 0, 1, 2, 0, 1, 0, 1, 0, 2, 2, 0, 1, 0, 2, 0, 0, 0, 2, 0, 0, 0, 0, 1, 0, 1, 2, 2, 0, 0, 2, 1, 0, 2, 0, 0, 1, 0, 0, 1, 0, 0, 1, 0, 0, 0, 0, 1, 1, 0, 0, 2, 1, 2, 2, 1, 1, 1, 0, 0, 0, 1, 0, 0, 1, 2, 0, 1, 0, 2, 1, 1, 0, 1, 0, 1, 1, 0, 1, 0, 2, 2, 1, 2, 1, 0, 0, 1, 2, 1, 1, 0, 0, 1, 0, 2, 0, 1, 0, 0, 0, 0, 0, 0, 0, 0, 0, 0, 1, 1, 2, 0, 0, 0, 0, 0, 0, 1, 0, 0, 1, 2, 1, 0, 1, 1, 0, 1, 1, 1, 2, 1, 2, 0, 0, 1, 1, 1, 1, 0, 1, 0, 1, 1, 2, 0, 1, 0, 1, 1, 1, 0, 1, 1, 0, 0, 0, 0, 1, 0, 0, 1, 0, 1, 0, 0, 1, 1, 2, 0, 1, 2, 0, 1, 0, 1, 0, 0, 0, 0, 2, 0, 0, 1, 1, 1, 2, 1, 1, 0, 1, 0, 0, 1, 2, 2, 0, 0, 1, 0, 0, 1, 1, 1, 0, 1, 0, 0, 1, 0, 0, 1, 0, 2, 1, 0, 1, 2, 0, 1, 0, 0, 1, 2, 0, 0, 0, 1, 0, 0, 0, 1, 1, 1, 0, 1, 0, 1, 1, 1, 1, 1, 2, 0, 0, 1, 1, 1, 2, 1, 1, 0, 1, 1, 2, 0, 0, 1, 0, 0, 1, 0, 0, 0, 1, 2, 0, 0, 0, 0, 0, 0, 1, 0, 1, 0, 1, 1, 1, 0, 1, 1, 1, 0, 1, 0, 1, 0, 0, 0, 0, 1, 1, 0, 0, 0, 1, 2, 0, 2, 0, 1, 1, 0, 0, 0, 0, 0, 1, 0, 0, 1, 0, 0, 1, 0, 0, 1, 1, 0, 0, 0, 0, 0, 0, 2, 0, 1, 1, 2, 1, 0, 1, 0, 0, 1, 0, 1, 1, 1, 1, 0, 1, 0, 1, 0, 1, 1, 1, 1, 0, 0, 0, 1, 0, 0, 1, 1, 0, 1, 1, 1, 0, 0, 0, 1, 0, 0, 0, 1, 1, 1, 1, 0, 0, 1, 0, 0, 1, 0, 1, 1, 0, 0, 1, 0, 0, 1, 0, 0, 1, 1, 0, 0, 1, 0, 1, 0, 0, 0, 0, 1, 0, 1, 1, 1, 1, 0, 0, 0, 1, 1, 0, 0, 0, 1, 2, 2, 0, 1, 0, 0, 0, 2, 0, 0, 0, 0, 0, 1, 0, 2, 0, 1, 1, 0, 1, 0, 0, 1, 1, 0, 0, 0, 1, 2, 1, 1, 0, 0, 1, 0, 1, 0, 0, 1, 1, 1, 0, 1, 0, 1, 1, 0, 0, 0, 0, 1, 1, 0, 1, 1, 1, 1, 1, 0, 0, 0, 0, 0, 1, 0, 1, 1, 0, 1, 0, 0, 1, 0, 2, 2, 1, 0, 0, 1, 0, 2, 2, 0, 0, 1, 0, 0, 1, 0, 2, 0, 1], \"colorscale\": [[0.0, \"#440154\"], [0.1111111111111111, \"#482878\"], [0.2222222222222222, \"#3e4989\"], [0.3333333333333333, \"#31688e\"], [0.4444444444444444, \"#26828e\"], [0.5555555555555556, \"#1f9e89\"], [0.6666666666666666, \"#35b779\"], [0.7777777777777778, \"#6ece58\"], [0.8888888888888888, \"#b5de2b\"], [1.0, \"#fde725\"]], \"line\": {\"color\": \"DarkSlateGrey\", \"width\": 2}, \"opacity\": 1.0, \"size\": 2}, \"mode\": \"markers\", \"type\": \"scatter3d\", \"x\": [0.2637185752391815, -0.011608395725488663, -0.22871215641498566, 0.14768345654010773, 0.06898432970046997, -0.22773689031600952, 0.009047875180840492, -0.3719627559185028, -0.3911185562610626, 0.25595822930336, 0.3328583240509033, 0.05043979734182358, -0.25504088401794434, 0.101411372423172, 0.20774687826633453, 0.21337193250656128, 0.5329803228378296, 0.145284503698349, 0.19237485527992249, -0.03585025295615196, 0.18284353613853455, 0.09869599342346191, 0.2678455412387848, 0.09183035045862198, -0.09928926080465317, 0.0691010057926178, 0.3037400543689728, 0.018561534583568573, 0.1581653654575348, 0.15577596426010132, 0.28061285614967346, 0.16621029376983643, 0.04907194525003433, -0.023748354986310005, 0.07706715166568756, 0.06077701225876808, -0.1994575709104538, -0.27059394121170044, -0.14856214821338654, 0.20779234170913696, 0.27113887667655945, 0.08569622039794922, 0.24272972345352173, -0.22815826535224915, -0.03674394264817238, -0.16670316457748413, 0.3867586851119995, -0.2843306064605713, -0.16738897562026978, -0.13407853245735168, -0.016004793345928192, 0.1164700910449028, -0.22183972597122192, 0.09164978563785553, -0.178073450922966, 0.012580020353198051, 0.4621051549911499, 0.1957487165927887, -0.21999238431453705, -0.09128600358963013, -0.21558542549610138, 0.23916490375995636, 0.6103872656822205, -0.21514922380447388, 0.09901631623506546, 0.049712348729372025, -0.23383717238903046, -0.16170500218868256, 0.17062807083129883, 0.1369755119085312, -0.1631990522146225, -0.22184599936008453, -0.06960222125053406, 0.13083428144454956, 0.11487647145986557, -0.2577655017375946, -0.15731622278690338, 0.044029127806425095, 0.07149644196033478, 0.3481513261795044, 0.1304258555173874, -0.053688373416662216, -0.3038778603076935, -0.45865195989608765, 0.10045980662107468, -0.23242339491844177, 0.37657445669174194, 0.24704428017139435, -0.21475908160209656, 0.12969976663589478, 0.04319389536976814, 0.4972183406352997, 0.6125991344451904, 0.032951004803180695, -0.2744166851043701, 0.05475005507469177, -0.057597871869802475, 0.16339536011219025, -0.24448850750923157, 0.3013562858104706, 0.2423451691865921, 0.3895374536514282, -0.24501293897628784, -0.17919260263442993, -0.010658372193574905, -0.13058649003505707, -0.3583226501941681, -0.13424716889858246, 0.16345658898353577, -0.1903839111328125, 0.1262444257736206, 0.14166627824306488, -0.09599178284406662, -0.33086076378822327, -0.24500404298305511, -0.0002607371425256133, 0.08077077567577362, 0.10693901032209396, -0.198120579123497, 0.11672845482826233, 0.05909443274140358, 0.06483206897974014, -0.07668591290712357, -0.041548121720552444, -0.04321317747235298, 0.17318867146968842, 0.05202864482998848, -0.13284452259540558, -0.05835655331611633, -0.10247380286455154, -0.20178186893463135, 0.009502422995865345, -0.015478663146495819, 0.3376642167568207, -0.11315485090017319, 0.11871211230754852, 0.19151370227336884, 0.21393389999866486, -0.4347130060195923, 0.11916840076446533, 0.17265667021274567, 0.11278299242258072, 0.37800362706184387, -0.3919181525707245, -0.04803420975804329, -0.12488183379173279, -0.035267677158117294, 0.03569083660840988, 0.1458059847354889, -0.19819116592407227, -0.05778248980641365, 0.1058192253112793, 0.05657283589243889, 0.13446560502052307, 0.1772395670413971, -0.04901842027902603, -0.17277300357818604, -0.06962373852729797, 0.07246670126914978, -0.09362095594406128, 0.040131647139787674, -0.028981247916817665, 0.06589370220899582, 0.07767751812934875, 0.11630260199308395, 0.16884459555149078, 0.004878172185271978, 0.2067168653011322, 0.04231298342347145, 0.13202925026416779, 0.05944231152534485, -0.07446472346782684, 0.09865729510784149, 0.38283729553222656, -0.13586536049842834, -0.029167786240577698, 0.18681707978248596, 0.11962845921516418, 0.21890884637832642, -0.2531546950340271, 0.03374602273106575, -0.1424860656261444, 0.07445598393678665, -0.24910183250904083, 0.05173097178339958, 0.17938220500946045, 0.4776945114135742, -0.1653648316860199, -0.4220733940601349, 0.40792202949523926, -0.1244950070977211, -0.09720882028341293, 0.007236031349748373, -0.3208122253417969, 0.2865988612174988, 0.1706480234861374, -0.07177378982305527, -0.23712070286273956, -0.05409938097000122, 0.07447843253612518, 0.02385704778134823, -0.0647706463932991, 0.03531910106539726, -0.5463806390762329, -0.20433372259140015, -0.1104523316025734, 0.5291478633880615, 0.38351374864578247, 0.2635555863380432, -0.3325951099395752, -0.35128843784332275, 0.07225614041090012, 0.14869751036167145, -0.19533486664295197, 0.13520187139511108, -0.011097636073827744, 0.057056404650211334, 0.14870470762252808, 0.2516272962093353, -0.07248026877641678, -0.0401134267449379, -0.18917019665241241, 0.13783080875873566, 0.045609138906002045, -0.10114655643701553, 0.019713524729013443, -0.14903604984283447, 0.07469379156827927, -0.22726650536060333, -0.2720808684825897, -0.1557224839925766, 0.32561683654785156, -0.1942894458770752, -0.2760044038295746, 0.04589337855577469, -0.008200418204069138, 0.037235382944345474, 0.09508616477251053, -0.40559878945350647, 0.24431069195270538, 0.27827030420303345, 0.4251554608345032, -0.24750566482543945, 0.1498795747756958, -0.4779660999774933, -0.007621018216013908, 0.05938968062400818, -0.5195321440696716, -0.2962777018547058, -0.3086354434490204, -0.15486592054367065, -0.3847251534461975, 0.011044420301914215, 0.03559454157948494, 0.061555784195661545, 0.09933288395404816, -0.11206800490617752, 0.3263421356678009, -0.1403874158859253, -0.26087528467178345, -0.3038857579231262, -0.4883294701576233, 0.08448778837919235, -0.01745338924229145, -0.3350105583667755, -0.1393033266067505, -0.297841876745224, 0.04780314117670059, 0.1940828263759613, 0.1476704478263855, 0.11486396938562393, -0.1548905223608017, -0.20259778201580048, -0.433595210313797, -0.19288617372512817, 0.09191974997520447, 0.5271823406219482, -0.05994095280766487, 0.16977070271968842, -0.34872540831565857, 0.24330641329288483, 0.3406997323036194, -0.16010013222694397, 0.0991654098033905, 0.1773081123828888, 0.4037429690361023, -0.060652490705251694, -0.49556964635849, 0.3422739505767822, 0.5488150119781494, 0.004385814070701599, 0.592270016670227, 0.03957666456699371, -0.0809941366314888, -0.33999595046043396, -0.11806430667638779, -0.0928320661187172, 0.07277128100395203, 0.2465353012084961, 0.19223672151565552, 0.17809970676898956, 0.4935302734375, -0.08406813442707062, 0.5018889904022217, -0.26410111784935, -0.07951461523771286, -0.3625536262989044, -0.24429933726787567, -0.035333193838596344, 0.12010552734136581, 0.4182911217212677, -0.2088344246149063, -0.45196402072906494, -0.32452231645584106, 0.1752479374408722, 0.02717556618154049, -0.30166634917259216, -0.2937275171279907, 0.1170591488480568, -0.06067916750907898, -0.10853209346532822, -0.20630456507205963, -0.15616489946842194, -0.5727765560150146, 0.07966026663780212, -0.2733605206012726, -0.12079909443855286, -0.1181049570441246, 0.09547469019889832, 0.020067470148205757, -0.044697217643260956, -0.24882148206233978, -0.12422765046358109, 0.3343432545661926, -0.033110808581113815, -0.18205568194389343, -0.25622260570526123, -0.005782286636531353, 0.03402819111943245, 0.015192636288702488, -0.06980249285697937, 0.010330983437597752, 0.3087065517902374, -0.5311980247497559, -0.19359660148620605, 0.08881903439760208, 0.10378238558769226, 0.5860055088996887, 0.1268852800130844, 0.1678350865840912, -0.03622215613722801, -0.2686108648777008, 0.13782232999801636, -0.11600910872220993, -0.18469500541687012, 0.07474733144044876, 0.17355862259864807, -0.22551317512989044, -0.34807926416397095, 0.08820309489965439, 0.05062994733452797, -0.2033516764640808, 0.1806391328573227, 0.5938103199005127, 0.038384635001420975, -0.1978853940963745, 0.263901025056839, 0.18874937295913696, 0.17197908461093903, -0.27178654074668884, -0.3446943461894989, -0.17654098570346832, -0.17543341219425201, -0.22499647736549377, 0.15944205224514008, -0.17828652262687683, 0.13181671500205994, 0.17142996191978455, 0.42986658215522766, -0.05711602792143822, -0.16639284789562225, -0.2930442988872528, 0.18783921003341675, 0.07442587614059448, -0.37199389934539795, 0.11251845955848694, -0.1737823784351349, -0.09603219479322433, 0.523652195930481, -0.4714120328426361, -0.293834924697876, -0.09048604965209961, -0.025156309828162193, -0.09281367808580399, 0.537614107131958, 0.2264530509710312, 0.14058974385261536, -0.2238716334104538, -0.12711478769779205, 0.15140952169895172, -0.2946062684059143, 0.21573813259601593, 0.19413761794567108, 0.033003050833940506, 0.026428457349538803, 0.028080089017748833, 0.3359321057796478, 0.5526767373085022, -0.4867495000362396, 0.048316292464733124, 0.23294442892074585, 0.13551785051822662, 0.01196249108761549, -0.4594685435295105, 0.11930594593286514, 0.07443781197071075, -0.10942075401544571, -0.3649803102016449, 0.16004498302936554, -0.308648943901062, 0.12398142367601395, -0.09110291302204132, 0.24434272944927216, -0.5188291072845459, -0.13810327649116516, -0.08831103146076202, 0.19012318551540375, -0.1122841089963913, 0.038010772317647934, 0.13031701743602753, 0.21578942239284515, -0.18793481588363647, 0.05509016290307045, -0.22251717746257782, 0.07771424204111099, -0.19338038563728333, 0.341002881526947, 0.22970731556415558, -0.14168959856033325, -0.28350263833999634, -0.15038643777370453, -0.025542480871081352, -0.0990290716290474, 0.12206090241670609, -0.2748989164829254, -0.021720631048083305, 0.16572968661785126, -0.09749411791563034, -0.427386075258255, -0.28298965096473694, 0.14696110785007477, -0.09121964126825333, -0.2678091526031494, 0.11242207139730453, 0.1277967244386673, -0.32059621810913086, 0.28392237424850464, -0.09525991976261139, 0.014642677269876003, -0.2993081510066986, 0.44046249985694885, 0.11608188599348068, -0.05789605528116226, -0.061208099126815796, 0.12066223472356796, 0.04530172049999237, -0.1969306468963623, 0.045400332659482956, 0.07897549867630005, 0.01767982728779316, -0.10541898012161255, -0.19315874576568604, 0.15150165557861328, 0.09260036796331406, 0.1618495136499405, 0.1803140640258789, -0.3765791952610016, -0.09198924154043198, -0.00922464020550251, -0.29647523164749146, -0.233939528465271, -0.030633987858891487, -0.016266686841845512, 0.36112821102142334, 0.012116625905036926, 0.09891180694103241, -0.5016880631446838, -0.24544768035411835, 0.17550060153007507, 0.3308940827846527, -0.1607828289270401, 0.28083860874176025, 0.3623429536819458, 0.011472550220787525, 0.29237478971481323, 0.2031434327363968, 0.5219464302062988, 0.35045748949050903, -0.38115063309669495, 0.16250063478946686, -0.34658655524253845, -0.2538716793060303, 0.09206777811050415, -0.3354884386062622, -0.22196421027183533, 0.0028471779078245163, 0.24818186461925507, -0.013980318792164326, -0.4485298991203308, -0.09141320735216141, 0.11016778647899628, 0.5374606847763062, -0.22981899976730347, 0.09827937185764313, -0.109925776720047, -0.29784902930259705, 0.11522070318460464, 0.21607694029808044, 0.10367033630609512, -0.026628702878952026, 0.13155797123908997, 0.15938055515289307, -0.17962469160556793, -0.09238240122795105, 0.43976879119873047, 0.042429398745298386, -0.2104332000017166, 0.33424991369247437, 0.4107005000114441, 0.010044443421065807, 0.12688930332660675, 0.1256253719329834, -0.275033175945282, -0.009085855446755886, 0.21155190467834473, -0.23403619229793549, 0.3338402807712555, 0.19293805956840515, -0.2523276209831238, -0.24377605319023132, 0.1933855563402176, 0.18589197099208832, 0.2697584331035614, 0.07233917713165283, 0.013600056990981102, 0.027868151664733887, 0.0734022781252861, 0.11584918200969696, 0.17953740060329437, 0.18008264899253845, -0.009606489911675453, -0.2547394931316376, -0.03247082605957985, 0.15192271769046783, -0.2346811592578888, -0.16158480942249298, 0.3142094910144806, 0.2796890139579773, -0.07728265970945358, 0.14744608104228973, 0.1453859508037567, -0.39541861414909363, 0.20154410600662231, -0.1859196573495865, -0.0298513974994421, 0.5668482780456543, 0.17905451357364655, -0.25391125679016113, 0.06536649912595749, 0.3091089725494385, 0.06238069757819176, -0.2485499233007431, 0.15244433283805847, -0.3067052960395813, -0.21354438364505768, 0.13116219639778137, -0.18127599358558655, -0.08429741859436035, 0.07896897196769714, -0.2665240168571472, 0.26374000310897827, -0.013444852083921432, 0.03146255761384964, 0.2950785756111145, -0.3102568984031677, 0.13273845613002777, -0.040644481778144836, -0.2691951394081116, -0.08197122067213058, 0.023281428962945938, 0.1228112131357193, -0.05794142931699753, -0.19566455483436584, -0.20301130414009094, -0.24679668247699738, -0.41866517066955566, 0.00826994888484478, -0.27882587909698486, -0.15188562870025635, -0.22005581855773926, -0.027710657566785812, -0.4119170010089874, 0.33652442693710327, 0.0170332919806242, -0.29926061630249023, -0.09280925989151001, -0.0757816955447197, 0.05866565555334091, -0.09567268937826157, 0.07437256723642349, 0.1409626603126526, -0.38091111183166504, -0.18032768368721008, 0.17896881699562073, -0.1850207895040512, 0.08084524422883987, -0.3445446193218231, 0.27007466554641724, -0.2174946665763855, -0.43179142475128174, 0.06729376316070557, -0.2524196207523346, 0.09368488192558289, 0.03972587734460831, -0.4612919092178345, -0.195794478058815, -0.23549382388591766, 0.05600210279226303, 0.07004101574420929, 0.1435266137123108, -0.2958354949951172, -0.407958447933197, -0.3669290244579315, 0.271007239818573, -0.01407622266560793, -0.04854727163910866, 0.15604716539382935, 0.13021312654018402, 0.18512967228889465, -0.23793044686317444, 0.1653866022825241, 0.3461748957633972, 0.14758893847465515, 0.0577547587454319, -0.00909979734569788, 0.0557798370718956, -0.001321272342465818, -0.10354219377040863, 0.1284315586090088, -0.36482560634613037, -0.22051291167736053, -0.1694769263267517, 0.299001008272171, 0.09343698620796204, 0.07901503145694733, 0.08364350348711014, 0.16330747306346893, 0.16973359882831573, -0.046793870627880096, 0.0691419318318367, -0.18470384180545807, -0.23781409859657288, 0.2944013178348541, -0.1793055683374405, -0.2415190190076828, -0.067471943795681, -0.19841039180755615, 0.1911998689174652, -0.030668599531054497, -0.3304811716079712, 0.18416640162467957, -0.18006044626235962, 0.10063037276268005, 0.01702159270644188, 0.06950359046459198, 0.48857197165489197, -0.5849789381027222, 0.10848091542720795, -0.40763214230537415, 0.12428085505962372, 0.16084377467632294, 0.1275949776172638, -0.00846028421074152, 0.08846832811832428, 0.18335449695587158, -0.09439755231142044, -0.2597591280937195, -0.2434537261724472, 0.1583634465932846, 0.011122887954115868, 0.029054027050733566, -0.5918275713920593, -0.04397287964820862, -0.19968828558921814, -0.3376378118991852, -0.059546638280153275, -0.23516002297401428, -0.45357054471969604, 0.04202895238995552, -0.19719794392585754, 0.008064491674304008, 0.14852237701416016, 0.02224929817020893, 0.49981826543807983, 0.3232130706310272, 0.20043395459651947, 0.043821562081575394, 0.3340526819229126, -0.24210017919540405, 0.19320549070835114, 0.010489306412637234, 0.22733822464942932, -0.23646776378154755, -0.17027154564857483, 0.12740157544612885, 0.05364304780960083, -0.5945132970809937, 0.009662275202572346, -0.023594291880726814, 0.20320162177085876, -0.15081408619880676, -0.04428552836179733, 0.13465715944766998, 0.06377615034580231, -0.252150297164917, 0.08723712712526321, 0.11706116050481796, 0.3861891031265259, 0.11131272464990616, -0.44794073700904846, -0.379098504781723, 0.14742320775985718, -0.3193556070327759, -0.3227081894874573, -0.19650886952877045, 0.5283956527709961, 0.5232481956481934, -0.11315586417913437, -0.02596132457256317, -0.0551384761929512, 0.1877489537000656, -0.21428097784519196, 0.024546196684241295, 0.04928135499358177, -0.08280215412378311, 0.346878319978714, 0.10521774739027023, 0.17203295230865479, 0.36811575293540955, 0.09472079575061798, 0.173794686794281, 0.053830232471227646, 0.010253148153424263, -0.2821863889694214, -0.08278747648000717, 0.07200225442647934, -0.20135457813739777, 0.4056732952594757, -0.009641643613576889, -0.06261414289474487, -0.005350734572857618, 0.08594395220279694, -0.058535926043987274, 0.021184973418712616, -0.00717525277286768, 0.323090523481369, -0.22931742668151855, 0.14246714115142822, 0.6029622554779053, 0.2064913958311081, -0.36048173904418945, -0.14255626499652863, 0.038400787860155106, -0.07251720130443573, 0.1725572794675827, -0.16027362644672394, -0.09746754169464111, -0.4718964099884033, 0.5707511305809021, 0.43475452065467834, -0.2525830566883087, -0.022688861936330795, 0.10492169111967087, -0.10552729666233063, 0.05853395164012909, 0.0007708573830313981, -0.06798875331878662, -0.28494352102279663, -0.27759885787963867, 0.2630118429660797, -0.30054646730422974, 0.12829145789146423, 0.32986703515052795, -0.34321990609169006, 0.10620459169149399, 0.09228330105543137, 0.050540752708911896, -0.07454311847686768, -0.09722383320331573, 0.307638943195343, -0.11251403391361237, -0.19167913496494293, -0.18263280391693115, -0.22718477249145508, -0.046082206070423126, 0.050884224474430084, -0.361759215593338, 0.3884035050868988, -0.3722962439060211, 0.09548409283161163, -0.05181972682476044, -0.3212563097476959, 0.16644412279129028, 0.16053767502307892, -0.13161975145339966, -0.46482083201408386, -0.10108991712331772, -0.11670922487974167, -0.026083599776029587, -0.2736881971359253, 0.1336464285850525, 0.22889362275600433, 0.1603190302848816, 0.26413920521736145, 0.3594794273376465, -0.21722033619880676, 0.32313090562820435, -0.06813441962003708, 0.0501045398414135, -0.21018944680690765, -0.2483576089143753, 0.49890536069869995, -0.046902745962142944, 0.1682320386171341, 0.41537779569625854, -0.13479486107826233, 0.12504787743091583, 0.0807449147105217, -0.21465200185775757, 0.35853561758995056, -0.09817350655794144, 0.22525696456432343, 0.17745080590248108, -0.25226926803588867, 0.03133575618267059, -0.18283045291900635, -0.020418092608451843, -0.16478990018367767, 0.07582616806030273, -0.09562312066555023, -0.09010636806488037, -0.2031562626361847, -0.19691933691501617, 0.11305521428585052, 0.028865458443760872, -0.050589267164468765, -0.45635831356048584, 0.2639014422893524, 0.01646404340863228, 0.030934492126107216, -0.058820538222789764, -0.0872182846069336, -0.04463069513440132, -0.4626612663269043, 0.08452609926462173, 0.06359794735908508, 0.09161358326673508, 0.1114702895283699, -0.10324838757514954, 0.031653326004743576, 0.4418763220310211, -0.3414221405982971, -0.2741323411464691, 0.15505202114582062, 0.084527388215065, -0.23276083171367645, -0.024631913751363754, 0.17210891842842102, -0.39744484424591064, -0.028553318232297897, -0.220078706741333, -0.14149363338947296, 0.06835594028234482, -0.20675253868103027, -0.15916240215301514, -0.483087420463562, -0.08179498463869095, -0.251014769077301, 0.17646574974060059, -0.31013697385787964, -0.17018532752990723, 0.08425481617450714, -0.1464821994304657, -0.22657951712608337, -0.0591665655374527, 0.04149162396788597, 0.11914310604333878, -0.12212299555540085, -0.06428985297679901, 0.3682125210762024, 0.05961506441235542, -0.26960289478302, 0.008540418930351734, 0.13044410943984985, 0.09955829381942749, -0.1620820015668869, 0.09541109949350357, 0.19542905688285828, 0.3872396647930145, -0.07680094987154007, -0.024092480540275574, 0.19137762486934662, -0.06596141308546066, -0.127933070063591, 0.24033969640731812, -0.24227465689182281, 0.029381532222032547, -0.0005664432537741959, -0.14019465446472168, 0.3017294406890869, -0.48539999127388, 0.13457028567790985, -0.012147270143032074, -0.1965118795633316, 0.04525802284479141, 0.13840918242931366, 0.13292300701141357, -0.14695288240909576, -0.020328307524323463, -0.38618630170822144, 0.18450388312339783, -0.006019944325089455, 0.15738022327423096, 0.13737472891807556, 0.18961675465106964, 0.010556173510849476, 0.35944995284080505, 0.12288615107536316, -0.22366125881671906, -0.18307839334011078, -0.11669205874204636, 0.10556097328662872, -0.2865889072418213, 0.2805449068546295, 0.2888156771659851, 0.051321037113666534, 0.04101467505097389, 0.5930268168449402, -0.23235923051834106, 0.36483463644981384, -0.11296863108873367, -0.1558172106742859, -0.09229563176631927, -0.1972438395023346, 0.246548131108284, -0.4306928813457489, -0.09682773053646088, 0.04800344631075859, 0.058086149394512177, -0.2472979575395584, -0.04913408309221268, 0.04904608801007271, 0.3144114315509796, -0.3903351426124573, -0.17983151972293854, 0.06247865781188011, 0.2926616072654724, -0.0742204487323761, 0.16626709699630737, 0.09055858105421066, 0.04359918460249901, 0.44308120012283325, -0.16735433042049408, 0.3062930405139923, 0.28132715821266174, -0.03950105607509613, -0.5698495507240295, 0.6348161697387695, 0.08765889704227448, -0.2954837679862976, 0.18569190800189972, -0.11653681099414825, 0.1384182572364807, 0.42777201533317566, 0.10474066436290741, -0.29217785596847534, -0.3627564311027527, 0.1587708592414856, -0.10096844285726547, 0.0021581058390438557, -0.10360775142908096, -0.18983851373195648, -0.16872084140777588, 0.14110061526298523, -0.17401616275310516, -0.25318536162376404, 0.3082403838634491, 0.24450509250164032, -0.23403030633926392, -0.01105417963117361, -0.029014214873313904, -0.18430015444755554, 0.19651058316230774, 0.18573205173015594, 0.09236180782318115, -0.1324392408132553, -0.19309288263320923, 0.18421994149684906, 0.009895910508930683, -0.38388198614120483, -0.060826677829027176, 0.1537601500749588, -0.2223089188337326, -0.03925381600856781, -0.1281575858592987, -0.3332047760486603, -0.0705360397696495, -0.08358705788850784, 0.05181952565908432, 0.19801150262355804, -0.08145500719547272, -0.47643598914146423, 0.3852567672729492, 0.13137894868850708, -0.16567344963550568, -0.01377961691468954, 0.34338870644569397, 0.08356145024299622, 0.09900309145450592, 0.03176216781139374, 0.11821773648262024, 0.4723894000053406, -0.2499854415655136, -0.03912457078695297, 0.19294896721839905, -0.3834942579269409, -0.22837555408477783, 0.1272691935300827, 0.10824300348758698, -0.01651044748723507, 0.34259554743766785, -0.39312872290611267, -0.1400177776813507, 0.2603374123573303, 0.012904663570225239, 0.0329371802508831, 0.04818791523575783, 0.0003997495223302394, 0.36569470167160034, 0.051861993968486786, 0.11272506415843964, 0.11494531482458115, 0.4246584475040436, -0.019851911813020706, -0.3901042640209198, 0.14002755284309387, -0.04691192880272865, -0.39014357328414917, 0.13877922296524048, -0.037438467144966125, 0.21655023097991943, -0.1872178018093109, -0.3374094069004059, 0.06641475111246109, -0.15001234412193298, 0.35938242077827454, 0.05745575204491615, -0.13776558637619019, -0.09164267778396606, -0.14669956266880035, 0.40184229612350464, -0.0239267461001873, 0.14843620359897614, -0.3467347025871277, -0.34276673197746277, -0.016434283927083015, -0.32083022594451904, -0.06093082204461098, -0.36224478483200073, 0.1169867143034935, -0.13955296576023102, 0.18257951736450195, -0.13001060485839844, 0.048193059861660004, -0.02446623705327511, -0.09161602705717087, 0.47092288732528687, 0.07775140553712845, -0.16377660632133484, -0.21501824259757996, -0.32543879747390747, -0.40388086438179016, 0.10790374130010605, 0.06681538373231888, 0.41540446877479553, 0.030577627941966057, 0.08161035925149918, 0.25886157155036926, 0.17535877227783203, 0.21778996288776398, -0.2435574233531952, -0.06347533315420151, 0.08434560894966125, -0.54298335313797, 0.23116953670978546, -0.25037747621536255, 0.0639599934220314, 0.12110988050699234, -0.0023428848944604397, -0.18857455253601074, -0.011677144095301628, -0.17540395259857178, 0.1210377886891365, -0.0693073570728302, -0.26254281401634216, -0.24923059344291687, -0.1290745884180069, 0.060506608337163925, -0.08455757051706314, 0.11819253861904144, 0.1539582759141922, 0.29596248269081116, -0.006566872354596853, 0.3297816216945648, 0.08112155646085739, -0.13835912942886353, -0.05887109041213989, 0.08108972758054733, -0.3348952531814575, -0.5524749755859375, 0.29171842336654663, 0.02464180253446102, -0.23373250663280487, 0.17515142261981964, -0.0030676983296871185, 0.13211308419704437, 0.3702240288257599, -0.18466909229755402, -0.197474867105484, -0.1871226280927658, -0.2458745241165161, -0.028935544192790985, 0.08136163651943207, 0.045457638800144196, 0.06893003731966019, -0.272286593914032, -0.05644040182232857, 0.34069764614105225, -0.20506884157657623, 0.055115919560194016, -0.03643529862165451, -0.5493031144142151, 0.2492811232805252, -0.20466434955596924, -0.058830827474594116, 0.30843785405158997, -0.2051451951265335, -0.4387040138244629, 0.20290285348892212, 0.212567538022995, -0.0719894990324974, 0.04560890421271324, 0.14995062351226807, 0.07431863993406296, 0.051163461059331894, -0.027327140793204308, -0.0977715253829956, 0.21864287555217743, 0.08514397591352463, -0.09726398438215256, -0.46058371663093567, -0.43873876333236694, 0.4886171221733093, 0.07920801639556885, 0.18444806337356567, -0.2768189609050751, 0.027406126260757446, -0.1608879268169403, -0.1142149493098259, 0.10341012477874756, 0.16398604214191437, -0.13498952984809875, -0.06639643013477325, 0.07761615514755249, -0.1575917899608612, -0.3361927568912506, -0.5114949345588684, 0.15591683983802795, 0.12585538625717163, -0.040294136852025986, 0.09780174493789673, 0.027029959484934807, 0.1008482575416565, -0.038996390998363495, -0.2696059048175812, -0.23715831339359283, 0.3617084324359894, -0.08114694803953171, -0.38059180974960327, -0.1074950098991394, -0.13037824630737305, 0.013239433988928795, 0.010847833938896656, -0.20377537608146667, -0.2847493886947632, 0.16666658222675323, 0.03459576144814491, 0.35713645815849304, -0.09546471387147903, -0.5743820071220398, 0.06028143689036369, -0.2541302442550659, -0.030304627493023872, -0.21790236234664917, -0.059169452637434006, -0.2902621626853943, -0.33880293369293213, 0.0796932727098465, 0.004468116909265518, 0.19676049053668976, -0.16411130130290985, -0.23992422223091125, 0.11648237705230713, -0.08365316689014435, 0.08257400244474411, 0.030151281505823135, 0.1079985499382019, -0.09981821477413177, 0.13407205045223236, 0.1385461837053299, 0.22269925475120544, -0.280950665473938, 0.09756095707416534, 0.5351217985153198, 0.04220837727189064, 0.1607271134853363, 0.06943459808826447, -0.35299989581108093, 0.008017865009605885, 0.1329808235168457, 0.1583271324634552, -0.015327059663832188, 0.4031790494918823, -0.2062324434518814, -0.20998503267765045, 0.04630153998732567, 0.04478071257472038, -0.2633541524410248, 0.1157497763633728, -0.18295593559741974, 0.5636807084083557, 0.16975431144237518, -0.01626766100525856, -0.030508656054735184, -0.14522004127502441, 0.1678217202425003, 0.3270226716995239, -0.27032989263534546, 0.10784618556499481, -0.17458176612854004, 0.1526084691286087, -0.24345307052135468, 0.34278756380081177, 0.19509418308734894, 0.4895913600921631, 0.08599092811346054, -0.26854920387268066, -0.330513060092926, 0.35961639881134033, 0.022593606263399124, 0.49536246061325073, 0.29553624987602234, -0.3194696605205536, 0.1403052806854248, -0.1786513775587082, 0.03432159870862961, 0.14484262466430664, 0.15652215480804443, 0.16949526965618134, -0.024555232375860214, -0.011288350448012352, -0.03178207203745842, -0.0011124147567898035, 0.35878831148147583, -0.07051491737365723, -0.3017929494380951, 0.05180075392127037, -0.1997179388999939, 0.1028723269701004, -0.12280694395303726, 0.02301652729511261, 0.1808696985244751, -0.2311846911907196, 0.12772533297538757, -0.15065740048885345, 0.19053781032562256, -0.423467755317688, 0.025425661355257034, -0.2156018763780594, 0.6038239598274231, -0.01981501840054989, -0.39804452657699585, 0.11822976917028427, -0.5195497870445251, -0.27912238240242004, 0.5986015200614929, -0.17650051414966583, 0.053462568670511246, -0.23710507154464722, 0.09712261706590652, -0.29907405376434326, -0.4865425229072571, -0.08245472609996796, 0.3604259192943573, -0.07584798336029053, -0.10958731174468994, -0.09215211123228073, 0.07085294276475906, -0.014918944798409939, -0.06111384928226471, 0.11113276332616806, 0.5203001499176025, -0.3851139545440674, -0.18582163751125336, -0.25753986835479736, -0.2916072607040405, -0.020301785320043564, 0.1514863520860672, -0.04724150896072388, 0.263333797454834, -0.05463973432779312, -0.1595081239938736, -0.3420322835445404, -0.19335132837295532, 0.07503492385149002, 0.008971985429525375, 0.33798831701278687, -0.04732459411025047, 0.04478336498141289, -0.011912764981389046, 0.15348674356937408, -0.49719536304473877, -0.07245955616235733, 0.1064922958612442, 0.02136608213186264, 0.14763835072517395, 0.17301017045974731, 0.12742479145526886, -0.3159923851490021, 0.15670983493328094, -0.36575010418891907, 0.3705500662326813, 0.16400380432605743, 0.14888517558574677, -0.38721901178359985, -0.5036395788192749, -0.29402056336402893, -0.04592447727918625, 0.06568077206611633, 0.1250365525484085, -0.194657102227211, -0.04097733274102211, 0.021354712545871735, -0.0363936610519886, 0.28513574600219727, -0.29243624210357666, 0.15313895046710968, 0.09065242856740952, -0.17776350677013397, -0.28447383642196655, 0.047166258096694946, 0.24517877399921417, 0.00935002788901329, 0.18768897652626038, 0.006355615798383951, 0.11196345090866089, 0.1436881721019745, 0.15541519224643707, 0.2735273241996765, -0.210157573223114, 0.19134822487831116, -0.22656895220279694, 0.3114635646343231, 0.002195660024881363, -0.11510763317346573, 0.41216883063316345, 0.15504612028598785, -0.08834709227085114, 0.1496259719133377, -0.1605493724346161, 0.6139614582061768, -0.02923172153532505, -0.1335614174604416, -0.03534684702754021, -0.3870168924331665, -0.09448493272066116, 0.21535544097423553, 0.1462615430355072, 0.3808348476886749, -0.017333894968032837, -0.119625024497509, 0.02612718939781189, 0.20818474888801575, 0.5603308081626892, 0.038782887160778046, 0.19064664840698242, -0.2934952676296234, 0.38333356380462646, -0.040444888174533844, -0.2723650336265564, 0.07917247712612152, 0.24383504688739777, -0.06483513116836548, 0.19177879393100739, -0.050679389387369156, 0.3729565739631653, -0.08466390520334244, 0.11948750168085098, 0.24972787499427795, 0.02418404258787632, -0.193573996424675, 0.3355523943901062, 0.08145438134670258, 0.0520445890724659, 0.17410212755203247, 0.033687375485897064, 0.31130003929138184, 0.021128373220562935, 0.060522228479385376, -0.30697375535964966, 0.15392880141735077, -0.03509066253900528, -0.1879340261220932, 0.11863725632429123, -0.47870248556137085, 0.33472537994384766, 0.043133694678545, -0.18464036285877228, 0.10913663357496262, 0.16551579535007477, -0.13218778371810913, 0.25179243087768555, -0.017747048288583755, 0.03216933831572533, 0.14674712717533112, 0.3125733435153961, 0.1320473998785019, -0.14603911340236664, -0.20922714471817017, -0.010370928794145584, 0.10648225247859955, 0.5162448883056641, -0.3163791596889496, -0.0662863627076149, -0.35257017612457275, 0.4381110966205597, -0.23128925263881683, -0.12478740513324738, -0.28030869364738464, 0.17395026981830597, 0.4807851016521454, -0.08687717467546463, 0.004979597870260477, -0.24279853701591492, 0.1755823791027069, 0.10357780009508133, 0.11391611397266388, 0.2185232937335968, -0.11626389622688293, 0.02982507087290287, -0.163481667637825, 0.3467148244380951, 0.17871323227882385, 0.0634516030550003, 0.5568441152572632, -0.06645134836435318, -0.4488055109977722, 0.14317135512828827, 0.15388761460781097, -0.19217170774936676, -0.2505665719509125, -0.19530843198299408, -0.34691277146339417, -0.2512017488479614, -0.18140380084514618, 0.05995260551571846, 0.1648726761341095, -0.2649397552013397, 0.40487292408943176, 0.17256157100200653, -0.4410535991191864, -0.3170294463634491, -0.2485845983028412, 0.1284722089767456, 0.4202892482280731, -0.047718632966279984, -0.09584341198205948, 0.36484408378601074, 0.07839265465736389, 0.33027511835098267, 0.4772873818874359, 0.4610931873321533, 0.1204557791352272, 0.11997827887535095, -0.15337137877941132, 0.3481922745704651, 0.19720198214054108, 0.08543048799037933, -0.399187833070755, 0.44987866282463074, -0.07471725344657898, -0.26366743445396423, 0.27337661385536194, 0.048733897507190704, 0.13871139287948608, -0.38047128915786743, -0.07626238465309143, 0.4305749535560608, 0.3615584671497345, 0.29017436504364014, 0.028084246441721916, 0.43746376037597656, 0.04749656096100807, -0.24950319528579712, 0.3617044687271118, -0.3616045117378235, 0.28568148612976074, 0.08591672778129578, -0.2771525979042053, -0.2497437596321106, 0.013782909139990807, -0.11172262579202652, -0.5288994312286377, 0.13751338422298431, 0.15164066851139069, 0.06017805635929108, -0.31680381298065186, -0.3387165069580078, -0.14766569435596466, 0.1470884382724762, -0.24353797733783722, -0.07385171949863434, 0.2763824462890625, 0.08569516986608505, 0.5995690822601318, 0.3157826066017151, 0.03213440254330635, -0.051883552223443985, -0.04660499468445778, -0.45296570658683777, -0.2586303651332855, 0.33261024951934814, 0.18848730623722076, -0.31390461325645447, 0.19411252439022064, 0.10773999989032745, 0.39621245861053467, -0.07625995576381683, 0.18180982768535614, 0.05404088273644447, 0.3780835270881653, 0.18587897717952728, -0.05434301868081093, -0.19909979403018951, 0.12101949006319046, 0.042383987456560135, 0.12542618811130524, 0.06704473495483398, -0.23433396220207214, -0.012386293150484562, -0.30410999059677124, 0.5816141366958618, 0.28384795784950256, 0.0028751641511917114, 0.19251519441604614, -0.06241491809487343, -0.4130559265613556, 0.06067182868719101, 0.026631120592355728, 0.2088530957698822, 0.0829608291387558, -0.0958603098988533, -0.3317146301269531, 0.33010417222976685, 0.18816399574279785, -0.21318739652633667, 0.5132729411125183, -0.25312817096710205, 0.18928949534893036, -0.2861088216304779, -0.1254776567220688, 0.3382434546947479, 0.0632900819182396, 0.2212192714214325, -0.25954654812812805, -0.026868613436818123, 0.09245578199625015, 0.36395618319511414, -0.29000401496887207, -0.008348123170435429, 0.12261578440666199, -0.22212530672550201, -0.2853912115097046, 0.11524813622236252, -0.03146626800298691, -0.2532658576965332, -0.07797563821077347, 0.36776822805404663, 0.04133005440235138, -0.5838037133216858, -0.10422132164239883, 0.040343936532735825, 0.4030802547931671, 0.14886519312858582, -0.15104657411575317, 0.10753121227025986, 0.210005983710289, 0.3428928256034851, 0.13135658204555511, 0.036085426807403564, 0.02783430740237236, 0.4991340637207031, 0.19725774228572845, 0.5962933897972107, -0.04058162495493889, 0.2992503046989441, 0.08174005150794983, 0.18374642729759216, -0.003979349974542856, 0.19059427082538605, -0.28974083065986633, 0.19814445078372955, -0.04131195694208145, -0.07713531702756882, 0.18912571668624878, 0.43231862783432007, -0.2571724057197571, 0.000752793624997139, -0.0947447344660759, 0.1500938981771469, 0.17053796350955963, 0.18827490508556366, -0.2161620408296585, -0.04288711026310921, -0.09213721752166748, -0.12396026402711868, -0.2915728986263275, -0.421680212020874, -0.18787334859371185, 0.014434678480029106, -0.2841464579105377, -0.357156902551651, 0.18785975873470306, 0.0372265987098217, 0.05612608417868614, -0.22967658936977386, -0.2641483247280121, -0.1344502717256546, -0.16293375194072723, 0.4043312072753906, -0.23349960148334503, -0.0981736034154892, 0.34354913234710693, -0.27543696761131287, 0.11312907934188843, -0.29129457473754883, -0.07029154151678085, -0.2010933756828308, -0.18640579283237457, -0.03513536602258682, -0.38346531987190247, 0.25909721851348877, 0.3456251621246338, 0.2197587937116623, 0.01893501915037632, -0.06438197940587997, 0.11315758526325226, 0.3991771340370178, 0.11921615898609161, 0.14291179180145264, -0.005024006124585867, 0.15013860166072845, -0.2853572368621826, -0.28730303049087524, -0.03690391406416893, 0.359699010848999, 0.34882280230522156, -0.14911441504955292, -0.3053728938102722, -0.020552508533000946, -0.012798551470041275, 0.18348157405853271, 0.14631278812885284, 0.14568743109703064, 0.15883658826351166, 0.17698965966701508, -0.06302197277545929, 0.09951046854257584, -0.18459713459014893, 0.1101730540394783, -0.4916982650756836, -0.014000252820551395, 0.016289569437503815, -0.2543734610080719, 0.5049130916595459, 0.004205295350402594, 0.15528981387615204, -0.06889864057302475, 0.2744467854499817, -0.2915356755256653, -0.11644595861434937, 0.0006288511212915182, 0.33662617206573486, 0.1925065517425537, 0.4828117787837982, -0.23480692505836487, 0.04576953127980232, 0.11389566212892532, 0.012704994529485703, 0.29099616408348083, -0.251385360956192, -0.46177199482917786, 0.051706764847040176, -0.11045803129673004, -0.20474477112293243, -0.28403061628341675, 0.19186340272426605, 0.24957939982414246, 0.00807908084243536, 0.12231828272342682, 0.13458047807216644, 0.16220121085643768, 0.155698761343956, 0.3996752202510834, -0.05715387314558029, -0.021509507670998573, 0.15634314715862274, -0.07767097651958466, 0.01144313346594572, 0.447556734085083, 0.002416286151856184, -0.04864906892180443, -0.2534094750881195, 0.06734192371368408, 0.17692002654075623, 0.28996336460113525, -0.39956235885620117, -0.08970034867525101, 0.13835231959819794, -0.29202204942703247, 0.03356466442346573, 0.1785600185394287, -0.4414984881877899, 0.3356124460697174, -0.1455533355474472, -0.02133343555033207, 0.5423018336296082, 0.06417248398065567, -0.2949671745300293, 0.17591004073619843, 0.09312614053487778, -0.4227486848831177, -0.20319966971874237, 0.013792182318866253, 0.2518347501754761, 0.04018044471740723, -0.2086401730775833, 0.11898273229598999, 0.02861613593995571, -0.09231629967689514, -0.38406187295913696, 0.1538512408733368, -0.11963953822851181, -0.047280970960855484, 0.2919907569885254, 0.14891277253627777, 0.3553444743156433, -0.06544649600982666, 0.2864409387111664, -0.25335532426834106, -0.22665168344974518, -0.21008694171905518, -0.10797770321369171, 0.14449191093444824, -0.23056960105895996, -0.027981018647551537, -0.08008074760437012, 0.12199309468269348, 0.5607336163520813, -0.262285977602005, 0.48908674716949463, 0.194149449467659, 0.12116318941116333, 0.033307019621133804, -0.009732198901474476, -0.3125714659690857, -0.2018783688545227, -0.02061385288834572, -0.2635766863822937, 0.014497147873044014, -0.1533595770597458, -0.4591231644153595, 0.02794750966131687, 0.35705992579460144, -0.12039180845022202, 0.16536036133766174, -0.2375790923833847, -0.2461991161108017, 0.08642710745334625, 0.05688617005944252, -0.28098931908607483, -0.27506303787231445, 0.0947406142950058, -0.20820948481559753, -0.29085418581962585, -0.03483932465314865, 0.3374321162700653, -0.05979730561375618, 0.061086077243089676, 0.0965588241815567, 0.404602974653244, 0.10768865793943405, -0.3084387183189392, 0.14025035500526428, -0.4472353458404541, -0.013008694164454937, 0.012492142617702484, -0.5025818943977356, 0.1289118528366089, -0.06513869762420654, 0.14423316717147827, 0.009853330440819263, -0.22370624542236328, 0.055081162601709366, -0.3105928897857666, 0.08735472708940506, 0.23206816613674164, -0.010852193459868431, 0.1561407446861267, 0.00976811908185482, 0.06727419793605804, -0.3603498637676239, -0.24168667197227478, -0.3101334273815155, 0.05500614643096924, 0.11345484852790833, -0.21198569238185883, 0.15357667207717896, 0.06772848218679428, 0.3519720733165741, -0.009833842515945435, 0.07693316787481308, 0.004751223139464855, -0.2051955759525299, -0.14333854615688324, -0.29963481426239014, 0.161251038312912, -0.16858632862567902, 0.03620437905192375, -0.11289847642183304, -0.11705496907234192, 0.04057856649160385, 0.14755231142044067, -0.06933102011680603, -0.2405746728181839, -0.227315291762352, -0.011401502415537834, -0.19488288462162018, 0.2836269736289978, -0.012086295522749424, -0.008402547799050808, 0.05336148291826248, 0.037647370249032974, -0.33368560671806335, 0.2582995295524597, 0.0856468677520752, -0.26320555806159973, -0.27394378185272217, -0.01038544625043869, -0.19631116092205048, -0.2530394196510315, 0.15292468667030334, 0.05081423744559288, -0.2764533460140228, -0.05359610542654991, 0.12080033123493195, -0.2729725241661072, -0.007636738009750843, -0.21914291381835938, -0.23293814063072205, 0.32851719856262207, -0.15582838654518127, -0.09007733315229416, 0.29998788237571716, -0.08747735619544983, 0.06876282393932343, 0.07206403464078903, -0.16802002489566803, -0.20179171860218048, -0.0499681755900383, -0.2627757787704468, 0.11959215253591537, 0.0059840986505150795, -0.5771819353103638, -0.1566377580165863, 0.07484292984008789, 0.11551099270582199, 0.41418129205703735, 0.33078888058662415, -0.1583137810230255, 0.03673552721738815, -0.17031612992286682, -0.05108137056231499, -0.45976027846336365, 0.16297312080860138, 0.08104033023118973, -0.2387360781431198, 0.12678396701812744, -0.4370858669281006, -0.2609659731388092, 0.19055017828941345, -0.05089879408478737, 0.39510440826416016, -0.2681676745414734, -0.021443767473101616, 0.13329900801181793, 0.10663552582263947, 0.1769944280385971, -0.19512932002544403, 0.3906128406524658, 0.14925144612789154, -0.025872521102428436, -0.5411050915718079, 0.17549632489681244, -0.16993026435375214, 0.1433318555355072, 0.19513101875782013, 0.05429122969508171, -0.051398783922195435, -0.0884275734424591, -0.3155486285686493, 0.046093057841062546, -0.035815559327602386, -0.0705416277050972, -0.286550909280777, 0.19679950177669525, -0.1321685016155243, -0.013832567259669304, -0.05381925031542778, -0.0409674234688282, 0.09838385879993439, -0.33780041337013245, 0.18859609961509705, 0.09338688850402832, -0.4558059573173523, 0.14577022194862366, 0.40282973647117615, 0.392482727766037, 0.1327393501996994, -0.06706991046667099, -0.23716707527637482, 0.16612061858177185, 0.17385663092136383, -0.14594046771526337, 0.18103329837322235, 0.038749899715185165, -0.2546977996826172, -0.2948496341705322, -0.15324953198432922, -0.2920796871185303, -0.586431086063385, 0.00922220479696989, -0.24839971959590912, -0.09054281562566757, -0.06849756836891174, 0.1044870987534523, -0.07264850288629532, 0.15565542876720428, -0.20076844096183777, -0.027502700686454773, 0.20594102144241333, 0.5237846374511719, 0.428378164768219, 0.12652133405208588, -0.23762886226177216, -0.046425942331552505, 0.12372085452079773, -0.2902052104473114, 0.4687398374080658, 0.2072581946849823, 0.06144200637936592, -0.1200937032699585, 0.0423467792570591, -0.17844772338867188, -0.002735312096774578, 0.140314981341362, -0.2719784379005432, 0.2960799038410187, 0.1445835828781128, -0.08523950725793839], \"y\": [0.45872414112091064, -0.17106549441814423, -0.4048384130001068, 0.08212784677743912, 0.20145133137702942, -0.2761407196521759, -0.09534545987844467, -0.46104806661605835, -0.6086298227310181, 0.5103956460952759, 0.4798841178417206, 0.07952999323606491, -0.5773434042930603, 0.2223816215991974, 0.22058425843715668, 0.20782163739204407, 0.1896582543849945, 0.30535250902175903, 0.33037126064300537, -0.026652513071894646, 0.3695513606071472, 0.18561798334121704, 0.3042238652706146, 0.19097602367401123, -0.1384977102279663, 0.15727286040782928, 0.3458435833454132, -0.01610518805682659, 0.3023682236671448, 0.3060818314552307, 0.24537107348442078, 0.06430132687091827, -0.006699896417558193, 0.08029090613126755, 0.17929698526859283, -0.05901745334267616, -0.25820571184158325, -0.3214704990386963, -0.1904115080833435, 0.388736367225647, 0.4861238896846771, 0.1411488652229309, 0.2928958833217621, -0.33549240231513977, 0.07521761953830719, -0.15687409043312073, 0.3048326075077057, -0.4283357858657837, -0.1461094468832016, -0.10606389492750168, 0.059150464832782745, 0.17051920294761658, -0.32021182775497437, 0.17829826474189758, -0.11466763913631439, 0.0728650763630867, 0.42314261198043823, 0.36202824115753174, -0.3405456244945526, -0.09810374677181244, -0.5100862979888916, 0.5025209188461304, 0.3262328505516052, -0.27527862787246704, 0.35132646560668945, 0.20286838710308075, -0.3020426034927368, -0.22663572430610657, 0.3252001702785492, 0.19686223566532135, -0.48166143894195557, -0.3611432909965515, -0.004355182405561209, 0.250174343585968, 0.265885591506958, -0.4115775227546692, -0.12845788896083832, 0.24260471761226654, 0.22722381353378296, 0.1714000254869461, 0.22690562903881073, -0.16366879642009735, -0.48611485958099365, -0.5156660079956055, 0.14534932374954224, -0.3985484838485718, 0.3554995059967041, 0.17338813841342926, -0.38016477227211, 0.23314300179481506, 0.1779431700706482, 0.2537841796875, 0.37806639075279236, 0.13650888204574585, -0.3858654201030731, 0.06519889831542969, 0.09758441895246506, 0.28272539377212524, -0.4720955491065979, 0.5372992157936096, 0.46244552731513977, 0.30719417333602905, -0.30352750420570374, -0.302558571100235, 0.06111704930663109, -0.3522396981716156, -0.6193833351135254, -0.1475857049226761, 0.30950698256492615, -0.3486231565475464, 0.2651404142379761, 0.22749026119709015, -0.33896681666374207, -0.4369468092918396, -0.3899175822734833, 0.07902466505765915, 0.13398046791553497, 0.21313712000846863, -0.25775736570358276, 0.2506478428840637, 0.10687239468097687, 0.15989145636558533, 0.04799707606434822, -0.08285742998123169, -0.040440838783979416, 0.34389546513557434, -0.0349624939262867, -0.1542038917541504, -0.0108781848102808, -0.07388842105865479, -0.44322559237480164, 0.059557169675827026, 0.06341767311096191, 0.5672134160995483, -0.22287702560424805, 0.332197904586792, 0.32373157143592834, 0.43349555134773254, -0.516954243183136, 0.24920815229415894, 0.3169441819190979, 0.21153271198272705, 0.4104909300804138, -0.6408083438873291, -0.024677209556102753, -0.01073515135794878, 0.06979445368051529, 0.19236662983894348, 0.3243202269077301, -0.29887089133262634, -0.19026443362236023, 0.18131417036056519, 0.17209552228450775, 0.2677808105945587, 0.3912954032421112, 0.07857003062963486, -0.4808139204978943, -0.021338392049074173, 0.2568085193634033, -0.1194395199418068, 0.15266305208206177, 0.029544901102781296, 0.13217860460281372, 0.08234098553657532, 0.12505771219730377, 0.36743688583374023, 0.0807076245546341, 0.34143686294555664, 0.17472702264785767, 0.2590205669403076, 0.1450216919183731, -0.21649600565433502, 0.22038406133651733, 0.46261656284332275, -0.1752743273973465, 0.12093773484230042, 0.4061248004436493, 0.1907431185245514, 0.2470388114452362, -0.5148318409919739, 0.08562721312046051, -0.42131248116493225, 0.09511017799377441, -0.5520973205566406, 0.1391432285308838, 0.33192178606987, 0.30854368209838867, -0.44850319623947144, -0.6324731707572937, 0.239535391330719, -0.33881381154060364, -0.12890374660491943, 0.12322720885276794, -0.5505202412605286, 0.4293632507324219, 0.3863445520401001, -0.03296191617846489, -0.5349494814872742, 0.012411000207066536, 0.11765502393245697, 0.11861137300729752, -0.021738169714808464, 0.1607651263475418, -0.7846793532371521, -0.3855724632740021, -0.10969603061676025, 0.3135855197906494, 0.35229629278182983, 0.4195287525653839, -0.4822121560573578, -0.5700153112411499, 0.13340283930301666, 0.24757611751556396, -0.34334516525268555, 0.2015628069639206, 0.03538565710186958, 0.1696084886789322, 0.24894048273563385, 0.3564023971557617, -0.358493834733963, -0.013730357401072979, -0.26420527696609497, 0.32128697633743286, 0.15082237124443054, -0.34065496921539307, 0.12725727260112762, -0.16973108053207397, 0.25688856840133667, -0.3489105701446533, -0.44084662199020386, -0.3884282410144806, 0.3292364180088043, -0.3767676055431366, -0.4574562907218933, 0.10894165933132172, -0.08119313418865204, 0.15039250254631042, 0.21378053724765778, -0.5339269042015076, 0.13524587452411652, 0.46144068241119385, 0.1784919947385788, -0.3691280484199524, 0.27106812596321106, -0.8058922290802002, 0.11670025438070297, 0.20557226240634918, -0.6206184029579163, -0.5196412801742554, -0.5205362439155579, -0.4022672474384308, -0.5000008344650269, 0.11304742097854614, 0.0850156769156456, 0.0624651238322258, 0.17606303095817566, -0.27010205388069153, 0.5335449576377869, -0.3238409161567688, -0.384370356798172, -0.5224249362945557, -0.790367841720581, 0.21429570019245148, -0.008587111718952656, -0.4261768162250519, -0.1102197989821434, -0.47030967473983765, 0.06299175322055817, 0.40911227464675903, 0.2678145468235016, 0.26771506667137146, -0.14462818205356598, -0.1802796572446823, -0.5661790370941162, -0.3110470473766327, 0.2356758564710617, 0.27167531847953796, -0.22031007707118988, 0.304137259721756, -0.4406653344631195, 0.4521777331829071, 0.4032670259475708, -0.08436162024736404, 0.04478452727198601, 0.33101749420166016, 0.1921098828315735, 0.026782989501953125, -0.6446036100387573, 0.16111981868743896, 0.2680172026157379, 0.10477377474308014, 0.3100299835205078, 0.07103700190782547, -0.018877213820815086, -0.4549800753593445, -0.2661663889884949, 0.03013737127184868, 0.2388611137866974, 0.3121524155139923, 0.195269376039505, 0.3679248094558716, 0.3169650435447693, 0.05455617606639862, 0.31232142448425293, -0.43748554587364197, 0.005692618433386087, -0.5251457095146179, -0.49652808904647827, -0.030013086274266243, 0.233613058924675, 0.20043213665485382, -0.4158235490322113, -0.576650857925415, -0.4215518534183502, 0.2933157682418823, 0.09853560477495193, -0.5597842931747437, -0.47915953397750854, 0.26086682081222534, -0.06890394538640976, -0.23986518383026123, -0.28304868936538696, -0.4401119649410248, -0.7954884767532349, 0.1549457460641861, -0.35088250041007996, -0.2645157277584076, -0.22919538617134094, 0.19718539714813232, 0.05201476812362671, 0.10514144599437714, -0.28014910221099854, -0.2591536045074463, 0.5287647843360901, -0.05774867907166481, -0.18341399729251862, -0.2994901239871979, 0.09756049513816833, -0.10730065405368805, 0.10637690871953964, -0.014768854714930058, 0.09162704646587372, 0.40630120038986206, -0.7860679626464844, -0.4000402092933655, 0.12278471887111664, 0.1939910650253296, 0.2445289045572281, 0.24853330850601196, 0.28560033440589905, 0.011810229159891605, -0.3686636984348297, 0.2657791078090668, -0.08800623565912247, -0.24398520588874817, 0.21126918494701385, 0.30153775215148926, -0.22705228626728058, -0.6242821216583252, 0.19701945781707764, 0.14952558279037476, -0.498217910528183, 0.29626357555389404, 0.3258635997772217, 0.1072322279214859, -0.11813019961118698, 0.19309519231319427, 0.36896535754203796, 0.3549955189228058, -0.42625245451927185, -0.5420297384262085, -0.2936079502105713, -0.26010844111442566, -0.2845364511013031, 0.138412743806839, -0.33501625061035156, 0.3045354187488556, 0.31147873401641846, 0.4507434666156769, 0.041117217391729355, -0.21631203591823578, -0.26823240518569946, 0.311710387468338, 0.16031529009342194, -0.6289632320404053, 0.19971758127212524, -0.39355599880218506, -0.28386634588241577, 0.24826756119728088, -0.6454212069511414, -0.4445874094963074, 0.08388805389404297, 0.09127222001552582, 0.048525121062994, 0.2456442266702652, 0.17728082835674286, 0.3343344032764435, -0.29355302453041077, -0.15710656344890594, 0.264661967754364, -0.4884626567363739, 0.37363994121551514, 0.26471492648124695, 0.16197362542152405, 0.04759921506047249, 0.05652519688010216, 0.4813622236251831, 0.3038678765296936, -0.7689434885978699, 0.11838916689157486, 0.4533482491970062, 0.2799631953239441, 0.09334210306406021, -0.6646170616149902, 0.26515471935272217, 0.19912977516651154, -0.12292120605707169, -0.6261131167411804, 0.22093555331230164, -0.31610286235809326, 0.22454647719860077, 0.017044126987457275, 0.1105048730969429, -0.6479259133338928, -0.07600852847099304, 0.07627281546592712, 0.37139156460762024, -0.09097369760274887, 0.09794437140226364, 0.3285015821456909, 0.18464408814907074, -0.19931603968143463, 0.15210247039794922, -0.2866368591785431, 0.15859004855155945, -0.16299165785312653, 0.3538709580898285, 0.2276846170425415, -0.09257589280605316, -0.46767181158065796, -0.23749297857284546, 0.05131252855062485, -0.19686056673526764, 0.3101723790168762, -0.34463801980018616, 0.08528266847133636, 0.3497258424758911, -0.05714079737663269, -0.7106512188911438, -0.49714329838752747, 0.09977824240922928, -0.26052019000053406, -0.2867710292339325, 0.23122520744800568, 0.2565244138240814, -0.6027346849441528, 0.33612191677093506, -0.12411316484212875, 0.14029361307621002, -0.4538037180900574, 0.23429551720619202, 0.28539812564849854, -0.011088132858276367, -0.00017712950648274273, 0.18224218487739563, 0.1102544367313385, -0.15863315761089325, -0.11430732160806656, 0.16315338015556335, 0.06589016318321228, -0.06583954393863678, -0.25844937562942505, 0.25420472025871277, -0.014691156335175037, 0.33783793449401855, 0.34441691637039185, -0.5166556239128113, -0.07872439920902252, 0.1185813769698143, -0.4164878726005554, -0.42500799894332886, 0.04853583499789238, 0.03843728452920914, 0.20951031148433685, -0.010791948065161705, 0.12512244284152985, -0.7263824939727783, -0.2336537092924118, 0.30721208453178406, 0.4319953918457031, -0.3544226288795471, 0.523714005947113, 0.3220610022544861, 0.06930603086948395, 0.36896273493766785, 0.37072819471359253, 0.23382355272769928, 0.5565122365951538, -0.5272199511528015, 0.3586970567703247, -0.44849032163619995, -0.32111531496047974, 0.1994226574897766, -0.5774684548377991, -0.13916894793510437, 0.05004749447107315, 0.30649077892303467, -0.005447909701615572, -0.5982071757316589, -0.039171792566776276, 0.31656238436698914, 0.24299728870391846, -0.31067153811454773, 0.27355125546455383, -0.02285313606262207, -0.4639737904071808, 0.3341592252254486, 0.1995994597673416, 0.2313224822282791, 0.001556555973365903, 0.27732595801353455, 0.30083489418029785, -0.20117709040641785, -0.08088462799787521, 0.43314629793167114, 0.1525597870349884, -0.5376033186912537, 0.5297216176986694, 0.24815760552883148, 0.10674537718296051, 0.3044315278530121, 0.21258822083473206, -0.3686385452747345, 0.11655498296022415, 0.3584132194519043, -0.4695829451084137, 0.47459882497787476, 0.34044358134269714, -0.4400665760040283, -0.2741882801055908, 0.34738612174987793, 0.3446212112903595, 0.38859349489212036, 0.22197338938713074, 0.18543502688407898, 0.015189342200756073, 0.19772624969482422, 0.14571276307106018, 0.23168674111366272, 0.37693434953689575, -0.013702310621738434, -0.49187418818473816, -0.03942833095788956, 0.03510037064552307, -0.36917585134506226, -0.12101644277572632, 0.35127660632133484, 0.4733235538005829, 0.06008258834481239, 0.3184598386287689, 0.1734597235918045, -0.5147480964660645, 0.31396350264549255, -0.38713690638542175, -0.18680539727210999, 0.2787390947341919, 0.3270677626132965, -0.2587001621723175, 0.1671234667301178, 0.30249443650245667, 0.24094976484775543, -0.3511202335357666, 0.2971113622188568, -0.6087502241134644, -0.5957481861114502, 0.26910555362701416, -0.3318328559398651, -0.12916511297225952, 0.1164247915148735, -0.443402498960495, 0.4376506805419922, 0.07512558996677399, 0.053589463233947754, 0.32781633734703064, -0.47907358407974243, 0.3323131501674652, -0.08237416297197342, -0.3763888478279114, -0.014554168097674847, 0.13194192945957184, 0.18963705003261566, -0.013718223199248314, -0.15542183816432953, -0.16092713177204132, -0.30911943316459656, -0.6779249906539917, 0.05031447485089302, -0.34299153089523315, -0.17215512692928314, -0.23603588342666626, -0.001268867403268814, -0.4792463481426239, 0.30499324202537537, -0.09741552919149399, -0.5808722376823425, -0.09258707612752914, 0.03904358297586441, 0.11416862159967422, -0.08013931661844254, 0.18658150732517242, 0.32904478907585144, -0.6202174425125122, -0.10485463589429855, 0.29755523800849915, -0.28517889976501465, 0.1660461574792862, -0.5597613453865051, 0.3285819888114929, -0.48374801874160767, -0.5743677616119385, 0.07078385353088379, -0.48715531826019287, 0.23655278980731964, 0.19475460052490234, -0.5927900671958923, -0.232915997505188, -0.29789090156555176, 0.1807224601507187, 0.16475510597229004, 0.034472301602363586, -0.4867415726184845, -0.5723782777786255, -0.44218727946281433, 0.3560948669910431, 0.060170017182826996, -0.1668466478586197, 0.2297791689634323, 0.20199772715568542, 0.33899104595184326, -0.3258659243583679, 0.3536897599697113, 0.1966356635093689, 0.3846140503883362, 0.16199544072151184, 0.07550986856222153, 0.17297689616680145, 0.0397285632789135, -0.19652114808559418, 0.242082878947258, -0.5640040040016174, -0.44325754046440125, -0.303183376789093, 0.3242044150829315, 0.24673356115818024, 0.24105507135391235, 0.210387721657753, 0.34861379861831665, 0.26812952756881714, 0.006840748246759176, 0.12125955522060394, -0.3868381977081299, -0.43428394198417664, 0.4990811347961426, -0.3654652535915375, -0.32741618156433105, 0.07544606924057007, -0.1580418050289154, 0.10226965695619583, 0.012276549823582172, -0.36440134048461914, 0.3601526618003845, -0.23050011694431305, 0.2523272931575775, -0.03411736339330673, 0.2206324189901352, 0.2313896268606186, -0.7413901090621948, 0.09549157321453094, -0.6851450800895691, 0.24583445489406586, 0.35648173093795776, 0.14378920197486877, 0.10286742448806763, 0.1451372653245926, 0.35354968905448914, -0.35073626041412354, -0.3787681460380554, -0.4012422263622284, 0.3822629749774933, 0.06183888390660286, -0.12363625317811966, -0.8319827318191528, -0.2526472508907318, -0.4380767047405243, -0.5195408463478088, -0.12430273741483688, -0.2823929488658905, -0.7316209673881531, 0.10604477673768997, -0.1345120370388031, 0.0895901471376419, 0.32351285219192505, 0.13584832847118378, 0.2671796977519989, 0.3774263560771942, 0.35030490159988403, 0.16940109431743622, 0.4932827055454254, -0.36591866612434387, 0.2655841112136841, 0.09900505095720291, 0.21083711087703705, -0.3538378179073334, -0.1549619436264038, 0.2700866162776947, 0.25579801201820374, -0.7018105387687683, 0.1225796639919281, 0.01828678511083126, 0.2741321623325348, -0.3204740583896637, -0.09622633457183838, 0.3037061393260956, 0.0660550594329834, -0.26436877250671387, 0.09847328811883926, 0.24313712120056152, 0.5494562983512878, 0.15973488986492157, -0.5834539532661438, -0.6569733619689941, 0.3641476333141327, -0.45271268486976624, -0.3092789947986603, -0.2500605285167694, 0.2934219241142273, 0.30186110734939575, -0.05113016441464424, 0.10723982751369476, 0.041161537170410156, 0.20767907798290253, -0.31647825241088867, 0.10664742439985275, 0.08758437633514404, 0.08014534413814545, 0.4659024775028229, 0.25729620456695557, 0.3105299174785614, 0.493441104888916, 0.2643948197364807, 0.33438098430633545, -0.0754675567150116, 0.11256598681211472, -0.44495049118995667, -0.08561904728412628, 0.17052625119686127, -0.1491817682981491, 0.30607062578201294, 0.05785716697573662, -0.01782267540693283, 0.09232710301876068, 0.25330492854118347, -0.1584780067205429, 0.032656315714120865, 0.08303125947713852, 0.5470251441001892, -0.24792693555355072, 0.24924547970294952, 0.2822585701942444, 0.4193737506866455, -0.5035771727561951, -0.11999107897281647, 0.0454566553235054, -0.10139753669500351, 0.3468342423439026, -0.05277041345834732, -0.07098683714866638, -0.623253583908081, 0.3037755787372589, 0.24054525792598724, -0.40472978353500366, 0.13492943346500397, 0.17307211458683014, -0.23237529397010803, 0.12203848361968994, 0.10713424533605576, 0.052609462291002274, -0.32137879729270935, -0.4007701873779297, 0.38985493779182434, -0.5124489068984985, 0.1707456409931183, 0.5020173788070679, -0.42954692244529724, 0.2244294285774231, 0.22677259147167206, 0.17293646931648254, -0.23623117804527283, -0.054931700229644775, 0.49963706731796265, -0.3091585636138916, -0.34687474370002747, -0.3830479383468628, -0.14289253950119019, -0.015983348712325096, 0.1467893272638321, -0.5317156314849854, 0.2586946189403534, -0.4418734014034271, 0.278099924325943, -0.09553996473550797, -0.5287300944328308, 0.3446826934814453, 0.32323557138442993, -0.11210495233535767, -0.6297833323478699, -0.06071820855140686, -0.03622870147228241, -0.05244126543402672, -0.32408297061920166, 0.27352625131607056, 0.17086216807365417, 0.31330060958862305, 0.14607910811901093, 0.46328622102737427, -0.40351203083992004, 0.2871657609939575, 0.08899975568056107, 0.06811387836933136, -0.32956528663635254, -0.3874686360359192, 0.3204871714115143, -0.06000400334596634, 0.19381868839263916, 0.502423107624054, -0.22431941330432892, 0.12988834083080292, 0.1584821492433548, -0.3019396662712097, 0.46712109446525574, -0.19024470448493958, 0.26452136039733887, 0.24897830188274384, -0.25301095843315125, 0.15525533258914948, -0.13427624106407166, 0.0758558139204979, -0.03356611356139183, 0.20274318754673004, -0.05634855851531029, -0.0067046768963336945, -0.12230471521615982, -0.5036250352859497, 0.27767765522003174, 0.15682679414749146, 0.07130681723356247, -0.7407587170600891, 0.43221843242645264, 0.013942670077085495, 0.15416863560676575, -0.03917425125837326, -0.11352843791246414, -0.26722386479377747, -0.7294107675552368, 0.26350823044776917, 0.11420804262161255, 0.21645577251911163, 0.1409420669078827, 0.04884159564971924, 0.05466911941766739, 0.2014121264219284, -0.5044941306114197, -0.4810698628425598, 0.3693714141845703, 0.13412845134735107, -0.3512413799762726, -0.162984699010849, 0.3324216604232788, -0.6260049939155579, 0.06208308786153793, -0.48225998878479004, -0.17290574312210083, 0.11665821075439453, -0.4327286183834076, -0.23865565657615662, -0.6513511538505554, -0.3149465322494507, -0.17462335526943207, 0.37443435192108154, -0.2589140236377716, -0.14515544474124908, 0.10865544527769089, -0.3250259459018707, -0.4282747507095337, -0.033989716321229935, 0.1859073042869568, 0.2075280249118805, -0.22874034941196442, -0.014450999908149242, 0.4216037094593048, 0.21387554705142975, -0.3526792526245117, 0.03805113211274147, 0.23938755691051483, 0.1956097036600113, -0.0522504560649395, 0.21414916217327118, 0.14902518689632416, 0.48538538813591003, -0.11490058898925781, 0.028273368254303932, 0.384879469871521, 0.011310214176774025, -0.13009998202323914, 0.42315012216567993, -0.3857560455799103, 0.10528137534856796, 0.13949356973171234, -0.09400968253612518, 0.5516971945762634, -0.756546139717102, 0.37841087579727173, 0.0855792686343193, -0.3578975200653076, 0.07567501813173294, 0.337384968996048, 0.30277353525161743, -0.42547231912612915, 0.08205608278512955, -0.48914292454719543, 0.2862783670425415, -0.04042580723762512, 0.07906166464090347, 0.37674352526664734, 0.341322124004364, 0.2093365639448166, 0.4456549882888794, 0.27982938289642334, -0.35407257080078125, -0.28447315096855164, -0.27388301491737366, 0.06172728165984154, -0.39200559258461, 0.3357091248035431, 0.10361690819263458, 0.0699380487203598, 0.218239426612854, 0.286758691072464, -0.3209262490272522, 0.15742890536785126, 0.0325019508600235, -0.2089986503124237, -0.11519156396389008, -0.20399124920368195, 0.5615054965019226, -0.7035667896270752, -0.049534495919942856, 0.18270926177501678, 0.1586245596408844, -0.5178327560424805, 0.10680671036243439, 0.1443028599023819, 0.2514846622943878, -0.4970197379589081, -0.360451340675354, 0.1912744790315628, 0.286958783864975, 0.03378788009285927, 0.36009806394577026, 0.2358286827802658, 0.10960489511489868, 0.21047011017799377, -0.2020576447248459, 0.17918048799037933, 0.40865227580070496, 0.056630928069353104, -0.8093851208686829, 0.2778412699699402, 0.2512838542461395, -0.49983832240104675, 0.30964285135269165, -0.045691777020692825, 0.23966512084007263, 0.296368271112442, 0.233941450715065, -0.4567246437072754, -0.6082534193992615, 0.3642268776893616, -0.09991200268268585, 0.07511500269174576, -0.08826860785484314, -0.26461076736450195, -0.17102524638175964, 0.31064146757125854, -0.15463560819625854, -0.3008684813976288, 0.40940240025520325, 0.210428848862648, -0.3319794833660126, 0.042271312326192856, 0.10383076965808868, -0.16634216904640198, 0.36213621497154236, 0.37663164734840393, 0.1402827352285385, -0.14274351298809052, -0.28469324111938477, 0.2866112291812897, 0.12891021370887756, -0.471892774105072, -0.09396910667419434, 0.3451375365257263, -0.4231436550617218, -0.008548603393137455, -0.014157534576952457, -0.5048038959503174, -0.043818399310112, 0.02110125869512558, 0.18332888185977936, 0.2032787948846817, -0.3253965377807617, -0.7015067934989929, 0.511684775352478, 0.1257462501525879, -0.0959465354681015, 0.039557356387376785, 0.132405623793602, 0.23960207402706146, 0.23209412395954132, 0.09578137844800949, 0.28085124492645264, 0.4268946051597595, -0.5027114152908325, 0.0065751997753977776, 0.3673209846019745, -0.49209314584732056, -0.4584318697452545, 0.21299687027931213, 0.1561155617237091, 0.10839718580245972, 0.4912917912006378, -0.6130973696708679, -0.4071364402770996, 0.2992388606071472, 0.1352197676897049, -0.06004827097058296, 0.1624426245689392, 0.08872517198324203, 0.47919556498527527, 0.11767777055501938, 0.2301858514547348, 0.2588096559047699, 0.19624219834804535, -0.005215849261730909, -0.6204914450645447, 0.2958179712295532, -0.0428537018597126, -0.593923807144165, 0.10681311786174774, -0.1858067810535431, 0.3759734630584717, -0.1686239391565323, -0.548004686832428, 0.1483612358570099, -0.15458467602729797, 0.37280288338661194, 0.173109233379364, -0.1086394414305687, -0.1678115576505661, -0.09421613812446594, 0.41120582818984985, 0.004693735856562853, 0.2547428011894226, -0.6033002138137817, -0.466915488243103, 0.08026564866304398, -0.5979983806610107, 0.081342913210392, -0.47457239031791687, 0.3059513568878174, -0.21367965638637543, 0.37464961409568787, -0.18137232959270477, 0.21810881793498993, -0.012555926106870174, 0.09210444986820221, 0.3721295893192291, 0.2466403990983963, -0.3452540338039398, -0.19113482534885406, -0.48264750838279724, -0.5100546479225159, 0.2735239565372467, -0.14985761046409607, 0.27636316418647766, 0.12545032799243927, 0.18228979408740997, 0.1518697440624237, 0.2885276973247528, 0.37682437896728516, -0.35256221890449524, 0.02007373981177807, 0.1893364042043686, -0.7905614972114563, 0.24083739519119263, -0.42165666818618774, 0.16428115963935852, 0.2218867391347885, 0.1183541938662529, -0.1497558206319809, -0.16849975287914276, -0.25951504707336426, 0.21450690925121307, -0.013289212249219418, -0.31415408849716187, -0.45417946577072144, -0.39268746972084045, 0.12827394902706146, -0.07492814213037491, 0.27181148529052734, 0.09899651259183884, 0.18087811768054962, 0.07483431696891785, 0.3537396788597107, 0.14083293080329895, -0.2877975404262543, -0.06993962079286575, 0.03142837807536125, -0.5313836932182312, -0.8141957521438599, 0.14827141165733337, -0.12435286492109299, -0.43029123544692993, 0.2699936330318451, 0.057789526879787445, 0.26694655418395996, 0.4760749340057373, -0.3235938847064972, -0.3873302936553955, -0.3193141222000122, -0.4975070357322693, 0.025818990543484688, 0.19732904434204102, 0.06933362782001495, 0.19203057885169983, -0.3243711292743683, 0.07057054340839386, 0.21101070940494537, -0.15295252203941345, 0.1941799819469452, -0.003428362775593996, -0.776914119720459, 0.2955286502838135, -0.331171452999115, -0.12057194858789444, 0.49002623558044434, -0.3244308531284332, -0.6689484119415283, 0.40671882033348083, 0.3427174985408783, -0.020080750808119774, 0.10189033299684525, 0.2900219261646271, 0.19816900789737701, 0.14562851190567017, 0.03960490971803665, -0.34070736169815063, 0.36464306712150574, 0.15771277248859406, -0.06965649127960205, -0.5611065626144409, -0.6071857810020447, 0.2116750329732895, 0.1733386218547821, 0.3075021803379059, -0.4240862727165222, 0.042082514613866806, -0.47491881251335144, -0.25425541400909424, 0.3019725978374481, 0.26374346017837524, -0.12422971427440643, 0.0700378566980362, 0.1584053933620453, -0.3234332203865051, -0.4826103746891022, -0.6885833144187927, 0.4093531370162964, 0.1963927149772644, 0.07254954427480698, 0.13098855316638947, -0.197237029671669, -0.043192896991968155, 0.03481170907616615, -0.4127848148345947, -0.3759934604167938, 0.2860715985298157, -0.027967074885964394, -0.5843707323074341, -0.0019500800408422947, -0.06723226606845856, 0.010780914686620235, -0.12517623603343964, -0.15142922103405, -0.5282440185546875, 0.28113457560539246, 0.07140766084194183, 0.20473022758960724, -0.14438460767269135, -0.7486792802810669, 0.07307901978492737, -0.4320196211338043, 0.05511770397424698, -0.35476571321487427, -0.020558087155222893, -0.44621551036834717, -0.3972127437591553, 0.15908560156822205, 0.11620622128248215, 0.29852986335754395, -0.15563778579235077, -0.36188870668411255, 0.23582352697849274, -0.04943915084004402, 0.2780108153820038, 0.07646355032920837, 0.23831807076931, 0.0006093769916333258, 0.33636581897735596, 0.3385915756225586, 0.21630199253559113, -0.40655457973480225, 0.17415352165699005, 0.3735422194004059, 0.16451479494571686, 0.28519365191459656, 0.06157450005412102, -0.446119099855423, -0.05123494938015938, 0.09310232102870941, 0.30947184562683105, 0.04245569556951523, 0.4784654676914215, -0.3544580936431885, -0.22681105136871338, 0.18793638050556183, -0.11533552408218384, -0.4314499795436859, 0.3166794180870056, -0.36753183603286743, 0.35474833846092224, 0.36067816615104675, 0.09293124824762344, 0.0689699649810791, -0.2974260449409485, 0.4359934329986572, 0.5267919898033142, -0.36990293860435486, 0.048735201358795166, -0.29590311646461487, 0.3086731433868408, -0.31318119168281555, 0.315451055765152, 0.3749394416809082, 0.34879055619239807, 0.21131667494773865, -0.39012181758880615, -0.4890673756599426, 0.3719092011451721, 0.12950074672698975, 0.3374960124492645, 0.31503069400787354, -0.42911386489868164, 0.07566167414188385, -0.1135273203253746, 0.17322468757629395, 0.2740419805049896, 0.3155570328235626, 0.3455079197883606, 0.051864899694919586, 0.08615871518850327, -0.19662627577781677, 0.09878740459680557, 0.14928728342056274, -0.034202903509140015, -0.4043292999267578, 0.1467866152524948, -0.12008953094482422, 0.23926769196987152, -0.06451413780450821, 0.03266949579119682, 0.33820289373397827, -0.5524451732635498, 0.2313280999660492, -0.09581167995929718, 0.3568124771118164, -0.48497113585472107, 0.09647327661514282, -0.19837723672389984, 0.2705098092556, 0.04414818063378334, -0.4593009054660797, 0.2230209857225418, -0.8131265640258789, -0.5195627212524414, 0.31894224882125854, -0.4304945468902588, 0.060187846422195435, -0.2707209885120392, 0.2596956193447113, -0.4330350160598755, -0.7279841899871826, -0.054291993379592896, 0.2816022038459778, -0.08060135692358017, -0.31380316615104675, -0.3313339054584503, 0.19097208976745605, 0.06918787211179733, 0.0050517721101641655, 0.2068191021680832, 0.3515389561653137, -0.518622636795044, -0.08764880150556564, -0.5768433809280396, -0.3335658013820648, 0.0035329314414411783, 0.31706950068473816, -0.1407882124185562, 0.4129950702190399, 0.09902878850698471, -0.32164227962493896, -0.5276849269866943, -0.27929964661598206, 0.20269924402236938, 0.07419823855161667, 0.5356260538101196, -0.07749588787555695, 0.1016697883605957, 0.06591005623340607, 0.3560047745704651, -0.5440301299095154, -0.06853430718183517, 0.25128912925720215, 0.14994096755981445, 0.3373250365257263, 0.3053351044654846, 0.18367718160152435, -0.557152271270752, 0.3617081344127655, -0.5927111506462097, 0.5319147706031799, 0.2739707827568054, 0.3333114683628082, -0.4770222306251526, -0.6847188472747803, -0.3401489853858948, 0.014283630065619946, 0.1725231409072876, 0.19799986481666565, -0.2688950002193451, -0.010306840762495995, 0.07649917155504227, 0.017487462610006332, 0.275728315114975, -0.5114737153053284, 0.10489020496606827, 0.28454723954200745, -0.31119129061698914, -0.36992812156677246, 0.0626867488026619, 0.4871055781841278, 0.1156175509095192, 0.291564017534256, 0.08289068937301636, 0.13967390358448029, 0.27571988105773926, 0.08157605677843094, 0.4491575360298157, -0.37496593594551086, 0.3878229260444641, -0.390000581741333, 0.5278325080871582, 0.018009597435593605, -0.007989820092916489, 0.4633629620075226, 0.24969443678855896, -0.23742273449897766, 0.3225593566894531, -0.12849161028862, 0.2932601571083069, 0.07579181343317032, -0.19506129622459412, 0.04733448475599289, -0.6452584266662598, -0.03384709730744362, 0.14092208445072174, 0.2420264035463333, 0.5108290314674377, 0.11257342994213104, -0.07224756479263306, 0.1250721961259842, 0.34189170598983765, 0.25517624616622925, 0.04732159897685051, 0.268588662147522, -0.38690757751464844, 0.3253188729286194, 0.0744612067937851, -0.4892962872982025, 0.24285390973091125, 0.3978576064109802, -0.15132835507392883, 0.3504272997379303, -0.09496580064296722, 0.5065929889678955, -0.09626501053571701, 0.22565461695194244, 0.28209951519966125, 0.06005895510315895, -0.13600124418735504, 0.5703710317611694, 0.2544368505477905, 0.010549730621278286, 0.28962916135787964, 0.148772194981575, 0.5064296722412109, 0.002828157739713788, 0.21641476452350616, -0.4972265064716339, 0.24151435494422913, 0.0060673062689602375, -0.2940409481525421, 0.13732382655143738, -0.6741200089454651, 0.4206813871860504, 0.05988306552171707, -0.27675193548202515, 0.17383214831352234, 0.10035288333892822, -0.20975972712039948, 0.16257089376449585, -0.1098121851682663, 0.22027604281902313, 0.3050091564655304, 0.5048128962516785, 0.23838390409946442, -0.02661464922130108, -0.3345295190811157, 0.04392808675765991, 0.17616574466228485, 0.3127787113189697, -0.4584552049636841, 0.07035735994577408, -0.46861517429351807, 0.18247653543949127, -0.2208646833896637, 0.0383114255964756, -0.5380353927612305, 0.3358652889728546, 0.3046412169933319, -0.027199698612093925, 0.10061187297105789, -0.3772426247596741, 0.2866736054420471, 0.22376233339309692, 0.23966513574123383, 0.16511039435863495, -0.16251657903194427, 0.10868094861507416, -0.10824647545814514, 0.5115911364555359, 0.3611494302749634, 0.18617771565914154, 0.34338560700416565, 0.05237995460629463, -0.5527462959289551, 0.318410187959671, 0.2895936667919159, -0.399525910615921, -0.4914800822734833, -0.38102173805236816, -0.6303156614303589, -0.45296207070350647, -0.4761475920677185, 0.1239970251917839, 0.08814533054828644, -0.4848501980304718, 0.25028496980667114, 0.2714073657989502, -0.6686801314353943, -0.5103501677513123, -0.34215202927589417, 0.20286093652248383, 0.19247369468212128, 0.06390661001205444, -0.05255069211125374, 0.5028210282325745, 0.14127717912197113, 0.5474292635917664, 0.24763734638690948, 0.4023149311542511, 0.038188498467206955, 0.30060988664627075, -0.3863579034805298, 0.3397423326969147, 0.2853573262691498, 0.17164264619350433, -0.5564667582511902, 0.45226606726646423, -0.120103619992733, -0.3994227647781372, 0.30117759108543396, -0.034362345933914185, 0.2754487991333008, -0.43322333693504333, -0.03942405804991722, 0.37756386399269104, 0.2862907350063324, 0.2719024419784546, 0.0067041427828371525, 0.4030599594116211, 0.15270520746707916, -0.2847372591495514, 0.3457871675491333, -0.6168718338012695, 0.5333729386329651, 0.14815032482147217, -0.2683295011520386, -0.2892508804798126, 0.04783109948039055, -0.1739455610513687, -0.7932864427566528, 0.2718014717102051, 0.12404215335845947, -0.0916774794459343, -0.5095816850662231, -0.31310880184173584, -0.15190143883228302, 0.22608651220798492, -0.3732093572616577, 0.07163117825984955, 0.3004341721534729, 0.1028411015868187, 0.3737902343273163, 0.1590501368045807, 0.05591738224029541, -0.04750831052660942, 0.0031135936733335257, -0.5698856115341187, -0.4191388189792633, 0.4792938530445099, 0.3401711881160736, -0.4312361180782318, 0.3768455982208252, 0.22681652009487152, 0.24021241068840027, -0.24736589193344116, 0.25388312339782715, 0.1930079311132431, 0.2902540862560272, 0.30884596705436707, -0.01095776166766882, -0.4159977436065674, 0.27429863810539246, 0.07680384814739227, 0.19635865092277527, 0.13713417947292328, -0.30802345275878906, 0.17955821752548218, -0.5877995491027832, 0.3209529519081116, 0.16519808769226074, 0.07949699461460114, 0.12006556242704391, -0.004751480184495449, -0.5127022862434387, 0.2101711481809616, 0.1601559817790985, 0.1417412906885147, 0.25638705492019653, -0.047707729041576385, -0.5311060547828674, 0.35590654611587524, 0.3076534867286682, -0.4539019763469696, 0.34987762570381165, -0.35833266377449036, 0.32731765508651733, -0.5750226974487305, -0.08632062375545502, 0.49871012568473816, 0.1671322137117386, 0.45255324244499207, -0.4484286904335022, 0.07432318478822708, 0.19745899736881256, 0.47212180495262146, -0.5178202390670776, 0.04696730524301529, 0.22489172220230103, -0.13288073241710663, -0.31920337677001953, 0.23927944898605347, -0.029168646782636642, -0.3225211799144745, -0.1751997172832489, 0.49907058477401733, 0.23333770036697388, -0.7461478114128113, 0.004278331995010376, 0.11578638106584549, 0.22680795192718506, 0.27136901021003723, -0.17924131453037262, 0.17134062945842743, 0.3231714069843292, 0.5804798603057861, 0.3050861060619354, 0.08484650403261185, 0.19956015050411224, 0.23121397197246552, 0.3132641017436981, 0.3531332314014435, 0.10667718946933746, 0.3988787531852722, 0.16529978811740875, 0.3039800226688385, 0.05942685529589653, 0.37515589594841003, -0.3573405146598816, 0.33798426389694214, -0.015164497308433056, -0.022257152944803238, 0.32069870829582214, 0.4568970501422882, -0.36724039912223816, 0.08816514909267426, -0.36634811758995056, 0.25631895661354065, 0.3492472469806671, 0.33219555020332336, -0.473751038312912, -0.022596467286348343, -0.013750390149652958, -0.20718935132026672, -0.4265817403793335, -0.6327095031738281, -0.3523702919483185, 0.11596488952636719, -0.47794657945632935, -0.6187227368354797, 0.3175147771835327, -0.16066059470176697, 0.08900384604930878, -0.49534356594085693, -0.48905467987060547, -0.06491325050592422, -0.08609852194786072, 0.2253318428993225, -0.336519718170166, -0.09178444743156433, 0.19275406002998352, -0.4297977089881897, 0.171268031001091, -0.4355165958404541, -0.029762133955955505, -0.3730134069919586, -0.10645692050457001, 0.06782254576683044, -0.4419589042663574, 0.1530793309211731, 0.4181632101535797, 0.4457441568374634, 0.12810537219047546, -0.09314655512571335, 0.28248193860054016, 0.28046324849128723, 0.24444283545017242, 0.33196473121643066, 0.05861133337020874, 0.2745511829853058, -0.6060166358947754, -0.538502037525177, 0.003536128904670477, 0.1905883103609085, 0.27208200097084045, -0.07770141214132309, -0.4996962249279022, 0.08701911568641663, 0.03836808353662491, 0.34529003500938416, 0.28057861328125, 0.25743600726127625, 0.27760636806488037, 0.22942373156547546, 0.023225191980600357, 0.0444960780441761, -0.29508426785469055, 0.25114065408706665, -0.6664392948150635, -0.1779346466064453, 0.10689976811408997, -0.3910561501979828, 0.3243582546710968, 0.13171325623989105, 0.0932275652885437, -0.0008200686424970627, 0.1870035082101822, -0.4984321594238281, -0.018985537812113762, -0.023138917982578278, 0.425346702337265, 0.394580602645874, 0.30896785855293274, -0.3928951025009155, -0.12934163212776184, 0.25427719950675964, 0.12312836199998856, 0.4936116337776184, -0.3005687892436981, -0.5012328028678894, 0.20474687218666077, -0.059578265994787216, -0.22822943329811096, -0.44968217611312866, 0.42946958541870117, 0.49331143498420715, 0.010203924961388111, 0.1618420034646988, 0.25772589445114136, 0.3018604815006256, 0.22326068580150604, 0.4350680708885193, -0.1893613040447235, -0.11750207841396332, 0.2675783932209015, 0.019135726615786552, 0.1371362805366516, 0.16876424849033356, 0.14416877925395966, 0.04921533912420273, -0.2334093600511551, 0.10409707576036453, 0.3823331892490387, 0.14509662985801697, -0.4985923767089844, 0.030177518725395203, 0.2589101791381836, -0.4861350655555725, -0.1080564484000206, 0.3072359263896942, -0.6858208775520325, 0.5045440793037415, -0.30277013778686523, 0.055745579302310944, 0.22077055275440216, -0.0028546766843646765, -0.40393999218940735, 0.15935862064361572, -0.04351145029067993, -0.6473851203918457, -0.4249689280986786, 0.19010092318058014, 0.3433443605899811, 0.07283972948789597, -0.16748864948749542, 0.2593199610710144, 0.0713442787528038, 0.018060103058815002, -0.5002822875976562, 0.29414865374565125, -0.024747369810938835, -0.08294210582971573, 0.25511980056762695, 0.24094413220882416, 0.487375944852829, 0.08162606507539749, 0.4428946375846863, -0.4565766453742981, -0.38918524980545044, -0.3533463776111603, -0.14944899082183838, 0.23154036700725555, -0.4670374095439911, 0.07791099697351456, -0.050908543169498444, 0.281741201877594, 0.3127518594264984, -0.38773685693740845, 0.25558146834373474, 0.17741648852825165, 0.24228006601333618, 0.13341191411018372, 0.06620938330888748, -0.3083101212978363, -0.21286793053150177, -0.04251953959465027, -0.21921660006046295, 0.0723898783326149, -0.13494041562080383, -0.6297850608825684, 0.08677703887224197, 0.5193614959716797, -0.23009568452835083, 0.31419146060943604, -0.25675830245018005, -0.4069960415363312, 0.2094319760799408, 0.13524381816387177, -0.4299710988998413, -0.32759708166122437, 0.297240287065506, -0.18539880216121674, -0.3773958683013916, -0.20444487035274506, 0.3491370975971222, -0.20139949023723602, 0.1964094638824463, 0.2597884237766266, 0.2339179962873459, 0.17837989330291748, -0.5269938111305237, 0.19352200627326965, -0.5876588821411133, -0.17233704030513763, 0.15853744745254517, -0.7379902601242065, 0.3124551773071289, 0.04130397364497185, 0.34394049644470215, 0.06683234125375748, -0.3524567186832428, 0.21493375301361084, -0.5997487902641296, 0.270404577255249, 0.22353290021419525, 0.005460165906697512, 0.3080468773841858, 0.05208177492022514, 0.08792293071746826, -0.4435287415981293, -0.4217821955680847, -0.479851096868515, 0.1349107027053833, 0.10902146995067596, -0.314211368560791, 0.3305380940437317, 0.09752512723207474, 0.5033903121948242, 0.05368800088763237, 0.22578713297843933, 0.003286938415840268, -0.3841147720813751, -0.2501757740974426, -0.5107131004333496, 0.3357662558555603, -0.38001495599746704, 0.01288580521941185, 0.06116130203008652, -0.024573875591158867, 0.08973067253828049, 0.33188751339912415, 0.028749270364642143, -0.41837525367736816, -0.29573437571525574, -0.008386088535189629, -0.4092693626880646, 0.28472837805747986, 0.014717284590005875, 0.09582241624593735, 0.1562332808971405, 0.043448105454444885, -0.44616779685020447, 0.4850831627845764, 0.17049574851989746, -0.4916461408138275, -0.3870539367198944, 0.009466595947742462, -0.36955398321151733, -0.41972845792770386, 0.3228082060813904, 0.10688669979572296, -0.4338216781616211, 0.05494728311896324, 0.29926300048828125, -0.31257376074790955, 0.08379784226417542, -0.5222497582435608, -0.33704036474227905, 0.5349557995796204, -0.11089161783456802, -0.013786046765744686, 0.4811830222606659, -0.0599839985370636, 0.18464429676532745, 0.18453091382980347, -0.1500367820262909, -0.4886263906955719, 0.11671706289052963, -0.39513590931892395, 0.2149408906698227, 0.09712158888578415, -0.7826194167137146, -0.30847254395484924, 0.25681814551353455, 0.31602734327316284, 0.2455664873123169, 0.14899323880672455, -0.46854567527770996, 0.09835843741893768, -0.44786280393600464, 0.054957009851932526, -0.6322044134140015, 0.11872529983520508, -0.002459176816046238, -0.2607462704181671, 0.1194743886590004, -0.6932184100151062, -0.24504636228084564, 0.2998082935810089, -0.028619375079870224, 0.17887426912784576, -0.3823509216308594, 0.17864130437374115, 0.31063804030418396, 0.11757057905197144, 0.3836027681827545, -0.35379964113235474, 0.4808521568775177, 0.3136598467826843, -0.00010071555152535439, -0.7229728102684021, 0.21711285412311554, -0.3180440068244934, 0.38132238388061523, 0.10860878974199295, 0.19574451446533203, -0.01137006189674139, -0.1339121162891388, -0.5756475925445557, 0.14823012053966522, 0.1009061262011528, 0.017763203009963036, -0.41855207085609436, 0.22386986017227173, -0.04210685193538666, 0.06801962852478027, 0.0015122605254873633, 0.10165832936763763, 0.2301177829504013, -0.5494976043701172, 0.3587775230407715, 0.16584402322769165, -0.7483106851577759, 0.2904156446456909, 0.45554685592651367, 0.4974178969860077, 0.28667107224464417, -0.11380498111248016, -0.35301464796066284, 0.31011322140693665, 0.28940558433532715, -0.06158297508955002, 0.318064421415329, 0.19006307423114777, -0.5322518348693848, -0.3676143288612366, -0.1080126166343689, -0.43510332703590393, -0.7884314060211182, 0.10896249860525131, -0.366475373506546, -0.032477982342243195, -0.030064893886446953, 0.003873022273182869, 0.0033707201946526766, 0.2689330577850342, -0.22482559084892273, 0.07121174037456512, 0.33677804470062256, 0.2823483645915985, 0.160219207406044, 0.17518669366836548, -0.26094675064086914, 0.06055749952793121, 0.2222152203321457, -0.3961464464664459, 0.3363415002822876, 0.1321256458759308, 0.2741354703903198, -0.07739485055208206, 0.1855143904685974, -0.0857234001159668, 0.10216031968593597, 0.2784135639667511, -0.38398149609565735, 0.27662193775177, 0.15667371451854706, 0.0008175012771971524], \"z\": [0.07779139280319214, -0.02021230012178421, 0.04963667318224907, 0.04373606666922569, -0.2513846457004547, 0.06020978093147278, -0.06512323766946793, 0.014549868181347847, 0.012514635920524597, -0.0016012095147743821, 0.0315743163228035, -0.3002818524837494, 0.013052443973720074, 0.09672699123620987, -0.09459380805492401, -0.08154665678739548, 0.0009796373778954148, 0.39447838068008423, -0.1496671885251999, -0.15347526967525482, 0.2178885042667389, -0.2841561436653137, -0.07654856145381927, -0.20763158798217773, 0.14316199719905853, -0.22762565314769745, 0.01527163852006197, 0.0758964940905571, -0.1072947159409523, 0.022941771894693375, -0.053148139268159866, -0.03715917840600014, 0.07601150125265121, -0.017049269750714302, 0.16452008485794067, 0.08840598165988922, -0.12243814766407013, 0.05577779561281204, 0.08608151227235794, -0.08957905322313309, -0.014372777193784714, 0.3108837604522705, 0.09829951822757721, 0.09783685207366943, 0.06461750715970993, 0.0011323466897010803, 0.015026894398033619, 0.008487027138471603, 0.08810031414031982, -0.2710694372653961, 0.02328377589583397, 0.08257602155208588, -0.12706416845321655, -0.34332090616226196, 0.14209501445293427, -0.16152790188789368, -0.013721384108066559, -0.2794496417045593, -0.010634224861860275, 0.06402907520532608, -0.04311028867959976, -0.009929786436259747, 0.0006015236722305417, 0.18285828828811646, -0.17524924874305725, -0.27954182028770447, 0.05771087855100632, -0.1373857706785202, -0.19062134623527527, 0.3691384196281433, -0.010174877941608429, -0.07327863574028015, 0.29179853200912476, -0.09829081594944, -0.2221371978521347, 0.015084035694599152, 0.016735946759581566, -0.29446467757225037, 0.25332245230674744, -0.010605717077851295, -0.08033721148967743, -0.03051609918475151, -0.0007749643991701305, 0.02872978150844574, 0.23465822637081146, -0.0055938903242349625, 0.0006707056891173124, 0.04105504974722862, 0.06539705395698547, -0.3547515273094177, 0.3047398626804352, 0.0050454470328986645, 0.022539924830198288, -0.25994032621383667, -0.024736516177654266, 0.14416317641735077, -0.24450373649597168, -0.3177465796470642, 0.011991847306489944, 0.029054846614599228, 0.01245118584483862, 0.0044782087206840515, 0.08035226166248322, -0.0675765797495842, 0.22805462777614594, 0.023096274584531784, -0.019158361479640007, 0.14597991108894348, 0.40675023198127747, -0.044289834797382355, 0.12337753176689148, -0.05112050473690033, -0.015879957005381584, 0.04122622683644295, 0.03939773514866829, -0.3095276951789856, 0.1029055044054985, -0.09818147867918015, 0.18803858757019043, -0.2215992510318756, -0.2821466326713562, -0.29186129570007324, -0.11179915070533752, -0.15554064512252808, 0.07211247086524963, 0.06842343509197235, 0.029010403901338577, -0.1256737858057022, 0.23642104864120483, 0.2996107041835785, 0.04602017626166344, -0.18924559652805328, -0.29002493619918823, -0.02706778794527054, -0.09459426254034042, -0.13542434573173523, -0.4268665015697479, -0.022913267835974693, -0.027915220707654953, -0.3326229155063629, -0.39214417338371277, 0.2794108986854553, -0.0084085613489151, 0.011190902441740036, 0.1646241694688797, 0.14983581006526947, -0.08826486021280289, -0.3008883595466614, 0.4352431297302246, -0.06590097397565842, -0.03273877874016762, 0.09582579135894775, -0.29359859228134155, -0.2894355058670044, 0.0909348651766777, -0.262760728597641, 0.04981686547398567, 0.22259007394313812, 0.3373800814151764, 0.1321682184934616, 0.2675933539867401, -0.1677369475364685, 0.07764981687068939, -0.05147802084684372, 0.08882412314414978, -0.009303160011768341, 0.1950872540473938, -0.15961618721485138, -0.2403687834739685, -0.48277711868286133, -0.17025835812091827, 0.061062075197696686, -0.24986666440963745, -0.051128435879945755, 0.13384677469730377, -0.3212593197822571, -0.051619648933410645, -0.08812981843948364, -0.06928909569978714, 0.010134628042578697, -0.16623622179031372, -0.020824285224080086, 0.1022484079003334, 0.033358894288539886, 0.2713945508003235, -0.10345198959112167, -0.017613857984542847, 0.022341594099998474, 0.02872242033481598, 0.012880268506705761, -0.040488917380571365, -0.10521602630615234, 0.07438713312149048, 0.01773057132959366, 0.07620351016521454, 0.24951696395874023, 0.16386160254478455, -0.02792593650519848, 0.09523627907037735, 0.25002723932266235, 0.1760183721780777, 0.12873296439647675, 0.12436721473932266, -0.006981973070651293, -0.05897492542862892, 0.10874517261981964, 0.003048109356313944, -0.02730228193104267, -0.035637982189655304, -0.03653131052851677, -0.042588572949171066, -0.07300280779600143, -0.07521358132362366, -0.050711821764707565, -0.06530413776636124, 0.0537664033472538, 0.0355575866997242, 0.1708795726299286, -0.04843071475625038, 0.009389913640916348, 0.24606601893901825, -0.10499013960361481, -0.13818171620368958, -0.3127213418483734, -0.03178029879927635, 0.3890104591846466, 0.09450915455818176, 0.008230561390519142, 0.10689442604780197, 0.008143085986375809, 0.009656121954321861, 0.059673190116882324, -0.02842770516872406, 0.009415348060429096, -0.12572801113128662, -0.086225725710392, -0.30129432678222656, 0.22259673476219177, 0.02820754423737526, -0.006722431164234877, 0.05739539861679077, -0.007518656551837921, 0.030280014500021935, 0.18885327875614166, -0.05445695295929909, 0.34592223167419434, 0.18561795353889465, -0.07963231950998306, 0.055384330451488495, -0.023468226194381714, 0.04393470659852028, 0.05870581418275833, -0.3552495539188385, -0.2798232436180115, 0.10710443556308746, 0.20724542438983917, 0.042223673313856125, -0.02991284802556038, -0.052716512233018875, -0.08575126528739929, -0.0016460883198305964, 0.020262543112039566, 0.3599643111228943, 0.27259910106658936, 0.03269129619002342, -0.2546161711215973, -0.005957712884992361, 0.05222773924469948, -0.02173549123108387, 0.09677454084157944, -0.25058847665786743, 0.17023225128650665, -0.1493709683418274, -0.03492238372564316, -0.04151478782296181, -0.19095857441425323, 0.011382954195141792, 0.03787833824753761, -0.24641969799995422, -0.015184351243078709, -0.04918709397315979, 0.0412091463804245, -0.2878411114215851, -0.014763569459319115, -0.11489610373973846, 0.02231455221772194, 0.04945683851838112, 0.04015633463859558, 0.0002972962392959744, 0.042851485311985016, 0.11931464076042175, 0.016196299344301224, -0.14024604856967926, -0.2801804542541504, 0.04199587553739548, 0.10031924396753311, 0.13200128078460693, -0.1860402375459671, -0.060808610171079636, 0.02859877049922943, -0.24039843678474426, 0.010426596738398075, -0.1914219707250595, -0.005545353051275015, 0.017224015668034554, 0.059892792254686356, -0.005961037240922451, -0.010510974563658237, -0.2325853705406189, 0.32603225111961365, 0.016532618552446365, 0.11034443229436874, 0.02764206938445568, -0.010656680911779404, -0.13471297919750214, 0.12352652847766876, 0.026802701875567436, 0.015570087358355522, 0.4147320091724396, 0.2029341757297516, -0.11891870200634003, -0.06419555097818375, 0.019880114123225212, -0.021752316504716873, 0.3316937983036041, -0.0025303938891738653, -0.09050501883029938, -0.08655786514282227, -0.028675967827439308, 0.2948540449142456, -0.26091477274894714, 0.058158352971076965, 0.13727116584777832, -0.03517851233482361, -0.05914086103439331, -0.11854151636362076, 0.06789468228816986, 0.2941455841064453, 0.014286824502050877, -0.31487902998924255, -0.25324082374572754, 0.2864953577518463, 0.047040775418281555, 0.00851630698889494, -0.094044528901577, -0.15855959057807922, 0.21811245381832123, -0.008308114483952522, -0.39957430958747864, -0.31565061211586, -0.262166827917099, -0.10544288158416748, -0.2256290763616562, -0.15408864617347717, -0.11608315259218216, 0.24671773612499237, -0.274260938167572, -0.05514996871352196, -0.01993180625140667, 0.16876889765262604, -0.07355236262083054, 0.06828966736793518, -0.404950886964798, 6.411240610759705e-05, 0.3248079717159271, 0.2629990875720978, 0.0024460877757519484, -0.3976057767868042, -0.1730068176984787, -0.0323605053126812, -0.02135464921593666, 0.03425462543964386, -0.16362395882606506, 0.09062802791595459, -0.03414039686322212, -0.031076932325959206, -0.11209762096405029, 0.07841005176305771, 0.0343400202691555, 0.1521107405424118, -0.08369223028421402, 0.009097187779843807, 0.3070870637893677, -0.26540595293045044, 0.041066739708185196, 0.28012192249298096, 0.09043287485837936, -0.06086326390504837, 0.0002034851786447689, -0.057849690318107605, -0.05173292011022568, 0.14380452036857605, 0.04623410478234291, 0.2909482717514038, 0.01752038672566414, -0.054351527243852615, -0.13377425074577332, -0.07884226739406586, 0.09018965065479279, -0.06264317780733109, -0.03379314765334129, -0.07177607715129852, -0.07171572744846344, 0.3179316222667694, 0.2863951027393341, -0.0918036475777626, -0.014314214698970318, -0.011088267900049686, 0.02535983733832836, -0.29317182302474976, 0.0014657664578408003, -0.3923770785331726, 0.3285921514034271, 0.06856214255094528, -0.12251059710979462, 0.2997850477695465, 0.13222093880176544, -0.009668116457760334, -0.18739892542362213, -0.05450790748000145, -0.17076846957206726, 0.020979197695851326, -0.012751871719956398, 0.0013836526777595282, -0.14778774976730347, -0.08896736800670624, 0.10989357531070709, -0.1274988204240799, -0.23374894261360168, -0.1461387425661087, 0.020217444747686386, -0.1254943162202835, -0.046908944845199585, -0.038016051054000854, -0.09588402509689331, 0.0457337461411953, -0.010198032483458519, -0.04992586746811867, -0.018797652795910835, 0.017884647473692894, -0.08596516400575638, -0.11930612474679947, 0.11094450950622559, 0.41205140948295593, -0.01861760951578617, 0.2709032893180847, -0.17807742953300476, 0.18459244072437286, -0.06232578679919243, 0.005483369342982769, -0.09989435970783234, -0.09100615978240967, 0.056947845965623856, -0.20434483885765076, -0.31659337878227234, -0.040405888110399246, -0.039125118404626846, 0.13012546300888062, -0.15956398844718933, 0.06094834581017494, -0.018665736541152, -0.2255515307188034, 0.05855809524655342, -0.10641810297966003, 0.3108665645122528, -0.15357285737991333, 0.13783422112464905, -0.011582429520785809, -0.10617492347955704, -0.0976511761546135, -0.13614927232265472, -0.16165003180503845, -0.24554699659347534, 0.05457194149494171, 0.08804171532392502, 0.11925364285707474, 0.07309264689683914, -0.19425420463085175, 0.1934342235326767, 0.07835780084133148, -0.0038694972172379494, -0.19597883522510529, -0.0778949186205864, -0.02506084367632866, -0.0934169813990593, -0.10968156903982162, 0.03788299858570099, 0.04356590658426285, -0.4394835829734802, 0.05141322314739227, -0.08015963435173035, 0.011497518047690392, -0.00564629165455699, -0.28202641010284424, -0.05264489725232124, 0.2142535299062729, -0.03090457059442997, -0.05615824833512306, 0.037079766392707825, 0.052728284150362015, 0.00455143116414547, 0.0980035737156868, -0.2031760811805725, 0.007653893902897835, 0.1501852422952652, -0.17510339617729187, -0.06550845503807068, -0.25851142406463623, 0.001911810482852161, -0.15218967199325562, -0.20501090586185455, 0.026767009869217873, 0.08480703830718994, -0.1932765394449234, 0.14696566760540009, 0.06415518373250961, -0.2702566385269165, 0.049415621906518936, -0.06958071887493134, -0.08683082461357117, -0.1996123194694519, -0.29204657673835754, -0.09916410595178604, -0.04196286201477051, -0.006893092300742865, 0.1381690502166748, -0.041328445076942444, -0.026892201974987984, 0.012787501327693462, -0.3547295331954956, 0.48612773418426514, -0.11926143616437912, -0.020370440557599068, -0.32421571016311646, -0.03635352849960327, -0.03753412142395973, 0.013639886863529682, -0.19888630509376526, 0.052074894309043884, -0.040841009467840195, -0.03287523239850998, -0.40520191192626953, -0.041766852140426636, -0.3059707581996918, 0.275505393743515, -0.22756041586399078, 0.3464104235172272, -0.10906566679477692, -0.320237398147583, -0.05676352232694626, 0.18753762543201447, 0.06883885711431503, -0.1316090226173401, 0.08166863769292831, 0.09869325160980225, 0.3048889636993408, -0.02007494866847992, -0.027801718562841415, 0.18381671607494354, 0.3408943712711334, 0.41038405895233154, 0.01677594892680645, 0.09739018231630325, 0.04712945967912674, 0.062157876789569855, -0.018214164301753044, 0.2422451674938202, -0.03330249339342117, 0.3685886561870575, -0.02281084470450878, 0.2373819798231125, -0.07771556824445724, -0.47245141863822937, -0.011380304582417011, -0.0006491165258921683, 0.22272279858589172, -0.05257908254861832, 0.23830890655517578, -0.22850710153579712, 0.012154117226600647, 0.035181209444999695, -0.27511516213417053, 0.15083496272563934, 0.06875846534967422, 0.06942808628082275, -0.4123612940311432, 0.09525177627801895, -0.09410694241523743, 0.21014362573623657, -0.26524990797042847, 0.17760223150253296, -0.222764790058136, -0.26022422313690186, -0.13330090045928955, 0.06127775087952614, 0.016165247187018394, -0.2126457244157791, 0.055962540209293365, 0.16704034805297852, -0.033127766102552414, -0.21390652656555176, 0.013122214004397392, 0.009800475090742111, 0.048577725887298584, 0.04832211881875992, 0.15025153756141663, 0.19658568501472473, 0.020034437999129295, -0.04277656599879265, -0.019704371690750122, -0.2811141908168793, 0.019861547276377678, 0.3047744631767273, 0.3659262955188751, -0.07260963320732117, -0.27397221326828003, 0.014991482719779015, -0.07386943697929382, 0.056685470044612885, 0.033459316939115524, -0.14210015535354614, -0.07251205295324326, 0.245722234249115, -0.12889091670513153, -0.012520997785031796, -0.12352968752384186, -0.05956288054585457, 0.009968164376914501, -0.173927441239357, 0.011206616647541523, 0.05817331373691559, 0.029200660064816475, -0.0495886355638504, -0.05681569129228592, -0.1975882202386856, -0.11496046185493469, -0.11332269012928009, -0.4153229296207428, -0.11681312322616577, 0.11800486594438553, -0.29262590408325195, -0.017553256824612617, -0.42677298188209534, -0.1305747777223587, -0.29100969433784485, -0.11051000654697418, -0.10535496473312378, -0.11137193441390991, -0.1524335891008377, -0.0022834325209259987, 0.017032405361533165, -0.05678638070821762, 0.07800198346376419, -0.42204901576042175, -0.31343361735343933, -0.4261144697666168, 0.1366807222366333, 0.07669416069984436, -0.2788461446762085, 0.2661204934120178, -0.07677844911813736, 0.014100665226578712, -0.01307281106710434, -0.05197756737470627, 0.1005222499370575, -0.2944895625114441, 0.17421942949295044, -0.009654000401496887, -0.2635413110256195, 0.06828634440898895, -0.10432741791009903, -0.014314019121229649, -0.1922493427991867, 0.10314983129501343, 0.3029177188873291, 1.848984175012447e-05, -0.01589636318385601, -0.07867559045553207, 0.03231358900666237, 0.29362478852272034, -0.32308393716812134, 0.09182538837194443, -0.1971377581357956, 0.06052132695913315, -0.31945815682411194, -0.03504639118909836, -0.13885077834129333, 0.11843948066234589, -0.2541366517543793, -0.20654991269111633, 0.016206733882427216, -0.015087977983057499, -0.004929305985569954, 0.004612545017153025, -0.005980301648378372, 0.10189314931631088, 0.04473065212368965, -0.014080957509577274, 0.3182705044746399, 0.007851037196815014, -0.059438370168209076, -0.140340656042099, 0.27128511667251587, -0.005541674327105284, -0.04552137106657028, -0.052064698189496994, 0.21718573570251465, 0.06824540346860886, -0.0023143216967582703, -0.07241447269916534, -0.12890440225601196, -0.07220989465713501, 0.036779679358005524, 0.1726059764623642, -0.4915320575237274, 0.2997974753379822, -0.012597829103469849, -0.30760496854782104, -0.10227996855974197, -0.04361485317349434, 0.07336491346359253, 0.08372500538825989, -0.15311607718467712, 0.10686901956796646, -0.0711316466331482, 0.06827147305011749, -0.19648143649101257, -0.03982462361454964, -0.05064186826348305, 0.025051411241292953, 0.002313304925337434, 0.07772514224052429, 0.0715225338935852, -0.01961357519030571, 0.11819837242364883, -0.002427463885396719, 0.021640244871377945, -0.043659232556819916, 0.29985764622688293, -0.27199089527130127, 0.09230076521635056, 0.09661438316106796, -0.2576337158679962, 0.17168571054935455, -0.27215322852134705, -0.026310410350561142, -0.3052637279033661, 0.3853117525577545, 0.07913036644458771, 0.2905619442462921, -0.005758677143603563, -0.017681799829006195, 0.31822919845581055, -0.04793931171298027, -0.15077190101146698, -0.06532923132181168, -0.16089998185634613, -0.016904452815651894, 0.1318756490945816, 0.11601866781711578, -0.17878781259059906, 0.06300748139619827, 0.08627179265022278, -0.10050465911626816, -0.15855686366558075, 0.0020645263139158487, -0.00010367119830334559, 0.19791896641254425, -0.0018280928488820791, -0.03886890411376953, 0.0073591494001448154, -0.3036904036998749, -0.05179348587989807, 0.09628598392009735, 0.4762798547744751, -0.11260657012462616, -0.15813300013542175, -0.03140876442193985, 0.008065822534263134, 0.0007473942823708057, 0.04142289608716965, -0.30837482213974, 0.26920682191848755, 0.06566618382930756, 0.3625069558620453, -0.29688453674316406, -0.13333411514759064, -0.0300340224057436, -0.008171454071998596, 0.0959688127040863, 0.05675366148352623, -0.1957157552242279, 0.05873076245188713, -0.02815760299563408, -0.12385650724172592, -0.2773934006690979, -0.3041272759437561, 0.05771644413471222, -0.13396519422531128, 0.029662203043699265, -0.030948441475629807, 0.006767720449715853, -0.0705794170498848, 0.13343088328838348, 0.07434147596359253, -0.07913928478956223, -0.007221299223601818, 0.005797899793833494, -0.013902835547924042, -0.001786650624126196, -0.0596575066447258, -0.00391449686139822, 0.34809941053390503, -0.3926927447319031, -0.058368898928165436, -0.02793373540043831, 0.22686614096164703, 0.16102765500545502, -0.08823822438716888, 0.04344964399933815, -0.45222318172454834, 0.006766521837562323, -0.417963445186615, 0.007209341507405043, -0.017211776226758957, 0.029255691915750504, -0.036318641155958176, 0.167223259806633, -0.16423353552818298, -0.16996029019355774, -0.0572945736348629, -0.01859094202518463, 0.18343095481395721, 0.09611901640892029, 0.03538495674729347, -0.14460507035255432, 0.057295504957437515, 0.2512792944908142, -0.0736590027809143, -0.04822434484958649, -0.09888730943202972, -0.07657944411039352, -0.4859350621700287, -0.034029167145490646, 0.3589579463005066, -0.08104270696640015, 0.2949763834476471, -0.2960127592086792, -0.2369324117898941, 0.219622403383255, 0.18299664556980133, -0.12967224419116974, -0.027278276160359383, -0.2461024969816208, -0.1366768479347229, -0.1660979837179184, -0.026053914800286293, 0.06207936257123947, -0.17994430661201477, 0.24442023038864136, 0.16219855844974518, 0.17739054560661316, 0.00622226856648922, -0.00742312241345644, -0.009151382371783257, -0.3440214693546295, 0.04715297743678093, -0.3031335771083832, 0.13964134454727173, -0.08642199635505676, -0.00015977935981936753, 0.0497172549366951, -0.008720584213733673, 0.1476951688528061, 0.3106144666671753, 0.08059260249137878, 0.07986611872911453, 0.047642119228839874, -0.03136879578232765, 0.2798304557800293, 0.03061528690159321, 0.12975482642650604, -0.2855893671512604, -0.058488473296165466, -0.10746638476848602, -0.004263225477188826, -0.048047516494989395, 0.017979411408305168, 0.4620949923992157, -0.06419993191957474, 0.17885567247867584, -0.2402617484331131, -0.07310423254966736, -0.02381995879113674, -0.09031398594379425, 0.33784371614456177, -0.08506780117750168, -0.091249018907547, 0.2364867776632309, -0.004447319079190493, -0.03960460051894188, -0.017498066648840904, -0.18557214736938477, 0.3796852231025696, 0.4107423722743988, 0.28997814655303955, 0.10077446699142456, -0.07049040496349335, 0.06214948371052742, -0.09987970441579819, -0.30342233180999756, 0.26222625374794006, 0.07532036304473877, 0.125283345580101, -0.05346165597438812, 0.037748098373413086, -0.2750207483768463, -0.30065497756004333, 0.13415409624576569, -0.0489552840590477, 0.026645153760910034, -0.034430667757987976, 0.08814956247806549, -0.02112935110926628, 0.06081611290574074, -0.11060094833374023, 0.23215019702911377, -0.00041853365837596357, 0.06276353448629379, -0.06664678454399109, 0.0881085991859436, 0.1864999532699585, 0.08899275958538055, -0.10699059814214706, -0.34749454259872437, 0.26371192932128906, -0.015075038187205791, 0.0820060670375824, 0.10661338269710541, 0.16028906404972076, -0.08728746324777603, -0.057036060839891434, 0.08045488595962524, 0.01987956464290619, 0.01602763496339321, -0.12869614362716675, -0.26932528614997864, 0.006642837543040514, -0.053751762956380844, -0.02983192540705204, 0.2723267674446106, 0.06976832449436188, -0.13140496611595154, -0.12840230762958527, -0.018633266910910606, 0.038305722177028656, -0.13096269965171814, -0.3102448880672455, -0.23516684770584106, 0.0640459805727005, 0.13311553001403809, -0.05750416964292526, -0.04976668953895569, 0.030937878414988518, -0.09953801333904266, -0.14656147360801697, 0.0350566990673542, 0.1565486490726471, -0.4312104284763336, -0.1405191570520401, -0.15923352539539337, -0.01004877034574747, -0.1373184472322464, -0.015115243382751942, -0.10524379462003708, 0.17970921099185944, -0.01845426671206951, -0.02090521529316902, 0.36974942684173584, -0.07674635946750641, -0.30234748125076294, -0.012253413908183575, -0.20975342392921448, 0.05354857072234154, 0.046855777502059937, -0.032593756914138794, 0.038202881813049316, -0.14129608869552612, -0.2162543535232544, -0.25313887000083923, 0.1877947449684143, 0.12302262336015701, 0.08556004613637924, 0.05176335200667381, -0.02109670266509056, -0.046990036964416504, 0.06013265997171402, -0.03722023591399193, -0.20170003175735474, -0.24241550266742706, 0.03142091631889343, 0.19791996479034424, 0.09314177930355072, 0.027811069041490555, -0.12052898108959198, 0.10372760146856308, 0.2047940045595169, -0.20132243633270264, 0.12244867533445358, 0.009095896035432816, 0.14584392309188843, -0.30025649070739746, -0.02854744717478752, 0.08767499029636383, 0.2580673396587372, -0.026494430378079414, -0.2723270356655121, 0.2270541787147522, 0.03564589470624924, 0.04969947412610054, 0.03844508156180382, -0.033695515245199203, -0.05304320529103279, -0.07354317605495453, -0.28831425309181213, 0.23018544912338257, 0.04123605042695999, -0.17722778022289276, -0.4344063997268677, 0.11809979379177094, -0.09233023971319199, -0.05913061648607254, 0.002746552461758256, -0.24973127245903015, 0.4314880669116974, -0.009706520475447178, 0.010289630852639675, 0.11957608163356781, -0.23099486529827118, -0.31700074672698975, 0.01274699717760086, -0.017105253413319588, -2.3124526705942117e-05, 0.05657513439655304, -0.04423295706510544, 0.09676669538021088, 0.3854696452617645, -0.14394889771938324, 0.07395241409540176, -0.2565905749797821, 0.39169713854789734, 0.075411856174469, 0.015683932229876518, -0.1557958573102951, -0.05976232513785362, 0.1629052460193634, -0.22573834657669067, -0.05570565164089203, 0.08471888303756714, -0.03278277814388275, -0.24258014559745789, 0.0013319146819412708, 0.010136536322534084, -0.14987915754318237, 0.29710814356803894, -0.030354753136634827, 0.40706029534339905, -0.3193422853946686, -0.10645321011543274, 0.11644616723060608, 0.027152955532073975, -0.08474797010421753, -0.42279261350631714, 0.019918350502848625, -0.017955752089619637, -0.18396112322807312, 0.03599211573600769, -0.1288304626941681, -0.02133597992360592, -0.3911702632904053, -0.13300228118896484, 0.2083878070116043, -0.13552911579608917, 0.26602572202682495, -0.1504386067390442, -0.13420411944389343, 0.0051720053888857365, 0.07627412676811218, 0.06893513351678848, -0.1267257034778595, 0.015173573046922684, -0.0016557578928768635, -0.1714410036802292, 0.06081826239824295, 0.035373639315366745, -0.32666492462158203, 0.3772033751010895, -0.00025576265761628747, -0.08509452641010284, -0.043215107172727585, -0.013460235670208931, -0.27355659008026123, -0.20194317400455475, 0.0037254844792187214, 0.062350284308195114, -0.028145041316747665, 0.2820955216884613, -0.3376654386520386, 0.09765984117984772, -0.03299089893698692, -0.08497270196676254, 0.1794394552707672, -0.2905533015727997, -0.2230556309223175, -0.020250800997018814, 0.06437791883945465, 0.07347950339317322, -0.30387791991233826, -0.11485157161951065, -0.4135575592517853, -0.05741443485021591, -0.009268738329410553, -0.2598210871219635, 0.004882357083261013, -0.26844194531440735, 0.07185938954353333, -0.16434511542320251, 0.03258487209677696, 0.01623254083096981, -0.043448805809020996, 0.006196192000061274, -0.03200940042734146, 0.05892165005207062, 0.33007025718688965, -0.27661100029945374, 0.10814425349235535, -0.009019117802381516, -0.10453654825687408, 0.0776170864701271, 0.03478412330150604, 0.01696086674928665, 0.1951485276222229, -0.0973067507147789, -0.2408381551504135, 0.28835171461105347, -0.10919180512428284, -0.06442336738109589, -0.0401783213019371, -0.16379162669181824, 0.09199263900518417, -0.2562195956707001, 0.04372037574648857, -0.031071826815605164, -0.09922908246517181, 0.12314259260892868, 0.06309562921524048, 0.10058076679706573, 0.04408339411020279, -0.08940853178501129, -0.06366727501153946, -0.1305830329656601, -0.042744144797325134, -0.22954784333705902, -0.0016089417040348053, 0.03245246782898903, 0.09154306352138519, -0.038009222596883774, -0.06301643699407578, 0.07628905028104782, 0.15271872282028198, 0.006032025907188654, -0.009946045465767384, 0.012396072037518024, -0.24326284229755402, -0.10262732207775116, -0.07796495407819748, -0.16383016109466553, -0.0180625319480896, -0.07778697460889816, -0.05487041547894478, 0.33858492970466614, -0.18109381198883057, -0.13890376687049866, -0.09637724608182907, 0.12185852974653244, 0.0037970810662955046, -0.0061565544456243515, -0.10412094742059708, -0.23224090039730072, -0.13089588284492493, 0.20426128804683685, -0.027760526165366173, -0.010006029158830643, 0.29786866903305054, -0.037742991000413895, -0.1363862007856369, 0.012092124670743942, 0.13502144813537598, -0.03159385919570923, -0.15022392570972443, -0.02200763113796711, -0.2577548921108246, -0.03541024401783943, 0.0940624326467514, 0.045353759080171585, -0.14694206416606903, -0.08708015084266663, 0.054503049701452255, 0.1283624768257141, 0.034191276878118515, -0.0942145437002182, 0.08026520162820816, -0.2808557450771332, 0.0526726096868515, -0.027762049809098244, -0.01291997916996479, -0.015309947542846203, 0.2484772652387619, 0.25086691975593567, -0.053823720663785934, -0.005633598659187555, -0.06140759214758873, 0.3956536054611206, 0.22345885634422302, -0.30386701226234436, -0.09605514258146286, 0.4733673334121704, 0.3033849895000458, -0.18428783118724823, -0.10345683246850967, 0.0254489928483963, 0.07861274480819702, 0.2741202414035797, -0.007754044141620398, -0.2626335918903351, 0.5089895129203796, 0.10756656527519226, 0.027751365676522255, 0.0588500015437603, 0.05196449160575867, 0.5125201344490051, 0.1201958954334259, 0.0360480360686779, -0.18105250597000122, 0.12484607100486755, 0.31699490547180176, 0.02708168886601925, 0.001904105069115758, -0.3535938858985901, -0.024636488407850266, 0.03081766702234745, -0.2252354919910431, 0.1623300015926361, 0.26620984077453613, 0.06195245683193207, -0.021306734532117844, 0.06845180690288544, 0.08187747746706009, 0.036948055028915405, 0.12206844985485077, 0.15674634277820587, 0.06844637542963028, -0.0038607153110206127, -0.03798958286643028, -0.01905137486755848, -0.20927605032920837, -0.061006609350442886, -0.04756632074713707, 0.0773400291800499, 0.017069613561034203, 0.022359127178788185, 0.0030033746734261513, 0.01924041472375393, 0.059675246477127075, 0.3070845901966095, 0.28288039565086365, 0.020273197442293167, 0.15232066810131073, -0.45620599389076233, 0.16320787370204926, -0.03905412182211876, 0.02895844727754593, -0.2788216173648834, -0.004105346743017435, -0.2213001400232315, -0.07674562186002731, -0.1748460978269577, -0.1561664193868637, 0.3143191933631897, 0.17067019641399384, 0.3187626898288727, 0.3446469008922577, -0.028327953070402145, -0.10274949669837952, -0.29928991198539734, 0.03412024676799774, 0.008550718426704407, -0.10269276052713394, 0.14198946952819824, -0.02265847660601139, -0.29815179109573364, -0.017572490498423576, 0.340822696685791, -0.010821714997291565, -0.0033026000019162893, -0.013886261731386185, 0.08209393173456192, 0.2558198869228363, 0.04809654876589775, -0.1659705936908722, -0.02698051929473877, 0.0207128394395113, 0.07211050391197205, 0.021501241251826286, -0.08977150917053223, -0.03294999152421951, 0.03504854068160057, 0.41805535554885864, -0.32453829050064087, 0.07454816997051239, -0.2808878719806671, -0.005104798823595047, 0.026016056537628174, 0.16135860979557037, 0.06359954923391342, -0.006650804542005062, 0.1002831757068634, 0.272394597530365, 0.11805722862482071, -0.043327491730451584, -0.0807226151227951, -0.11146941781044006, -0.05551135912537575, -0.07191119343042374, 0.2809516489505768, 0.23813501000404358, -0.02343171276152134, 0.1211681067943573, 0.3184908628463745, 0.25847601890563965, 0.028047848492860794, 0.018911540508270264, 0.08790308982133865, -0.17911776900291443, -0.25085681676864624, -0.012685919180512428, 0.18572458624839783, 0.2625463306903839, -0.03370513767004013, -0.02969019114971161, -0.007357784081250429, 0.027982279658317566, -0.35487839579582214, 0.19437190890312195, -0.023491883650422096, 0.026467215269804, 0.08615653961896896, -0.25093576312065125, -0.217844620347023, -0.19316454231739044, -0.23006919026374817, 0.29958829283714294, -0.21452444791793823, -0.16689473390579224, 0.04571769759058952, 0.03784424066543579, 0.06538672745227814, 0.022817647084593773, -0.03823840618133545, -0.04315459355711937, 0.2726309597492218, 0.02728072553873062, -0.27229422330856323, 0.09468971937894821, 0.22572572529315948, -0.31493639945983887, -0.2111344188451767, 0.04385878145694733, -0.048471175134181976, -0.08533211797475815, -0.14456860721111298, 0.06551747769117355, 0.03229076787829399, 0.24984650313854218, 0.27079886198043823, -0.03181193768978119, 0.17487172782421112, 0.09155185520648956, -0.051820531487464905, -0.13332141935825348, -0.010924948379397392, 0.11166694015264511, -0.1363620162010193, -0.14380420744419098, -0.05358539894223213, -0.2943316400051117, 0.043313995003700256, 0.3780072331428528, 0.04916194826364517, 0.23470592498779297, -0.017029626294970512, -0.01701188273727894, 0.49448373913764954, 0.0003836094110738486, -0.16228194534778595, -0.07459858804941177, -0.05967985466122627, 0.030145233497023582, 0.1942657232284546, -0.005594018381088972, 0.29206037521362305, -0.06980141252279282, 0.06094294413924217, -0.32383692264556885, 0.10400958359241486, 0.04636906832456589, 0.0735592395067215, -0.24788929522037506, -0.06863913685083389, -0.38569268584251404, 0.13328169286251068, -0.002830596175044775, -0.261599600315094, 0.11281248182058334, 0.4481073021888733, -0.2639268636703491, -0.0023584512528032064, -0.15122845768928528, 0.2537434995174408, -0.028880897909402847, -0.3555423319339752, 0.10130767524242401, 0.21531936526298523, 0.04591818153858185, 0.06646700203418732, -0.07627370953559875, -0.31095144152641296, 0.14972412586212158, -0.025461316108703613, -0.023756928741931915, -0.11677121371030807, 0.0006261775270104408, -0.018147259950637817, 0.3098207116127014, 0.10466008633375168, -0.0785648450255394, 0.33783382177352905, 0.28409963846206665, 0.02352943643927574, 0.12036629021167755, 0.25161245465278625, -0.0056149838492274284, -0.0012302602408453822, 0.15352539718151093, -0.022048259153962135, -0.04031267389655113, 0.0667380541563034, -0.25869321823120117, 0.04679778590798378, -0.08599690347909927, 0.046290673315525055, 0.14377745985984802, 0.1804479956626892, -0.026978380978107452, 0.5048881769180298, 0.2532190978527069, -0.13846799731254578, -0.032016314566135406, 0.12476783990859985, -0.15470120310783386, -0.03661613538861275, 0.0666053518652916, 0.1853906214237213, 0.06318891793489456, 0.008462398312985897, 0.11207537353038788, -0.01457385066896677, -0.4950166940689087, 0.4317384660243988, -0.02893400937318802, 0.039206184446811676, -0.09810857474803925, -0.02855532616376877, -0.050631169229745865, 0.055930960923433304, -0.07938222587108612, 0.02730288915336132, -0.011058338917791843, 0.003283217316493392, -0.0910862386226654, 0.03209422528743744, -0.028960898518562317, 0.10243777185678482, 0.37101802229881287, 0.03003474324941635, -0.14081616699695587, 0.0822419822216034, -0.04733588173985481, 0.40596482157707214, -0.049718037247657776, -0.015790557488799095, -0.02763543091714382, -0.05645563453435898, -0.41255465149879456, -0.043932121247053146, -0.0026129151228815317, 0.08610960841178894, 0.08338091522455215, -0.028666149824857712, -0.035217709839344025, 0.09440366178750992, 0.0034119829069823027, 0.04762693867087364, 0.06912023574113846, 0.38691455125808716, -0.002569009317085147, 0.26043087244033813, -0.019332000985741615, -0.030137361958622932, 0.04729225113987923, -0.08990536630153656, 0.018489131703972816, 0.27838194370269775, -0.1926059126853943, -0.027918528765439987, -0.0015509489458054304, -0.024923862889409065, 0.287223756313324, 0.06389553844928741, 0.043940767645835876, 0.1684550791978836, 0.07319523394107819, 0.05603395774960518, -0.33113110065460205, 0.06491468101739883, -0.02773958258330822, -0.010900946334004402, -0.011759825982153416, 0.306911438703537, 0.1645604968070984, -0.08490407466888428, 0.18242089450359344, -0.01849856786429882, 0.13970910012722015, 0.05009164661169052, -0.018427737057209015, -0.2855626046657562, 0.12762829661369324, 0.24197794497013092, 0.021400125697255135, -0.03443314507603645, 0.05826502665877342, 0.22602207958698273, 0.023480059579014778, -0.042498182505369186, 0.1334853619337082, 0.00817685667425394, -0.0018107328796759248, 0.3526093363761902, -0.05633324384689331, 0.005793204065412283, 0.15842817723751068, -0.20752516388893127, -0.03837733343243599, -0.4111364781856537, -0.04864591360092163, 0.34289246797561646, 0.3392927646636963, -0.09114076942205429, -0.24149461090564728, -0.04415193200111389, -0.0027404914144426584, 0.004368527792394161, 0.3846571743488312, 0.012112724594771862, -0.28313878178596497, 0.03268011659383774, 0.02880321815609932, 0.2974061369895935, 0.016201060265302658, -0.055248089134693146, -0.15380379557609558, 0.038364775478839874, 0.05492641031742096, 0.15821054577827454, 0.01745625212788582, 0.03016604669392109, -0.07424573600292206, -0.2557103931903839, -0.029243605211377144, -0.024178626015782356, 0.047114141285419464, -0.02558373473584652, -0.040101006627082825, -0.03570980206131935, -0.04584033042192459, 0.05656789243221283, -0.005983809474855661, 0.0299348384141922, 0.32154643535614014, 0.4578913748264313, -0.15032514929771423, 0.07364793866872787, -0.04104795679450035, 0.06685950607061386, 0.024257821962237358, 0.14181995391845703, -0.029550466686487198, 0.2944961190223694, 0.028111353516578674, 0.14710859954357147, -0.2846343219280243, 0.020166371017694473, -0.10448653250932693, -0.08258911967277527, 0.1271854043006897, -0.13424789905548096, 0.017973095178604126, 0.2042178362607956, -0.2545304000377655, -0.258352667093277, 0.037359535694122314, 0.4514685571193695, -0.02232704684138298, 0.031843386590480804, -0.05571962147951126, -0.23723968863487244, 0.11459647864103317, -0.35628899931907654, -0.06780166178941727, 0.0840294286608696, -0.3404061198234558, -0.01339011825621128, 0.15745960175991058, 0.2531041204929352, 0.03889862447977066, -0.07813642174005508, -0.28363358974456787, -0.011346312239766121, 0.1421440839767456, 0.15202030539512634, 0.39095690846443176, 0.05265071988105774, -0.22821013629436493, -0.23074284195899963, 0.15773463249206543, 0.04784476384520531, 0.025106996297836304, 0.10249677300453186, 0.25077515840530396, -0.07893919944763184, -0.03406684100627899, -0.3607099652290344, -0.010923082008957863, -0.2843233048915863, 0.016220496967434883, 0.058886487036943436, 0.09353666007518768, -0.30412110686302185, 0.006569572724401951, -0.0664762556552887, -0.09005451947450638, -0.002296141581609845, 0.009523299522697926, 0.13267183303833008, -0.023873087018728256, -0.22819699347019196, -0.07332104444503784, 0.1297164410352707, -0.17761607468128204, -0.001866543316282332, 0.04323050007224083, -0.05744422599673271, -0.028138888999819756, 0.1977972835302353, -0.11251924186944962, -0.4058172404766083, -0.04857230931520462, -0.17760032415390015, 0.07713162899017334, 0.0936867818236351, 0.19240397214889526, 0.007807448040693998, -0.06679511815309525, -0.2893373966217041, 0.002788846381008625, 0.022533075883984566, 0.04750340059399605, -0.03210863098502159, 0.28606340289115906, 0.050243716686964035, -0.05599639564752579, -0.34924936294555664, 0.3726426959037781, -0.4118501842021942, -0.045812077820301056, -0.1201956495642662, -0.0376911424100399, -0.09595368802547455, 0.4826143980026245, -0.05474488437175751, -0.03520221263170242, 0.2672261893749237, -0.09382113069295883, -0.00040479889139533043, 0.25510373711586, 0.06810369342565536, 0.1071055606007576, 0.019165948033332825, -0.002748680766671896, 0.2739543318748474, -0.08750162273645401, 0.08513730764389038, 0.020924588665366173, -0.0011202130699530244, -0.06633341312408447, 0.11490455269813538, 0.06359047442674637, -0.21986408531665802, -0.118541419506073, -0.018770337104797363, -0.00017364052473567426, -0.2876395285129547, 0.2820275127887726, -0.11761250346899033, 0.021766506135463715, 0.02717985399067402, 0.027546534314751625, -0.13415378332138062, -0.20927435159683228, -0.3213341236114502, 0.22048723697662354, -0.22583401203155518, -0.0008218772709369659, 0.10067909955978394, 0.11793531477451324, -0.2962800860404968, 0.17605331540107727, -0.1266331821680069, 0.021282650530338287, 0.2929592430591583, -0.143527090549469, -0.0011434908956289291, 0.30921441316604614, -0.3017328679561615, 0.03114338405430317, -0.026350822299718857, -0.06747011095285416, -0.4140695333480835, -0.03327692672610283, -0.018929101526737213, 0.4072466492652893, 0.014940342865884304, -0.08641006797552109, -0.11547566205263138, -0.2761229872703552, -0.014082930982112885, -0.042009249329566956, -0.1037476509809494, 0.06023737043142319, -0.009921710006892681, 0.02897045575082302, 0.04162520915269852, 0.3202812373638153, 0.07294640690088272, -0.19095474481582642, -0.0019330850336700678, 0.3031046688556671, -0.14089356362819672, 0.31157004833221436, -0.002311653457581997, -0.43410712480545044, 0.2907240390777588, 0.12009696662425995, -0.10557568073272705, -0.4433935880661011, -0.07210885733366013, 0.28155064582824707, 0.05366205796599388, 0.01860121078789234, 0.10488840192556381, 0.07286693155765533, 0.1326325535774231, 0.3192591667175293, 0.025270327925682068, -0.1530478447675705, 0.07662598043680191, -0.17941096425056458, 0.017394911497831345, 0.10728307068347931, 0.020735716447234154, -0.061163391917943954, -0.18188410997390747, -0.30175113677978516, 0.09344563633203506, -0.05945054814219475, -0.03384235128760338, -0.11712773144245148, 0.04328064247965813, 0.08989451825618744, 0.15403300523757935, -0.04598105698823929, 0.29158124327659607, -0.06904704868793488, 0.03748629614710808, 0.42221787571907043, -0.11642273515462875, -0.07056117802858353, -0.3503248393535614, -0.140924870967865, 0.027820803225040436, -0.04877455532550812, -0.006144682876765728, 0.017893752083182335, -0.03270909935235977, 0.08698900043964386, 0.021686814725399017, -0.07878801971673965, -0.29405829310417175, 0.4165444076061249, 0.021439936012029648, 0.15321440994739532, 0.00019428766972851008, -0.2707064747810364, -0.0518999807536602, -0.08197107911109924, 0.2238084077835083, -0.007126903161406517, -0.3441333770751953, 0.30517929792404175, -0.21682928502559662, -0.2572029232978821, -0.10304876416921616, 0.32545459270477295, 0.025911301374435425, -0.024633750319480896, 0.026756657287478447, -0.18429259955883026, -0.4425865411758423, -0.319428026676178, 0.37706413865089417, -0.013456632383167744, -0.06773187220096588, 0.05493650585412979, -0.35387539863586426, -0.07455788552761078, -0.039645709097385406, -0.3071171045303345, 0.28084129095077515, 0.039498548954725266, -0.16540876030921936, -0.3789696991443634, 0.16112659871578217, 0.053265661001205444, 0.09695377945899963, -0.014566837809979916, 0.24437415599822998, 0.06940412521362305, -0.06967467814683914, -0.11275903135538101, 0.2545894682407379, -0.09305128455162048, -0.07021470367908478, 0.20272575318813324, 0.09483064711093903, -0.17028506100177765, -0.22523990273475647, 0.02459585666656494, 0.0300566628575325, 0.13368050754070282, 0.034499626606702805, 0.40590450167655945, -0.11033587902784348, -0.030918242409825325, 0.04746917635202408, -0.40787163376808167, 0.013471187092363834, -0.045057330280542374, 0.23162680864334106, -0.013338147662580013, 0.011080275289714336, 0.5025847554206848, 0.27422434091567993, -0.04604393243789673, 0.13427065312862396, -0.32963186502456665, 0.0389380045235157, -0.30396950244903564, -0.03926582634449005, -0.07297804951667786, 0.0020896000787615776, -0.06270458549261093, -0.24971330165863037, -0.05408180505037308, -0.2322400063276291, -0.14388036727905273, -0.11415426433086395, 0.13547338545322418, 0.0917809009552002, -0.17592236399650574, -0.05794267728924751, 0.4511100649833679, -0.30260518193244934, 0.018056781962513924, 0.06557831168174744, 0.01398898009210825, 0.1390582025051117, -0.003521304577589035, -0.008318817242980003, -0.029561100527644157, 0.3554062247276306, -0.010153240524232388, 0.1414056420326233, -0.0009804344736039639, 0.009298316203057766, -0.0428716205060482, -0.06496774405241013, -0.05441804602742195, -0.04162837564945221, 0.07499635219573975, 0.36873066425323486, -0.05574491247534752, -0.022100506350398064, -0.0422600582242012, -0.25039756298065186, -0.4491102397441864, 0.08523131906986237, 0.10108820348978043, 0.07730383425951004, 0.020619546994566917, 0.3264234662055969, 0.1809270679950714, -0.0120371850207448, 0.053790152072906494, -0.005001572426408529, 0.1108614131808281, 0.012839013710618019, -0.040256399661302567, 0.17439833283424377, 0.10181096196174622, 0.017237070947885513, 0.22927896678447723, -0.14868594706058502, -0.29759344458580017, -0.007005635183304548, 0.11976401507854462, 0.2778892517089844, -0.2317640781402588, -0.28877073526382446, -0.11874476075172424, 0.4322722554206848, -0.03944088891148567, 0.41273558139801025, 0.11444523930549622, 0.009254777804017067, -0.02900354191660881, 0.07817450165748596, -0.06540922820568085, 0.3604660630226135, -0.11982320249080658, -0.15397308766841888, -0.2834416925907135, 0.25502702593803406, 0.24030785262584686, -0.3702743649482727, 0.30864906311035156, 0.021040890365839005, -0.05245736613869667, 0.02284807153046131, -0.029503410682082176, -0.0005419809021987021, 0.19374307990074158, -0.049763455986976624, -0.23124320805072784, 0.30021077394485474, 0.08222323656082153, -0.19435054063796997, 0.058688923716545105, 0.1052573025226593, 0.28871577978134155, -0.0786200687289238, 0.008006270974874496, 0.00012206161045469344, 0.2796521484851837, -0.027606084942817688, 0.15225446224212646, -0.2983272969722748, 0.08351258188486099, 0.03602373227477074, -0.018719201907515526, -0.01061282493174076, 0.0598507784307003, -0.09252478182315826, -0.03893202170729637, 0.07614578306674957, -0.12562963366508484, -0.03289836272597313, -0.02088400535285473, -0.0025527840480208397, -0.11584928631782532]}],\n",
              "                        {\"template\": {\"data\": {\"bar\": [{\"error_x\": {\"color\": \"#2a3f5f\"}, \"error_y\": {\"color\": \"#2a3f5f\"}, \"marker\": {\"line\": {\"color\": \"#E5ECF6\", \"width\": 0.5}}, \"type\": \"bar\"}], \"barpolar\": [{\"marker\": {\"line\": {\"color\": \"#E5ECF6\", \"width\": 0.5}}, \"type\": \"barpolar\"}], \"carpet\": [{\"aaxis\": {\"endlinecolor\": \"#2a3f5f\", \"gridcolor\": \"white\", \"linecolor\": \"white\", \"minorgridcolor\": \"white\", \"startlinecolor\": \"#2a3f5f\"}, \"baxis\": {\"endlinecolor\": \"#2a3f5f\", \"gridcolor\": \"white\", \"linecolor\": \"white\", \"minorgridcolor\": \"white\", \"startlinecolor\": \"#2a3f5f\"}, \"type\": \"carpet\"}], \"choropleth\": [{\"colorbar\": {\"outlinewidth\": 0, \"ticks\": \"\"}, \"type\": \"choropleth\"}], \"contour\": [{\"colorbar\": {\"outlinewidth\": 0, \"ticks\": \"\"}, \"colorscale\": [[0.0, \"#0d0887\"], [0.1111111111111111, \"#46039f\"], [0.2222222222222222, \"#7201a8\"], [0.3333333333333333, \"#9c179e\"], [0.4444444444444444, \"#bd3786\"], [0.5555555555555556, \"#d8576b\"], [0.6666666666666666, \"#ed7953\"], [0.7777777777777778, \"#fb9f3a\"], [0.8888888888888888, \"#fdca26\"], [1.0, \"#f0f921\"]], \"type\": \"contour\"}], \"contourcarpet\": [{\"colorbar\": {\"outlinewidth\": 0, \"ticks\": \"\"}, \"type\": \"contourcarpet\"}], \"heatmap\": [{\"colorbar\": {\"outlinewidth\": 0, \"ticks\": \"\"}, \"colorscale\": [[0.0, \"#0d0887\"], [0.1111111111111111, \"#46039f\"], [0.2222222222222222, \"#7201a8\"], [0.3333333333333333, \"#9c179e\"], [0.4444444444444444, \"#bd3786\"], [0.5555555555555556, \"#d8576b\"], [0.6666666666666666, \"#ed7953\"], [0.7777777777777778, \"#fb9f3a\"], [0.8888888888888888, \"#fdca26\"], [1.0, \"#f0f921\"]], \"type\": \"heatmap\"}], \"heatmapgl\": [{\"colorbar\": {\"outlinewidth\": 0, \"ticks\": \"\"}, \"colorscale\": [[0.0, \"#0d0887\"], [0.1111111111111111, \"#46039f\"], [0.2222222222222222, \"#7201a8\"], [0.3333333333333333, \"#9c179e\"], [0.4444444444444444, \"#bd3786\"], [0.5555555555555556, \"#d8576b\"], [0.6666666666666666, \"#ed7953\"], [0.7777777777777778, \"#fb9f3a\"], [0.8888888888888888, \"#fdca26\"], [1.0, \"#f0f921\"]], \"type\": \"heatmapgl\"}], \"histogram\": [{\"marker\": {\"colorbar\": {\"outlinewidth\": 0, \"ticks\": \"\"}}, \"type\": \"histogram\"}], \"histogram2d\": [{\"colorbar\": {\"outlinewidth\": 0, \"ticks\": \"\"}, \"colorscale\": [[0.0, \"#0d0887\"], [0.1111111111111111, \"#46039f\"], [0.2222222222222222, \"#7201a8\"], [0.3333333333333333, \"#9c179e\"], [0.4444444444444444, \"#bd3786\"], [0.5555555555555556, \"#d8576b\"], [0.6666666666666666, \"#ed7953\"], [0.7777777777777778, \"#fb9f3a\"], [0.8888888888888888, \"#fdca26\"], [1.0, \"#f0f921\"]], \"type\": \"histogram2d\"}], \"histogram2dcontour\": [{\"colorbar\": {\"outlinewidth\": 0, \"ticks\": \"\"}, \"colorscale\": [[0.0, \"#0d0887\"], [0.1111111111111111, \"#46039f\"], [0.2222222222222222, \"#7201a8\"], [0.3333333333333333, \"#9c179e\"], [0.4444444444444444, \"#bd3786\"], [0.5555555555555556, \"#d8576b\"], [0.6666666666666666, \"#ed7953\"], [0.7777777777777778, \"#fb9f3a\"], [0.8888888888888888, \"#fdca26\"], [1.0, \"#f0f921\"]], \"type\": \"histogram2dcontour\"}], \"mesh3d\": [{\"colorbar\": {\"outlinewidth\": 0, \"ticks\": \"\"}, \"type\": \"mesh3d\"}], \"parcoords\": [{\"line\": {\"colorbar\": {\"outlinewidth\": 0, \"ticks\": \"\"}}, \"type\": \"parcoords\"}], \"pie\": [{\"automargin\": true, \"type\": \"pie\"}], \"scatter\": [{\"marker\": {\"colorbar\": {\"outlinewidth\": 0, \"ticks\": \"\"}}, \"type\": \"scatter\"}], \"scatter3d\": [{\"line\": {\"colorbar\": {\"outlinewidth\": 0, \"ticks\": \"\"}}, \"marker\": {\"colorbar\": {\"outlinewidth\": 0, \"ticks\": \"\"}}, \"type\": \"scatter3d\"}], \"scattercarpet\": [{\"marker\": {\"colorbar\": {\"outlinewidth\": 0, \"ticks\": \"\"}}, \"type\": \"scattercarpet\"}], \"scattergeo\": [{\"marker\": {\"colorbar\": {\"outlinewidth\": 0, \"ticks\": \"\"}}, \"type\": \"scattergeo\"}], \"scattergl\": [{\"marker\": {\"colorbar\": {\"outlinewidth\": 0, \"ticks\": \"\"}}, \"type\": \"scattergl\"}], \"scattermapbox\": [{\"marker\": {\"colorbar\": {\"outlinewidth\": 0, \"ticks\": \"\"}}, \"type\": \"scattermapbox\"}], \"scatterpolar\": [{\"marker\": {\"colorbar\": {\"outlinewidth\": 0, \"ticks\": \"\"}}, \"type\": \"scatterpolar\"}], \"scatterpolargl\": [{\"marker\": {\"colorbar\": {\"outlinewidth\": 0, \"ticks\": \"\"}}, \"type\": \"scatterpolargl\"}], \"scatterternary\": [{\"marker\": {\"colorbar\": {\"outlinewidth\": 0, \"ticks\": \"\"}}, \"type\": \"scatterternary\"}], \"surface\": [{\"colorbar\": {\"outlinewidth\": 0, \"ticks\": \"\"}, \"colorscale\": [[0.0, \"#0d0887\"], [0.1111111111111111, \"#46039f\"], [0.2222222222222222, \"#7201a8\"], [0.3333333333333333, \"#9c179e\"], [0.4444444444444444, \"#bd3786\"], [0.5555555555555556, \"#d8576b\"], [0.6666666666666666, \"#ed7953\"], [0.7777777777777778, \"#fb9f3a\"], [0.8888888888888888, \"#fdca26\"], [1.0, \"#f0f921\"]], \"type\": \"surface\"}], \"table\": [{\"cells\": {\"fill\": {\"color\": \"#EBF0F8\"}, \"line\": {\"color\": \"white\"}}, \"header\": {\"fill\": {\"color\": \"#C8D4E3\"}, \"line\": {\"color\": \"white\"}}, \"type\": \"table\"}]}, \"layout\": {\"annotationdefaults\": {\"arrowcolor\": \"#2a3f5f\", \"arrowhead\": 0, \"arrowwidth\": 1}, \"coloraxis\": {\"colorbar\": {\"outlinewidth\": 0, \"ticks\": \"\"}}, \"colorscale\": {\"diverging\": [[0, \"#8e0152\"], [0.1, \"#c51b7d\"], [0.2, \"#de77ae\"], [0.3, \"#f1b6da\"], [0.4, \"#fde0ef\"], [0.5, \"#f7f7f7\"], [0.6, \"#e6f5d0\"], [0.7, \"#b8e186\"], [0.8, \"#7fbc41\"], [0.9, \"#4d9221\"], [1, \"#276419\"]], \"sequential\": [[0.0, \"#0d0887\"], [0.1111111111111111, \"#46039f\"], [0.2222222222222222, \"#7201a8\"], [0.3333333333333333, \"#9c179e\"], [0.4444444444444444, \"#bd3786\"], [0.5555555555555556, \"#d8576b\"], [0.6666666666666666, \"#ed7953\"], [0.7777777777777778, \"#fb9f3a\"], [0.8888888888888888, \"#fdca26\"], [1.0, \"#f0f921\"]], \"sequentialminus\": [[0.0, \"#0d0887\"], [0.1111111111111111, \"#46039f\"], [0.2222222222222222, \"#7201a8\"], [0.3333333333333333, \"#9c179e\"], [0.4444444444444444, \"#bd3786\"], [0.5555555555555556, \"#d8576b\"], [0.6666666666666666, \"#ed7953\"], [0.7777777777777778, \"#fb9f3a\"], [0.8888888888888888, \"#fdca26\"], [1.0, \"#f0f921\"]]}, \"colorway\": [\"#636efa\", \"#EF553B\", \"#00cc96\", \"#ab63fa\", \"#FFA15A\", \"#19d3f3\", \"#FF6692\", \"#B6E880\", \"#FF97FF\", \"#FECB52\"], \"font\": {\"color\": \"#2a3f5f\"}, \"geo\": {\"bgcolor\": \"white\", \"lakecolor\": \"white\", \"landcolor\": \"#E5ECF6\", \"showlakes\": true, \"showland\": true, \"subunitcolor\": \"white\"}, \"hoverlabel\": {\"align\": \"left\"}, \"hovermode\": \"closest\", \"mapbox\": {\"style\": \"light\"}, \"paper_bgcolor\": \"white\", \"plot_bgcolor\": \"#E5ECF6\", \"polar\": {\"angularaxis\": {\"gridcolor\": \"white\", \"linecolor\": \"white\", \"ticks\": \"\"}, \"bgcolor\": \"#E5ECF6\", \"radialaxis\": {\"gridcolor\": \"white\", \"linecolor\": \"white\", \"ticks\": \"\"}}, \"scene\": {\"xaxis\": {\"backgroundcolor\": \"#E5ECF6\", \"gridcolor\": \"white\", \"gridwidth\": 2, \"linecolor\": \"white\", \"showbackground\": true, \"ticks\": \"\", \"zerolinecolor\": \"white\"}, \"yaxis\": {\"backgroundcolor\": \"#E5ECF6\", \"gridcolor\": \"white\", \"gridwidth\": 2, \"linecolor\": \"white\", \"showbackground\": true, \"ticks\": \"\", \"zerolinecolor\": \"white\"}, \"zaxis\": {\"backgroundcolor\": \"#E5ECF6\", \"gridcolor\": \"white\", \"gridwidth\": 2, \"linecolor\": \"white\", \"showbackground\": true, \"ticks\": \"\", \"zerolinecolor\": \"white\"}}, \"shapedefaults\": {\"line\": {\"color\": \"#2a3f5f\"}}, \"ternary\": {\"aaxis\": {\"gridcolor\": \"white\", \"linecolor\": \"white\", \"ticks\": \"\"}, \"baxis\": {\"gridcolor\": \"white\", \"linecolor\": \"white\", \"ticks\": \"\"}, \"bgcolor\": \"#E5ECF6\", \"caxis\": {\"gridcolor\": \"white\", \"linecolor\": \"white\", \"ticks\": \"\"}}, \"title\": {\"x\": 0.05}, \"xaxis\": {\"automargin\": true, \"gridcolor\": \"white\", \"linecolor\": \"white\", \"ticks\": \"\", \"title\": {\"standoff\": 15}, \"zerolinecolor\": \"white\", \"zerolinewidth\": 2}, \"yaxis\": {\"automargin\": true, \"gridcolor\": \"white\", \"linecolor\": \"white\", \"ticks\": \"\", \"title\": {\"standoff\": 15}, \"zerolinecolor\": \"white\", \"zerolinewidth\": 2}}}},\n",
              "                        {\"responsive\": true}\n",
              "                    ).then(function(){\n",
              "                            \n",
              "var gd = document.getElementById('72f89972-5e17-402a-882f-3bd2cba25661');\n",
              "var x = new MutationObserver(function (mutations, observer) {{\n",
              "        var display = window.getComputedStyle(gd).display;\n",
              "        if (!display || display === 'none') {{\n",
              "            console.log([gd, 'removed!']);\n",
              "            Plotly.purge(gd);\n",
              "            observer.disconnect();\n",
              "        }}\n",
              "}});\n",
              "\n",
              "// Listen for the removal of the full notebook cells\n",
              "var notebookContainer = gd.closest('#notebook-container');\n",
              "if (notebookContainer) {{\n",
              "    x.observe(notebookContainer, {childList: true});\n",
              "}}\n",
              "\n",
              "// Listen for the clearing of the current output cell\n",
              "var outputEl = gd.closest('.output');\n",
              "if (outputEl) {{\n",
              "    x.observe(outputEl, {childList: true});\n",
              "}}\n",
              "\n",
              "                        })\n",
              "                };\n",
              "                \n",
              "            </script>\n",
              "        </div>\n",
              "</body>\n",
              "</html>"
            ]
          },
          "metadata": {
            "tags": []
          }
        }
      ]
    }
  ]
}